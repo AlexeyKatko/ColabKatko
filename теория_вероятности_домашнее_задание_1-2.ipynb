{
  "nbformat": 4,
  "nbformat_minor": 0,
  "metadata": {
    "colab": {
      "provenance": [],
      "authorship_tag": "ABX9TyPfriCie9fs/Y0L1L42FDzJ",
      "include_colab_link": true
    },
    "kernelspec": {
      "name": "python3",
      "display_name": "Python 3"
    },
    "language_info": {
      "name": "python"
    }
  },
  "cells": [
    {
      "cell_type": "markdown",
      "metadata": {
        "id": "view-in-github",
        "colab_type": "text"
      },
      "source": [
        "<a href=\"https://colab.research.google.com/github/AlexeyKatko/ColabKatko/blob/main/%D1%82%D0%B5%D0%BE%D1%80%D0%B8%D1%8F_%D0%B2%D0%B5%D1%80%D0%BE%D1%8F%D1%82%D0%BD%D0%BE%D1%81%D1%82%D0%B8_%D0%B4%D0%BE%D0%BC%D0%B0%D1%88%D0%BD%D0%B5%D0%B5_%D0%B7%D0%B0%D0%B4%D0%B0%D0%BD%D0%B8%D0%B5_1-2.ipynb\" target=\"_parent\"><img src=\"https://colab.research.google.com/assets/colab-badge.svg\" alt=\"Open In Colab\"/></a>"
      ]
    },
    {
      "cell_type": "markdown",
      "source": [
        "# Урок 1. Расчет вероятности случайных событий"
      ],
      "metadata": {
        "id": "slTgL_v4Mojp"
      }
    },
    {
      "cell_type": "markdown",
      "source": [
        "## Задача 1\n"
      ],
      "metadata": {
        "id": "wd7yXFnxMhVL"
      }
    },
    {
      "cell_type": "markdown",
      "source": [
        "Из колоды в 52 карты извлекаются случайным образом 4 карты. a) Найти вероятность того, что все карты – крести. б) Найти вероятность, что среди 4-х карт окажется хотя бы один туз."
      ],
      "metadata": {
        "id": "a6Wy94VVNR_k"
      }
    },
    {
      "cell_type": "markdown",
      "source": [
        "### Решение 1.1\n",
        "a) В колоде из 52 листов $\\\\С\\frac{4}{52}=13$ карт одной масти.\n",
        "Воспользуемся формулой подсчета количества сочетаний по $k$ элементов из множества $n$:\n",
        "$\\\\ C^k_n=С\\frac{n!}{k!(n-k)!}$\n",
        "\n",
        "И классической формулой вероятности:\n",
        "  $\\\\ P(A)=С\\frac{m}{n}$\n",
        "  \n",
        "  где $m$-число **благоприятных** исходов, $n$-общее число **всех** исходов.\n",
        "в нашем случае $\\\\P (A)=C\\frac{4}{52}$-т.е. количество способов извлечь 4 карты из 52, а $\\\\ m=C\\frac{4}{13}$, способов извлечь 4 карты одной масти.\n",
        "Для облегчения расчетов напишем функцию:"
      ],
      "metadata": {
        "id": "EVzdbJ5YM7wO"
      }
    },
    {
      "cell_type": "code",
      "source": [
        "from math import factorial\n",
        "def combinations(n, k):\n",
        "    return int(factorial(n) / (factorial(k) * factorial(n - k)))"
      ],
      "metadata": {
        "id": "XzA6ZyTvTZN3"
      },
      "execution_count": 2,
      "outputs": []
    },
    {
      "cell_type": "code",
      "source": [
        "# Вычислим m\n",
        "m=combinations(13, 4)\n",
        "print(f'm = {m}')"
      ],
      "metadata": {
        "colab": {
          "base_uri": "https://localhost:8080/"
        },
        "id": "LuZKDkr1TgZt",
        "outputId": "68943652-d3a9-463d-e781-8c0723644ad3"
      },
      "execution_count": 3,
      "outputs": [
        {
          "output_type": "stream",
          "name": "stdout",
          "text": [
            "m = 715\n"
          ]
        }
      ]
    },
    {
      "cell_type": "code",
      "source": [
        "# Вычислим n\n",
        "n=combinations(52, 4)\n",
        "print(f'n = {n}')"
      ],
      "metadata": {
        "colab": {
          "base_uri": "https://localhost:8080/"
        },
        "id": "Aj9rGhmXTsFw",
        "outputId": "2946ce37-c639-47ab-eb7e-4ee1b64a3b63"
      },
      "execution_count": 4,
      "outputs": [
        {
          "output_type": "stream",
          "name": "stdout",
          "text": [
            "n = 270725\n"
          ]
        }
      ]
    },
    {
      "cell_type": "code",
      "source": [
        "# Найдем вероятность Р(4крести)\n",
        "P=m/n\n",
        "print(f'P(4 крести) = {round(P,4)}')"
      ],
      "metadata": {
        "colab": {
          "base_uri": "https://localhost:8080/"
        },
        "id": "yG0EuvlEUjg1",
        "outputId": "fcf36e6c-43c4-4299-e7fb-72f5ed93c79f"
      },
      "execution_count": 5,
      "outputs": [
        {
          "output_type": "stream",
          "name": "stdout",
          "text": [
            "P(4 крести) = 0.0026\n"
          ]
        }
      ]
    },
    {
      "cell_type": "markdown",
      "source": [
        "Либо, из классической формулы вероятности следует, что вероятность извлечь\n",
        "\n",
        "первой картой из 4-х крестовую: 13/52,\n",
        "\n",
        "вторую крестовую: 12/51;\n",
        "\n",
        "третью крестовую: 11/52;\n",
        "\n",
        "четвертую: 10/49.\n",
        "\n",
        "А поскольку, по условию и первая, и вторая, и третья, и четвертая должны быть крестовые, то P(4крести)\n",
        "Вычислим:"
      ],
      "metadata": {
        "id": "E3lERyJ7U_XH"
      }
    },
    {
      "cell_type": "code",
      "source": [
        "P1=13/52*12/51*11/50*10/49\n",
        "print(f'P(4 крести) = {round(P1,4)}')"
      ],
      "metadata": {
        "colab": {
          "base_uri": "https://localhost:8080/"
        },
        "id": "TeQPyuRBZb1e",
        "outputId": "093047ca-c618-4a1a-fcf5-c79937700190"
      },
      "execution_count": 6,
      "outputs": [
        {
          "output_type": "stream",
          "name": "stdout",
          "text": [
            "P(4 крести) = 0.0026\n"
          ]
        }
      ]
    },
    {
      "cell_type": "markdown",
      "source": [
        "#### Решение 1.2"
      ],
      "metadata": {
        "id": "gq7gAeCPihNj"
      }
    },
    {
      "cell_type": "markdown",
      "source": [
        "б) в этом случае так же общее число исходов n=C\\frac{4}{52}\n",
        ", а\n",
        " будет складываться из 4 вариантов:\n",
        "\n",
        "1. из 4-х карт 1 туз:\n",
        "число способов достать 1 туз из 4-х: С^1_4\n",
        ", число способов достать три остальные карты С\n",
        ", общее количество сочетаний 1 туз и 3 не туза\n",
        "С\n",
        "из 4-х карт 2 туза:\n",
        "число способов достать 2 туза из 4-х\n",
        ", число способов достать две остальные карты С\n",
        ", общее количество сочетаний 2 туза и 2 не туза\n",
        "С\n",
        "из 4-х карт 3 туза:\n",
        "число способов достать 3 туза из 4-х\n",
        ", число способов достать оставшуюся карту С\n",
        ", общее количество сочетаний 3 туза и 1 не туз\n",
        "С\n",
        "из 4-х карт 4 туза:\n",
        "число способов достать 4 туза из 4-х\n",
        "Общее число благоприятных исходов-сумма этих 4 вариантов.\n",
        "Вычислим:"
      ],
      "metadata": {
        "id": "gDX1cs26dh7t"
      }
    },
    {
      "cell_type": "code",
      "source": [
        "# Общее число благоприятных исходов-сумма этих 4 вариантов.\n",
        "n=combinations(52, 4)\n",
        "print(f'n = {n}')"
      ],
      "metadata": {
        "colab": {
          "base_uri": "https://localhost:8080/"
        },
        "id": "r0VCJXF8f-oe",
        "outputId": "843cc2c0-cac5-4694-f7b7-8756927feb99"
      },
      "execution_count": 7,
      "outputs": [
        {
          "output_type": "stream",
          "name": "stdout",
          "text": [
            "n = 270725\n"
          ]
        }
      ]
    },
    {
      "cell_type": "code",
      "source": [
        "m=sum([combinations(4,1)*combinations(48,3),combinations(4,2)*combinations(48,2),combinations(4,3)*combinations(48,1),1])\n",
        "print(f'm = {m}')"
      ],
      "metadata": {
        "colab": {
          "base_uri": "https://localhost:8080/"
        },
        "id": "_VDGdZVagNyo",
        "outputId": "8a135ff0-c236-494f-eb53-432dd7a6712c"
      },
      "execution_count": 8,
      "outputs": [
        {
          "output_type": "stream",
          "name": "stdout",
          "text": [
            "m = 76145\n"
          ]
        }
      ]
    },
    {
      "cell_type": "code",
      "source": [
        "# Найдем вероятность Р(хотя бы 1 туз)\n",
        "P=m/n\n",
        "print(f'P(хотя бы 1 туз) = {round(P,4)}')"
      ],
      "metadata": {
        "colab": {
          "base_uri": "https://localhost:8080/"
        },
        "id": "mvEVF05AgQvH",
        "outputId": "f8dca4a0-1f45-43db-fe1c-e5df86ffaa99"
      },
      "execution_count": 9,
      "outputs": [
        {
          "output_type": "stream",
          "name": "stdout",
          "text": [
            "P(хотя бы 1 туз) = 0.2813\n"
          ]
        }
      ]
    },
    {
      "cell_type": "markdown",
      "source": [
        "Ответ:\n",
        "\n",
        "а) Р(4 трефы) ≈ 0.0026 ≈ 0.26%;\n",
        "\n",
        "б) P(хотя бы 1 туз) ≈ 0.2813 ≈ 28.13%\n",
        "."
      ],
      "metadata": {
        "id": "yL5R8Ol7goSm"
      }
    },
    {
      "cell_type": "markdown",
      "source": [
        "# Задача 2\n",
        "\n",
        "На входной двери подъезда установлен кодовый замок, содержащий десять кнопок с цифрами от 0 до 9. Код содержит три цифры, которые нужно нажать одновременно. Какова вероятность того, что человек, не знающий код, откроет дверь с первой попытки?"
      ],
      "metadata": {
        "id": "v0orgFw3istL"
      }
    },
    {
      "cell_type": "markdown",
      "source": [
        "## Решение 2.1"
      ],
      "metadata": {
        "id": "VkgHlwPIkZZq"
      }
    },
    {
      "cell_type": "markdown",
      "source": [
        "Так как кнопки нажимаются одновременно, то порядок не важен, и для формулы вероятности $\\\\ P(A)=С\\frac{m}{n}$\n",
        "\n",
        " общее число исходов будет определяться количиством сочетаний 3-х элементов из 10, $\\\\ n=С\\frac{3}{10}$\n",
        ", а количество благоприятных исходов m=1\n",
        "-замок открылся. Вычислим P(A)\n",
        ":"
      ],
      "metadata": {
        "id": "pzRgv0mFixXL"
      }
    },
    {
      "cell_type": "code",
      "source": [
        "P=1/combinations(10,3)\n",
        "print(f'P(открыть с первой попытки) = {round(P,4)}')"
      ],
      "metadata": {
        "colab": {
          "base_uri": "https://localhost:8080/"
        },
        "id": "wPqEhn8PjkN1",
        "outputId": "d0ca6422-c242-4795-db15-411444cb2c1a"
      },
      "execution_count": 10,
      "outputs": [
        {
          "output_type": "stream",
          "name": "stdout",
          "text": [
            "P(открыть с первой попытки) = 0.0083\n"
          ]
        }
      ]
    },
    {
      "cell_type": "markdown",
      "source": [
        "Ответ:\n",
        "\n",
        "P(открыть с первой попытки) ≈ 0.0083 ≈ 0.83%"
      ],
      "metadata": {
        "id": "Pgj_5QLNjtfJ"
      }
    },
    {
      "cell_type": "markdown",
      "source": [
        "# Задача 3\n",
        "\n",
        "В ящике имеется 15 деталей, из которых 9 окрашены. Рабочий случайным образом извлекает 3 детали. Какова вероятность того, что все извлеченные детали окрашены?"
      ],
      "metadata": {
        "id": "3KM1UmNtkiAR"
      }
    },
    {
      "cell_type": "markdown",
      "source": [
        "## Решение 3.1"
      ],
      "metadata": {
        "id": "C7AJQ6WUkmak"
      }
    },
    {
      "cell_type": "markdown",
      "source": [
        "Общее количество исходов будет определяться количеством сочетаний 3 деталей из 15 $\\\\ n=С\\frac{3}{15}$\n",
        ", а количество благоприятных исходов - количеством сочетаний 3-х окрашенных деталей из 9 $\\\\ n=С\\frac{3}{9}$"
      ],
      "metadata": {
        "id": "9i8YEw8gkrhj"
      }
    },
    {
      "cell_type": "code",
      "source": [
        "# Р(3 из 3 окрашены)\n",
        "P=combinations(9,3)/combinations(15,3)\n",
        "print(f'P(3 из 3-х окрашены) = {round(P,4)}')"
      ],
      "metadata": {
        "colab": {
          "base_uri": "https://localhost:8080/"
        },
        "id": "v0PwmMAklI-L",
        "outputId": "ac5f7134-2532-487e-d1bc-1166abccb7aa"
      },
      "execution_count": 11,
      "outputs": [
        {
          "output_type": "stream",
          "name": "stdout",
          "text": [
            "P(3 из 3-х окрашены) = 0.1846\n"
          ]
        }
      ]
    },
    {
      "cell_type": "markdown",
      "source": [
        "ИЛИ:"
      ],
      "metadata": {
        "id": "0ZJmk6BHlccn"
      }
    },
    {
      "cell_type": "code",
      "source": [
        "print(f'P(3 из 3-х окрашены) = {round(9/15*8/14*7/13,4)}')"
      ],
      "metadata": {
        "colab": {
          "base_uri": "https://localhost:8080/"
        },
        "id": "gmIxfZLhleHV",
        "outputId": "6b7521b3-397c-4dad-b451-5cf30b2f095d"
      },
      "execution_count": 12,
      "outputs": [
        {
          "output_type": "stream",
          "name": "stdout",
          "text": [
            "P(3 из 3-х окрашены) = 0.1846\n"
          ]
        }
      ]
    },
    {
      "cell_type": "markdown",
      "source": [
        "Ответ:\n",
        "\n",
        "P(3 из 3 окрашены) ≈ 0.1846 ≈ 18.46%"
      ],
      "metadata": {
        "id": "DBffYtuNloLb"
      }
    },
    {
      "cell_type": "markdown",
      "source": [
        "# Задача 4\n",
        "\n",
        "В лотерее 100 билетов. Из них 2 выигрышных. Какова вероятность того, что 2 приобретенных билета окажутся выигрышными?"
      ],
      "metadata": {
        "id": "w3Z8aO7smGId"
      }
    },
    {
      "cell_type": "markdown",
      "source": [
        "## Решение 4.1"
      ],
      "metadata": {
        "id": "YhWki4jomLdc"
      }
    },
    {
      "cell_type": "markdown",
      "source": [
        "\n",
        "  $\\\\ P(оба\\ выигрышных)=\\frac{1}{C^1_{100}}=\\frac{1}{100!}/{2!(100-2)}= \\frac{2!*98!}{100!}$\n",
        "\n",
        "\n",
        "или\n",
        "\n",
        "$\\\\P({оба\\ выигрышных})=\\frac{1}{100}⋅\\frac{1}{99}$"
      ],
      "metadata": {
        "id": "KCuKnEWfmQx9"
      }
    },
    {
      "cell_type": "code",
      "source": [
        "P=1/combinations(100,2)\n",
        "print(f'P(оба выигрышных = {round(P,4)})')"
      ],
      "metadata": {
        "colab": {
          "base_uri": "https://localhost:8080/"
        },
        "id": "ZL3Z7kjrph-d",
        "outputId": "82b5c15d-16d2-4f94-eaf5-fc123f5ef51e"
      },
      "execution_count": 13,
      "outputs": [
        {
          "output_type": "stream",
          "name": "stdout",
          "text": [
            "P(оба выигрышных = 0.0002)\n"
          ]
        }
      ]
    },
    {
      "cell_type": "markdown",
      "source": [
        "Ответ:\n",
        "\n",
        "P(оба выигрышных) ≈ 0.0002 ≈ 0.02%"
      ],
      "metadata": {
        "id": "wzg8ctNOpoiN"
      }
    },
    {
      "cell_type": "markdown",
      "source": [
        "# Урок 2. Дискретные распределения вероятностей"
      ],
      "metadata": {
        "id": "Qv86_bFUyzgn"
      }
    },
    {
      "cell_type": "markdown",
      "source": [
        "## Задача 1\n",
        "\n",
        "Вероятность того, что стрелок попадет в мишень, выстрелив один раз, равна 0.8. Стрелок выстрелил 100 раз. Найдите вероятность того, что стрелок попадет в цель ровно 85 раз."
      ],
      "metadata": {
        "id": "wfYOCc8ty8iz"
      }
    },
    {
      "cell_type": "markdown",
      "source": [
        "### Решение 1.1"
      ],
      "metadata": {
        "id": "YYaJ_BLRzIA1"
      }
    },
    {
      "cell_type": "markdown",
      "source": [
        "Для решения данной задачи воспользуемся формулой Бернулли: $\\\\ P_n(X=k)=C^k_np^kq^{n-k}$, где n=100k=85p=0.8q=0.2 тогда:\n",
        "$\\\\ P_{100}(X=85)=C^{85}_{100}⋅0.8^{85}⋅0.2^{15}= \\frac{100}{85!(100-85)!}⋅0.8^{85}⋅0.2^{15}$"
      ],
      "metadata": {
        "id": "mQIewgxuzPoK"
      }
    },
    {
      "cell_type": "code",
      "source": [
        "from math import factorial, exp\n",
        "def bernulli(n, k, p):\n",
        "    comb=factorial(n)/(factorial(k)*factorial(n-k))\n",
        "    return comb*(p**k)*(1-p)**(n-k)"
      ],
      "metadata": {
        "id": "jSPgrAnz532L"
      },
      "execution_count": 14,
      "outputs": []
    },
    {
      "cell_type": "code",
      "source": [
        "print(f'P = {bernulli(100,85,0.8): .4f}')"
      ],
      "metadata": {
        "colab": {
          "base_uri": "https://localhost:8080/"
        },
        "id": "glc479uh573S",
        "outputId": "99e8a440-be8c-455f-c659-b6823215ee71"
      },
      "execution_count": 15,
      "outputs": [
        {
          "output_type": "stream",
          "name": "stdout",
          "text": [
            "P =  0.0481\n"
          ]
        }
      ]
    },
    {
      "cell_type": "markdown",
      "source": [
        "Ответ:\n",
        "\n",
        "Вероятность того, что стрелок попадет в цель ровно 85 раз: P =  0.0481 = 4.81%"
      ],
      "metadata": {
        "id": "bMmKmnZk6BNj"
      }
    },
    {
      "cell_type": "markdown",
      "source": [
        "## Задача 2\n",
        "\n",
        "Вероятность того, что лампочка перегорит в течение первого дня эксплуатации, равна 0.0004. В жилом комплексе после ремонта в один день включили 5000 новых лампочек. Какова вероятность, что ни одна из них не перегорит в первый день? Какова вероятность, что перегорят ровно две?"
      ],
      "metadata": {
        "id": "MdnbQzo86Oee"
      }
    },
    {
      "cell_type": "markdown",
      "source": [
        "### Решение 2.1"
      ],
      "metadata": {
        "id": "mJAHUcCd6jYY"
      }
    },
    {
      "cell_type": "markdown",
      "source": [
        "Поскольку в задаче вероятность наступления события мала, а количество испытаний велико, для решения задачи воспользуемся формулой Пуассона:\n",
        "\n",
        "$\\\\ P_m= \\frac{λ^m}{m!}·𝑒^{-λ}$, где λ среднее количество наступления события за определенную единицу измерений, и $ λ=p·n$"
      ],
      "metadata": {
        "id": "MObqYH7X6rVA"
      }
    },
    {
      "cell_type": "code",
      "source": [
        "def poisson_distr(m,p,n):\n",
        "    lamb=p*n\n",
        "    return exp(-lamb)*(lamb**m)/factorial(m)"
      ],
      "metadata": {
        "id": "oz_2UTB68oUu"
      },
      "execution_count": 16,
      "outputs": []
    },
    {
      "cell_type": "markdown",
      "source": [
        "a) По условию задания: p = 0.0004, n = 5000, m = 0\n",
        "\n",
        "тогда:"
      ],
      "metadata": {
        "id": "FqYdfKcO8vAv"
      }
    },
    {
      "cell_type": "code",
      "source": [
        "print(f'P = {poisson_distr(0,0.0004,5000): .4f}')"
      ],
      "metadata": {
        "colab": {
          "base_uri": "https://localhost:8080/"
        },
        "id": "d64z-RtL8_BU",
        "outputId": "dbb5c5ef-4d2f-43e9-8b57-cc8b556e5b6b"
      },
      "execution_count": 17,
      "outputs": [
        {
          "output_type": "stream",
          "name": "stdout",
          "text": [
            "P =  0.1353\n"
          ]
        }
      ]
    },
    {
      "cell_type": "markdown",
      "source": [
        "Ответ:\n",
        "\n",
        "Вероятность того, что ни одна из ламп не перегорит в первый день P =  0.1353 = 13.53%"
      ],
      "metadata": {
        "id": "biTX-TlE9E6R"
      }
    },
    {
      "cell_type": "markdown",
      "source": [
        "#### Решение 2.2\n",
        "\n",
        "б) По условию задания:\n",
        "p = 0.0004, n = 5000, m = 2\n",
        "тогда:"
      ],
      "metadata": {
        "id": "yTOHpzEK9fPE"
      }
    },
    {
      "cell_type": "code",
      "source": [
        "print(f'P = {poisson_distr(2,0.0004,5000): .4f}')"
      ],
      "metadata": {
        "colab": {
          "base_uri": "https://localhost:8080/"
        },
        "id": "joC08irD97Ib",
        "outputId": "a939cacd-98d0-4b24-e0e1-28599fb87c68"
      },
      "execution_count": 18,
      "outputs": [
        {
          "output_type": "stream",
          "name": "stdout",
          "text": [
            "P =  0.2707\n"
          ]
        }
      ]
    },
    {
      "cell_type": "markdown",
      "source": [
        "Ответ:\n",
        "\n",
        "Вероятность того, что 2 лампы перегорят в первый день P =  0.2707 = 27.07%"
      ],
      "metadata": {
        "id": "gbs11bvF-AC-"
      }
    },
    {
      "cell_type": "markdown",
      "source": [
        "## Задача 3\n",
        "\n",
        "Монету подбросили 144 раза. Какова вероятность, что орел выпадет ровно 70 раз?"
      ],
      "metadata": {
        "id": "HA0eemzL-XsV"
      }
    },
    {
      "cell_type": "markdown",
      "source": [
        "Воспользуемся формулой Бернулли $\\\\ P_n(X=k)=C^k_np^kq^{n-k}$, в нашем случае: n = 144, k = 70, p = 0.5\n",
        "\n",
        "Вычислим:"
      ],
      "metadata": {
        "id": "-2McMNJS-jsA"
      }
    },
    {
      "cell_type": "code",
      "source": [
        "print(f'P = {bernulli(144,70,0.5): .4f}')"
      ],
      "metadata": {
        "colab": {
          "base_uri": "https://localhost:8080/"
        },
        "id": "G5TaKBQ0-_IB",
        "outputId": "439c0302-924c-4d08-bcd9-8bf01148030c"
      },
      "execution_count": 19,
      "outputs": [
        {
          "output_type": "stream",
          "name": "stdout",
          "text": [
            "P =  0.0628\n"
          ]
        }
      ]
    },
    {
      "cell_type": "markdown",
      "source": [
        "Ответ:\n",
        "Вероятность того, что при 144-х кратном подбрасывании монетки орёл выпадет ровно 70 раз P =  0.0628 = 6.28%"
      ],
      "metadata": {
        "id": "c1qqOU2nM14z"
      }
    },
    {
      "cell_type": "markdown",
      "source": [
        "## Задача 4\n",
        "\n",
        "В первом ящике находится 10 мячей, из которых 7 - белые. Во втором ящике - 11 мячей, из которых 9 белых. Из каждого ящика вытаскивают случайным образом по два мяча.\n",
        "- Какова вероятность того, что все мячи белые?\n",
        "- Какова вероятность того, что ровно два мяча белые?\n",
        "- Какова вероятность того, что хотя бы один мяч белый?"
      ],
      "metadata": {
        "id": "FMkiFWCJN8-_"
      }
    },
    {
      "cell_type": "markdown",
      "source": [
        "Для решения данной задачи подсчитаем общее число элементарных исходов при вытаскивании мячей:\n",
        "- Для первой корзины это\n",
        "$\\\\ n_1 = C^2_{10}$\n",
        "- Для второй\n",
        "$\\\\ n_2 = C^2_{11}$\n",
        "Напишем функцию, для подсчёта количества комбинаций:"
      ],
      "metadata": {
        "id": "cSVbgWTIOFR5"
      }
    },
    {
      "cell_type": "code",
      "source": [
        "def combinations(n, k):\n",
        "    return int(factorial(n) / (factorial(k) * factorial(n - k)))"
      ],
      "metadata": {
        "id": "z1_8Elu9PgB2"
      },
      "execution_count": 20,
      "outputs": []
    },
    {
      "cell_type": "code",
      "source": [
        "n1=combinations(10,2)\n",
        "n2=combinations(11,2)\n",
        "print(f'Общее число элементарных исходов для первой корзины: n1 = {n1}\\n'\n",
        "f'Общее число элементарных исходов для второй корзины: n2 = {n2}')"
      ],
      "metadata": {
        "colab": {
          "base_uri": "https://localhost:8080/"
        },
        "id": "M-Ykn-x2Psfh",
        "outputId": "00584bc7-1611-4ada-d178-59bb81d0badd"
      },
      "execution_count": 21,
      "outputs": [
        {
          "output_type": "stream",
          "name": "stdout",
          "text": [
            "Общее число элементарных исходов для первой корзины: n1 = 45\n",
            "Общее число элементарных исходов для второй корзины: n2 = 55\n"
          ]
        }
      ]
    },
    {
      "cell_type": "markdown",
      "source": [
        "### Решение 4.1\n",
        "\n",
        "a) Для выполнения этого условия необходимо *одновременное* наступление двух событий:\n",
        "- событие А -из первой корзины извлекли 2 белых шара,\n",
        "- событие В -из второй корзины извлекли 2 белых шара.\n",
        "\n",
        "- Для события А число благоприятных элементарных исходов $\\\\ m_1 = C^2_7$\n",
        "\n",
        "- Для события B число благоприятных элементарных исходов $\\\\ m_2 = C^2_9$\n",
        "\n",
        "Вычислим $m_1$ и $m_2$:"
      ],
      "metadata": {
        "id": "lF7JDUI6QA0g"
      }
    },
    {
      "cell_type": "code",
      "source": [
        "m1=combinations(7,2)\n",
        "m2=combinations(9,2)\n",
        "print(f'Число благоприятных элементарных исходов для события А: m1 = {combinations(7,2)}\\n'\n",
        "      f'Число благоприятных элементарных исходов для события В: m2 = {combinations(9,2)}'\n",
        "     )"
      ],
      "metadata": {
        "colab": {
          "base_uri": "https://localhost:8080/"
        },
        "id": "8hxrOSkNRRbn",
        "outputId": "c15ff688-f33c-44f1-c455-fe38d5689083"
      },
      "execution_count": 22,
      "outputs": [
        {
          "output_type": "stream",
          "name": "stdout",
          "text": [
            "Число благоприятных элементарных исходов для события А: m1 = 21\n",
            "Число благоприятных элементарных исходов для события В: m2 = 36\n"
          ]
        }
      ]
    },
    {
      "cell_type": "markdown",
      "source": [
        "Для событий А и B вероятности их наступления будут расчитываться как $P(A)=\\frac{m_1}{n_1}$ и $P(B)=\\frac{m_2}{n_2}$\n",
        "\n",
        ", а вероятность их одновременного наступления как\n",
        "$\\\\ P(A+B)=P(A)·P(B)$\n",
        "Расчитаем:"
      ],
      "metadata": {
        "id": "tjePspMTSh3I"
      }
    },
    {
      "cell_type": "code",
      "source": [
        "print(f'Вероятность наступления события А, Р(А) = {m1/n1: .4f}\\n'\n",
        "      f'Вероятность наступления события В, Р(В) = {m2/n2: .4f}\\n'\n",
        "      f'Вероятность одновременного наступления событий А и В, Р(А+В) = {(m1/n1)*(m2/n2): .4f}'\n",
        "     )"
      ],
      "metadata": {
        "colab": {
          "base_uri": "https://localhost:8080/"
        },
        "id": "cDNrrFCgTHBo",
        "outputId": "6f12974d-5a81-4e64-f4ac-899087f402b5"
      },
      "execution_count": 23,
      "outputs": [
        {
          "output_type": "stream",
          "name": "stdout",
          "text": [
            "Вероятность наступления события А, Р(А) =  0.4667\n",
            "Вероятность наступления события В, Р(В) =  0.6545\n",
            "Вероятность одновременного наступления событий А и В, Р(А+В) =  0.3055\n"
          ]
        }
      ]
    },
    {
      "cell_type": "markdown",
      "source": [
        "или решение через условную вероятность\n",
        " $P(A+B)=\\frac{7}{10}·\\frac{6}{9}·\\frac{9}{11}·\\frac{8}{10}$\n",
        "\n"
      ],
      "metadata": {
        "id": "KBk5GpCMUTfS"
      }
    },
    {
      "cell_type": "code",
      "source": [
        "P=(7/10)*(6/9)*(9/11)*(8/10)\n",
        "print(f'Вероятность одновременного наступления событий А и В, Р(А+В) = {P: .4f}')"
      ],
      "metadata": {
        "colab": {
          "base_uri": "https://localhost:8080/"
        },
        "id": "J9caKdkgVIr9",
        "outputId": "dd1382c9-acbe-4df5-ca75-9be86eb80e6f"
      },
      "execution_count": 24,
      "outputs": [
        {
          "output_type": "stream",
          "name": "stdout",
          "text": [
            "Вероятность одновременного наступления событий А и В, Р(А+В) =  0.3055\n"
          ]
        }
      ]
    },
    {
      "cell_type": "markdown",
      "source": [
        "Ответ:\n",
        "Вероятность того, что все извлечённые мячи белые: P ≈ 0.3055 ≈ 30.55%"
      ],
      "metadata": {
        "id": "chE6CEzAVTus"
      }
    },
    {
      "cell_type": "markdown",
      "source": [
        "#### Решение 4.2\n",
        "\n",
        "б) Этому варианту соответствует несколько комбинаций:\n",
        "\n",
        "1. События А -из первой корзины извлекли 2 белых шара и В -из второй корзины извлекли 2 не белых шара, или\n",
        "2. События С -из первой корзины извлекли 1 белый и 1 не белый шар и D -из второй корзины извлекли 1 белый и 1 не белый шар, или\n",
        "3. События Е -из первой корзины извлекли 2 не белых шара и F -из второй корзины извлекли 2 белых шара\n",
        "\n",
        "А вероятность того, что сложится одна из этих комбинаций, будет суммой вероятностей этих комбинаций. Т.е.:\n",
        "P = P(A)·P(B) + P(C)·P(D) + P(E)·P(F)\n",
        "Число благоприятных элементарных исходов для каждого события в комбинации:\n",
        "1. $m_A=C\\frac{2}{7}, m_B=C\\frac{0}{9}$\n",
        "2. $m_C=C\\frac{1}{7}·C\\frac{1}{3}, m_D=C\\frac{1}{9}·C\\frac{1}{2}$\n",
        "3. $m_E=C\\frac{0}{7}, m_F=C\\frac{2}{9}$\n",
        "\n",
        "\n",
        "⟹ $P=\\frac{m_A}{n_1}·\\frac{m_B}{n_2}+\\frac{m_C}{n_1}·\\frac{m_D}{n_2}+\\frac{m_E}{n_1}·\\frac{m_F}{n_2} = \\frac{C^2_7}{n_1}·\\frac{C^0_9}{n_2}+\\frac{C^1_7·C^1_3}{n_1}·\\frac{C^1_9·C^1_2}{n_2}+\\frac{C^0_7}{n_1}·\\frac{C^2_9}{n_2}$\n"
      ],
      "metadata": {
        "id": "Ld5WTg3IVzc1"
      }
    },
    {
      "cell_type": "code",
      "source": [
        "m_A=combinations(7,2)\n",
        "m_B=combinations(2,2)\n",
        "m_C=combinations(7,1)*combinations(3,1)\n",
        "m_D=combinations(9,1)*combinations(2,1)\n",
        "m_E=combinations(3,2)\n",
        "m_F=combinations(9,2)\n",
        "print(f'Число благоприятных элементарных исходов для события А: m_A = {m_A}\\n'\n",
        "      f'Число благоприятных элементарных исходов для события B: m_B = {m_B}\\n'\n",
        "      f'Число благоприятных элементарных исходов для события C: m_C = {m_C}\\n'\n",
        "      f'Число благоприятных элементарных исходов для события D: m_D = {m_D}\\n'\n",
        "      f'Число благоприятных элементарных исходов для события E: m_E = {m_E}\\n'\n",
        "      f'Число благоприятных элементарных исходов для события F: m_F = {m_F}'\n",
        "     )"
      ],
      "metadata": {
        "colab": {
          "base_uri": "https://localhost:8080/"
        },
        "id": "UJOJx89NGaCB",
        "outputId": "e41bfefa-8e12-4d0e-c8f7-62e245213972"
      },
      "execution_count": 25,
      "outputs": [
        {
          "output_type": "stream",
          "name": "stdout",
          "text": [
            "Число благоприятных элементарных исходов для события А: m_A = 21\n",
            "Число благоприятных элементарных исходов для события B: m_B = 1\n",
            "Число благоприятных элементарных исходов для события C: m_C = 21\n",
            "Число благоприятных элементарных исходов для события D: m_D = 18\n",
            "Число благоприятных элементарных исходов для события E: m_E = 3\n",
            "Число благоприятных элементарных исходов для события F: m_F = 36\n"
          ]
        }
      ]
    },
    {
      "cell_type": "code",
      "source": [
        "P=(m_A/n1)*(m_B/n2)+(m_C/n1)*(m_D/n2)+(m_E/n1)*(m_F/n2)\n",
        "print(f'Вероятность того, что будут вытащены ровно 2 белых мяча Р = {P: .4f}')"
      ],
      "metadata": {
        "colab": {
          "base_uri": "https://localhost:8080/"
        },
        "id": "_WojcUpUGtQk",
        "outputId": "c7de5254-1fa0-4dc5-e607-008c8e652d63"
      },
      "execution_count": 26,
      "outputs": [
        {
          "output_type": "stream",
          "name": "stdout",
          "text": [
            "Вероятность того, что будут вытащены ровно 2 белых мяча Р =  0.2048\n"
          ]
        }
      ]
    },
    {
      "cell_type": "markdown",
      "source": [
        "или через условную вероятность $P=\\frac{7}{10}·\\frac{6}{9}·\\frac{2}{11}·\\frac{1}{10}+4·(\\frac{7}{10}·\\frac{3}{9}·\\frac{9}{11}·\\frac{2}{10})+\\frac{3}{10}·\\frac{2}{9}·\\frac{9}{11}·\\frac{8}{10}$\n",
        "\n",
        "где 4 - количество способов достать из каждой корзины 1 белый и 1 не белый мяч."
      ],
      "metadata": {
        "id": "nXd_fU1oG5ki"
      }
    },
    {
      "cell_type": "code",
      "source": [
        "P1=((7/10)*(6/9)*(2/11)*(1/10))+4*((7/10)*(3/9)*(9/11)*(2/10))+((3/10)*(2/9)*(9/11)*(8/10))\n",
        "print(f'Вероятность того, что будут вытащены ровно 2 белых мяча Р = {P1: .4f}')"
      ],
      "metadata": {
        "colab": {
          "base_uri": "https://localhost:8080/"
        },
        "id": "F07LJJryIdMl",
        "outputId": "5ced96e6-ef04-4598-9fd6-69cbbf5892d7"
      },
      "execution_count": 27,
      "outputs": [
        {
          "output_type": "stream",
          "name": "stdout",
          "text": [
            "Вероятность того, что будут вытащены ровно 2 белых мяча Р =  0.2048\n"
          ]
        }
      ]
    },
    {
      "cell_type": "markdown",
      "source": [
        "Ответ:\n",
        "\n",
        "Вероятность того, что будут вытащены ровно 2 белых мяча: Р ≈ 0.2048 ≈ 20.48%"
      ],
      "metadata": {
        "id": "l6hWHgpnIlgE"
      }
    },
    {
      "cell_type": "markdown",
      "source": [
        "##### Решение 4.3\n",
        "\n",
        "в) В данном случае удобнее рассмотреть событие $̄𝔸$\n",
        "-\"не было извлечено ни одного белого мяча\", которое наряду с искомым событием А\n",
        "-\"был извлечен хотя бы 1 белый мяч\", составляют полную группу событий, по скольку в результате испытаний может произойти только либо событие А\n",
        ", либо событие $𝔸$\n",
        ", и поэтому:\n",
        "$P(A)=1-P(𝔸)$\n",
        "Для наступления события 𝔸\n",
        " необходимо чтобы из первой и второй корзин не было вынуто ни одного белого мяча, число таких благоприятных исходов для первой корзины $m_1=C\\frac{2}{3}$\n",
        " а для второй\n",
        "$C\\frac{2}{2}$"
      ],
      "metadata": {
        "id": "pW_xYRE7I-Rp"
      }
    },
    {
      "cell_type": "code",
      "source": [
        "m1=combinations(3,2)\n",
        "m2=combinations(2,2)\n",
        "print(f'Число благоприятных элементарных исходов для первой корзины: m1 = {combinations(3,2)}\\n'\n",
        "      f'Число благоприятных элементарных исходов для второй корзины: m2 = {combinations(2,2)}'\n",
        "     )"
      ],
      "metadata": {
        "colab": {
          "base_uri": "https://localhost:8080/"
        },
        "id": "B4Tf_F6hNvZP",
        "outputId": "d9f1cbca-477f-4f0d-be7c-58db1702cc40"
      },
      "execution_count": 28,
      "outputs": [
        {
          "output_type": "stream",
          "name": "stdout",
          "text": [
            "Число благоприятных элементарных исходов для первой корзины: m1 = 3\n",
            "Число благоприятных элементарных исходов для второй корзины: m2 = 1\n"
          ]
        }
      ]
    },
    {
      "cell_type": "markdown",
      "source": [
        "Тогда $P(𝔸)=\\frac{m_1}{n_1}·\\frac{m_2}{n_2}$, вычислим $P(𝔸)$ и $P(A)$"
      ],
      "metadata": {
        "id": "3MnBI4WON6ZZ"
      }
    },
    {
      "cell_type": "code",
      "source": [
        "print(f'Вероятность того, что не будет извлечено ни одного белого мяча Р(А_обр) = {(m1/n1)*(m2/n2): .4f}\\n'\n",
        "      f'Вероятность того, что будет извлечен хотя бы один белый мяч Р(А) = 1 - Р(А_обр) = {1-(m1/n1)*(m2/n2): .4f}'\n",
        "     )"
      ],
      "metadata": {
        "colab": {
          "base_uri": "https://localhost:8080/"
        },
        "id": "PXYb56E3POod",
        "outputId": "422cc707-903f-4c0d-e7a6-a077514e6d62"
      },
      "execution_count": 29,
      "outputs": [
        {
          "output_type": "stream",
          "name": "stdout",
          "text": [
            "Вероятность того, что не будет извлечено ни одного белого мяча Р(А_обр) =  0.0012\n",
            "Вероятность того, что будет извлечен хотя бы один белый мяч Р(А) = 1 - Р(А_обр) =  0.9988\n"
          ]
        }
      ]
    },
    {
      "cell_type": "markdown",
      "source": [
        "Вариант с условной вероятностью: $P(A)=1-\\frac{3}{10}·\\frac{2}{9}·\\frac{2}{11}·\\frac{2}{11}·\\frac{1}{10}$"
      ],
      "metadata": {
        "id": "Bg7JTtUGPT4B"
      }
    },
    {
      "cell_type": "code",
      "source": [
        "P=1-(3/10)*(2/9)*(2/11)*(1/10)\n",
        "print(f'Вероятность того, что будет извлечен хотя бы один белый мяч Р(А) = {P: .4f}')"
      ],
      "metadata": {
        "colab": {
          "base_uri": "https://localhost:8080/"
        },
        "id": "fzPxlvNHQHl8",
        "outputId": "654dfcdf-0b8e-42b9-8ef5-03a081b6bb19"
      },
      "execution_count": 30,
      "outputs": [
        {
          "output_type": "stream",
          "name": "stdout",
          "text": [
            "Вероятность того, что будет извлечен хотя бы один белый мяч Р(А) =  0.9988\n"
          ]
        }
      ]
    },
    {
      "cell_type": "markdown",
      "source": [
        "Ответ:\n",
        "\n",
        "Вероятность того, что будет извлечен хотя бы один белый мяч Р(А) ≈  0.9988 ≈ 99.88%"
      ],
      "metadata": {
        "id": "iGR5qSbTQOmS"
      }
    }
  ]
}