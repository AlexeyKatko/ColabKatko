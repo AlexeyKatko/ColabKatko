{
  "nbformat": 4,
  "nbformat_minor": 0,
  "metadata": {
    "colab": {
      "provenance": [],
      "toc_visible": true,
      "authorship_tag": "ABX9TyOZjoeJSA+tb655EGcBNAWq",
      "include_colab_link": true
    },
    "kernelspec": {
      "name": "python3",
      "display_name": "Python 3"
    },
    "language_info": {
      "name": "python"
    }
  },
  "cells": [
    {
      "cell_type": "markdown",
      "metadata": {
        "id": "view-in-github",
        "colab_type": "text"
      },
      "source": [
        "<a href=\"https://colab.research.google.com/github/AlexeyKatko/ColabKatko/blob/main/%D1%82%D0%B5%D0%BE%D1%80%D0%B8%D1%8F_%D0%B2%D0%B5%D1%80%D0%BE%D1%8F%D1%82%D0%BD%D0%BE%D1%81%D1%82%D0%B8_%D0%B4%D0%BE%D0%BC%D0%B0%D1%88%D0%BD%D0%B5%D0%B5_%D0%B7%D0%B0%D0%B4%D0%B0%D0%BD%D0%B8%D0%B5_1.ipynb\" target=\"_parent\"><img src=\"https://colab.research.google.com/assets/colab-badge.svg\" alt=\"Open In Colab\"/></a>"
      ]
    },
    {
      "cell_type": "markdown",
      "source": [
        "# Урок 1. Расчет вероятности случайных событий"
      ],
      "metadata": {
        "id": "slTgL_v4Mojp"
      }
    },
    {
      "cell_type": "markdown",
      "source": [
        "## Задача 1\n"
      ],
      "metadata": {
        "id": "wd7yXFnxMhVL"
      }
    },
    {
      "cell_type": "markdown",
      "source": [
        "Из колоды в 52 карты извлекаются случайным образом 4 карты. a) Найти вероятность того, что все карты – крести. б) Найти вероятность, что среди 4-х карт окажется хотя бы один туз."
      ],
      "metadata": {
        "id": "a6Wy94VVNR_k"
      }
    },
    {
      "cell_type": "markdown",
      "source": [
        "### Решение 1.1\n",
        "a) В колоде из 52 листов $\\\\С\\frac{4}{52}=13$ карт одной масти.\n",
        "Воспользуемся формулой подсчета количества сочетаний по $k$ элементов из множества $n$:\n",
        "$\\\\ C^k_n=С\\frac{n!}{k!(n-k)!}$\n",
        "\n",
        "И классической формулой вероятности:\n",
        "  $\\\\ P(A)=С\\frac{m}{n}$\n",
        "  \n",
        "  где $m$-число **благоприятных** исходов, $n$-общее число **всех** исходов.\n",
        "в нашем случае $\\\\P (A)=C\\frac{4}{52}$-т.е. количество способов извлечь 4 карты из 52, а $\\\\ m=C\\frac{4}{13}$, способов извлечь 4 карты одной масти.\n",
        "Для облегчения расчетов напишем функцию:"
      ],
      "metadata": {
        "id": "EVzdbJ5YM7wO"
      }
    },
    {
      "cell_type": "code",
      "source": [
        "from math import factorial\n",
        "def combinations(n, k):\n",
        "    return int(factorial(n) / (factorial(k) * factorial(n - k)))"
      ],
      "metadata": {
        "id": "XzA6ZyTvTZN3"
      },
      "execution_count": 1,
      "outputs": []
    },
    {
      "cell_type": "code",
      "source": [
        "# Вычислим m\n",
        "m=combinations(13, 4)\n",
        "print(f'm = {m}')"
      ],
      "metadata": {
        "colab": {
          "base_uri": "https://localhost:8080/"
        },
        "id": "LuZKDkr1TgZt",
        "outputId": "5b7df664-2d22-41a8-fc1e-b33433be34a5"
      },
      "execution_count": 2,
      "outputs": [
        {
          "output_type": "stream",
          "name": "stdout",
          "text": [
            "m = 715\n"
          ]
        }
      ]
    },
    {
      "cell_type": "code",
      "source": [
        "# Вычислим n\n",
        "n=combinations(52, 4)\n",
        "print(f'n = {n}')"
      ],
      "metadata": {
        "colab": {
          "base_uri": "https://localhost:8080/"
        },
        "id": "Aj9rGhmXTsFw",
        "outputId": "d32b1208-aa1e-48a6-ab62-5217131becd7"
      },
      "execution_count": 3,
      "outputs": [
        {
          "output_type": "stream",
          "name": "stdout",
          "text": [
            "n = 270725\n"
          ]
        }
      ]
    },
    {
      "cell_type": "code",
      "source": [
        "# Найдем вероятность Р(4крести)\n",
        "P=m/n\n",
        "print(f'P(4 крести) = {round(P,4)}')"
      ],
      "metadata": {
        "colab": {
          "base_uri": "https://localhost:8080/"
        },
        "id": "yG0EuvlEUjg1",
        "outputId": "d0a27459-db42-4aed-c8da-a6c62d2f08bf"
      },
      "execution_count": 4,
      "outputs": [
        {
          "output_type": "stream",
          "name": "stdout",
          "text": [
            "P(4 крести) = 0.0026\n"
          ]
        }
      ]
    },
    {
      "cell_type": "markdown",
      "source": [
        "Либо, из классической формулы вероятности следует, что вероятность извлечь\n",
        "\n",
        "первой картой из 4-х крестовую: 13/52,\n",
        "\n",
        "вторую крестовую: 12/51;\n",
        "\n",
        "третью крестовую: 11/52;\n",
        "\n",
        "четвертую: 10/49.\n",
        "\n",
        "А поскольку, по условию и первая, и вторая, и третья, и четвертая должны быть крестовые, то P(4крести)\n",
        "Вычислим:"
      ],
      "metadata": {
        "id": "E3lERyJ7U_XH"
      }
    },
    {
      "cell_type": "code",
      "source": [
        "P1=13/52*12/51*11/50*10/49\n",
        "print(f'P(4 крести) = {round(P1,4)}')"
      ],
      "metadata": {
        "colab": {
          "base_uri": "https://localhost:8080/"
        },
        "id": "TeQPyuRBZb1e",
        "outputId": "e645c3be-3b6e-4556-e037-a9742a086631"
      },
      "execution_count": 5,
      "outputs": [
        {
          "output_type": "stream",
          "name": "stdout",
          "text": [
            "P(4 трефы) = 0.0026\n"
          ]
        }
      ]
    },
    {
      "cell_type": "markdown",
      "source": [
        "#### Решение 1.2"
      ],
      "metadata": {
        "id": "gq7gAeCPihNj"
      }
    },
    {
      "cell_type": "markdown",
      "source": [
        "б) в этом случае так же общее число исходов n=C\\frac{4}{52}\n",
        ", а\n",
        " будет складываться из 4 вариантов:\n",
        "\n",
        "1. из 4-х карт 1 туз:\n",
        "число способов достать 1 туз из 4-х: С^1_4\n",
        ", число способов достать три остальные карты С\n",
        ", общее количество сочетаний 1 туз и 3 не туза\n",
        "С\n",
        "из 4-х карт 2 туза:\n",
        "число способов достать 2 туза из 4-х\n",
        ", число способов достать две остальные карты С\n",
        ", общее количество сочетаний 2 туза и 2 не туза\n",
        "С\n",
        "из 4-х карт 3 туза:\n",
        "число способов достать 3 туза из 4-х\n",
        ", число способов достать оставшуюся карту С\n",
        ", общее количество сочетаний 3 туза и 1 не туз\n",
        "С\n",
        "из 4-х карт 4 туза:\n",
        "число способов достать 4 туза из 4-х\n",
        "Общее число благоприятных исходов-сумма этих 4 вариантов.\n",
        "Вычислим:"
      ],
      "metadata": {
        "id": "gDX1cs26dh7t"
      }
    },
    {
      "cell_type": "code",
      "source": [
        "# Общее число благоприятных исходов-сумма этих 4 вариантов.\n",
        "n=combinations(52, 4)\n",
        "print(f'n = {n}')"
      ],
      "metadata": {
        "colab": {
          "base_uri": "https://localhost:8080/"
        },
        "id": "r0VCJXF8f-oe",
        "outputId": "60c69739-17c5-4166-f64c-03c49e8ce883"
      },
      "execution_count": 6,
      "outputs": [
        {
          "output_type": "stream",
          "name": "stdout",
          "text": [
            "n = 270725\n"
          ]
        }
      ]
    },
    {
      "cell_type": "code",
      "source": [
        "m=sum([combinations(4,1)*combinations(48,3),combinations(4,2)*combinations(48,2),combinations(4,3)*combinations(48,1),1])\n",
        "print(f'm = {m}')"
      ],
      "metadata": {
        "colab": {
          "base_uri": "https://localhost:8080/"
        },
        "id": "_VDGdZVagNyo",
        "outputId": "94a9f2e2-5e05-4389-d674-4dbdf3d847ff"
      },
      "execution_count": 7,
      "outputs": [
        {
          "output_type": "stream",
          "name": "stdout",
          "text": [
            "m = 76145\n"
          ]
        }
      ]
    },
    {
      "cell_type": "code",
      "source": [
        "# Найдем вероятность Р(хотя бы 1 туз)\n",
        "P=m/n\n",
        "print(f'P(хотя бы 1 туз) = {round(P,4)}')"
      ],
      "metadata": {
        "colab": {
          "base_uri": "https://localhost:8080/"
        },
        "id": "mvEVF05AgQvH",
        "outputId": "ac612cd8-49aa-46ba-92da-e52440c27ef3"
      },
      "execution_count": 8,
      "outputs": [
        {
          "output_type": "stream",
          "name": "stdout",
          "text": [
            "P(хотя бы 1 туз) = 0.2813\n"
          ]
        }
      ]
    },
    {
      "cell_type": "markdown",
      "source": [
        "Ответ:\n",
        "\n",
        "а) Р(4 трефы) ≈ 0.0026 ≈ 0.26%;\n",
        "\n",
        "б) P(хотя бы 1 туз) ≈ 0.2813 ≈ 28.13%\n",
        "."
      ],
      "metadata": {
        "id": "yL5R8Ol7goSm"
      }
    },
    {
      "cell_type": "markdown",
      "source": [
        "# Задача 2\n",
        "\n",
        "На входной двери подъезда установлен кодовый замок, содержащий десять кнопок с цифрами от 0 до 9. Код содержит три цифры, которые нужно нажать одновременно. Какова вероятность того, что человек, не знающий код, откроет дверь с первой попытки?"
      ],
      "metadata": {
        "id": "v0orgFw3istL"
      }
    },
    {
      "cell_type": "markdown",
      "source": [
        "## Решение 2.1"
      ],
      "metadata": {
        "id": "VkgHlwPIkZZq"
      }
    },
    {
      "cell_type": "markdown",
      "source": [
        "Так как кнопки нажимаются одновременно, то порядок не важен, и для формулы вероятности $\\\\ P(A)=С\\frac{m}{n}$\n",
        "\n",
        " общее число исходов будет определяться количиством сочетаний 3-х элементов из 10, $\\\\ n=С\\frac{3}{10}$\n",
        ", а количество благоприятных исходов m=1\n",
        "-замок открылся. Вычислим P(A)\n",
        ":"
      ],
      "metadata": {
        "id": "pzRgv0mFixXL"
      }
    },
    {
      "cell_type": "code",
      "source": [
        "P=1/combinations(10,3)\n",
        "print(f'P(открыть с первой попытки) = {round(P,4)}')"
      ],
      "metadata": {
        "colab": {
          "base_uri": "https://localhost:8080/"
        },
        "id": "wPqEhn8PjkN1",
        "outputId": "0e2dcb0c-c2b3-4e96-ac1b-80707e6ebcf3"
      },
      "execution_count": 9,
      "outputs": [
        {
          "output_type": "stream",
          "name": "stdout",
          "text": [
            "P(открыть с первой попытки) = 0.0083\n"
          ]
        }
      ]
    },
    {
      "cell_type": "markdown",
      "source": [
        "Ответ:\n",
        "\n",
        "P(открыть с первой попытки) ≈ 0.0083 ≈ 0.83%"
      ],
      "metadata": {
        "id": "Pgj_5QLNjtfJ"
      }
    },
    {
      "cell_type": "markdown",
      "source": [
        "# Задача 3\n",
        "\n",
        "В ящике имеется 15 деталей, из которых 9 окрашены. Рабочий случайным образом извлекает 3 детали. Какова вероятность того, что все извлеченные детали окрашены?"
      ],
      "metadata": {
        "id": "3KM1UmNtkiAR"
      }
    },
    {
      "cell_type": "markdown",
      "source": [
        "## Решение 3.1"
      ],
      "metadata": {
        "id": "C7AJQ6WUkmak"
      }
    },
    {
      "cell_type": "markdown",
      "source": [
        "Общее количество исходов будет определяться количеством сочетаний 3 деталей из 15 $\\\\ n=С\\frac{3}{15}$\n",
        ", а количество благоприятных исходов - количеством сочетаний 3-х окрашенных деталей из 9 $\\\\ n=С\\frac{3}{9}$"
      ],
      "metadata": {
        "id": "9i8YEw8gkrhj"
      }
    },
    {
      "cell_type": "code",
      "source": [
        "# Р(3 из 3 окрашены)\n",
        "P=combinations(9,3)/combinations(15,3)\n",
        "print(f'P(3 из 3-х окрашены) = {round(P,4)}')"
      ],
      "metadata": {
        "colab": {
          "base_uri": "https://localhost:8080/"
        },
        "id": "v0PwmMAklI-L",
        "outputId": "54fba710-b58b-4f1c-cf37-b0b1c71c8aba"
      },
      "execution_count": 10,
      "outputs": [
        {
          "output_type": "stream",
          "name": "stdout",
          "text": [
            "P(3 из 3-х окрашены) = 0.1846\n"
          ]
        }
      ]
    },
    {
      "cell_type": "markdown",
      "source": [
        "ИЛИ:"
      ],
      "metadata": {
        "id": "0ZJmk6BHlccn"
      }
    },
    {
      "cell_type": "code",
      "source": [
        "print(f'P(3 из 3-х окрашены) = {round(9/15*8/14*7/13,4)}')"
      ],
      "metadata": {
        "colab": {
          "base_uri": "https://localhost:8080/"
        },
        "id": "gmIxfZLhleHV",
        "outputId": "4c4f62cc-3e78-4874-d518-bb83660d8b57"
      },
      "execution_count": 11,
      "outputs": [
        {
          "output_type": "stream",
          "name": "stdout",
          "text": [
            "P(3 из 3-х окрашены) = 0.1846\n"
          ]
        }
      ]
    },
    {
      "cell_type": "markdown",
      "source": [
        "Ответ:\n",
        "\n",
        "P(3 из 3 окрашены) ≈ 0.1846 ≈ 18.46%"
      ],
      "metadata": {
        "id": "DBffYtuNloLb"
      }
    },
    {
      "cell_type": "markdown",
      "source": [
        "# Задача 4\n",
        "\n",
        "В лотерее 100 билетов. Из них 2 выигрышных. Какова вероятность того, что 2 приобретенных билета окажутся выигрышными?"
      ],
      "metadata": {
        "id": "w3Z8aO7smGId"
      }
    },
    {
      "cell_type": "markdown",
      "source": [
        "## Решение 4.1"
      ],
      "metadata": {
        "id": "YhWki4jomLdc"
      }
    },
    {
      "cell_type": "markdown",
      "source": [
        "\n",
        "  $\\\\ P(оба\\ выигрышных)=\\frac{1}{C^1_{100}}=\\frac{1}{100!}/{2!(100-2)}= \\frac{2!*98!}{100!}$\n",
        "\n",
        "\n",
        "или\n",
        "\n",
        "$\\\\P({оба\\ выигрышных})=\\frac{1}{100}⋅\\frac{1}{99}$"
      ],
      "metadata": {
        "id": "KCuKnEWfmQx9"
      }
    },
    {
      "cell_type": "code",
      "source": [
        "P=1/combinations(100,2)\n",
        "print(f'P(оба выигрышных = {round(P,4)})')"
      ],
      "metadata": {
        "colab": {
          "base_uri": "https://localhost:8080/"
        },
        "id": "ZL3Z7kjrph-d",
        "outputId": "b344c463-159d-427b-daaa-9545d7fc1495"
      },
      "execution_count": 15,
      "outputs": [
        {
          "output_type": "stream",
          "name": "stdout",
          "text": [
            "P(оба выигрышных = 0.0002)\n"
          ]
        }
      ]
    },
    {
      "cell_type": "markdown",
      "source": [
        "Ответ:\n",
        "\n",
        "P(оба выигрышных) ≈ 0.0002 ≈ 0.02%"
      ],
      "metadata": {
        "id": "wzg8ctNOpoiN"
      }
    }
  ]
}