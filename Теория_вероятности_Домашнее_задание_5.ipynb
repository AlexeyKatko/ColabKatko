{
  "nbformat": 4,
  "nbformat_minor": 0,
  "metadata": {
    "colab": {
      "provenance": [],
      "toc_visible": true,
      "authorship_tag": "ABX9TyPcSmnpezmT8FGEd1D61Ixi",
      "include_colab_link": true
    },
    "kernelspec": {
      "name": "python3",
      "display_name": "Python 3"
    },
    "language_info": {
      "name": "python"
    }
  },
  "cells": [
    {
      "cell_type": "markdown",
      "metadata": {
        "id": "view-in-github",
        "colab_type": "text"
      },
      "source": [
        "<a href=\"https://colab.research.google.com/github/AlexeyKatko/ColabKatko/blob/main/%D0%A2%D0%B5%D0%BE%D1%80%D0%B8%D1%8F_%D0%B2%D0%B5%D1%80%D0%BE%D1%8F%D1%82%D0%BD%D0%BE%D1%81%D1%82%D0%B8_%D0%94%D0%BE%D0%BC%D0%B0%D1%88%D0%BD%D0%B5%D0%B5_%D0%B7%D0%B0%D0%B4%D0%B0%D0%BD%D0%B8%D0%B5_5.ipynb\" target=\"_parent\"><img src=\"https://colab.research.google.com/assets/colab-badge.svg\" alt=\"Open In Colab\"/></a>"
      ]
    },
    {
      "cell_type": "markdown",
      "source": [
        "# Урок 5. Тестирование гипотез"
      ],
      "metadata": {
        "id": "46QC54A4HW5_"
      }
    },
    {
      "cell_type": "markdown",
      "source": [
        "## Задача 1\n",
        "\n",
        "Когда используется критерий Стьюдента, а когда Z –критерий? Задачи 2,3 решать вручную"
      ],
      "metadata": {
        "id": "Z2Xo7PxeHtUv"
      }
    },
    {
      "cell_type": "markdown",
      "source": [
        "1. Известно, что генеральная совокупность распределена нормально, со средним квадратическим отклонением, $\\displaystyle\\sigma=16$. Найти доверительный интервал для оценки математического ожидания с надежностью $0.95$, если выборочная средняя $M=80$, а объем выборки $n=256$."
      ],
      "metadata": {
        "id": "LVPVYNUtJJxp"
      }
    },
    {
      "cell_type": "markdown",
      "source": [
        "Поскольку нам известно среднее квадратическое отклонение генеральной совокупности $\\sigma=16$, то для расчета $95\\%$-го доверительного интервала, будем использовать $Z$-критерий. И границы доверительного интервала расчитаем по формуле:\n",
        "\n",
        "$\\displaystyle\\bar X\\pm z_{\\alpha/2}\\cdot\\frac{\\sigma}{\\sqrt n}$, где:\n",
        "\n",
        "$\\bar X=M=80$-среднее значение выборки\n",
        "\n",
        "$z_{\\alpha/2}$ табличное значение $Z$-критерия, и для $95\\%$-го доверительного интервала $z_{\\alpha/2}=1,96$\n",
        "\n",
        "$\\sigma=16$-среднее квадратическое отклонение генеральной совокупности\n",
        "\n",
        "$n=256$-объем выборки\n",
        "\n",
        "Таким образом $95\\%$-й доверительный интервал расчитаем как:\n",
        "\n",
        "$\\left[80-1.96\\cdot\\frac{16}{\\sqrt 256};80+1.96\\cdot\\frac{16}{\\sqrt 256}\\right]$"
      ],
      "metadata": {
        "id": "DXSdvMHBJV7B"
      }
    },
    {
      "cell_type": "code",
      "source": [
        "left=80-1.96*16/256**(1/2)\n",
        "right=80+1.96*16/256**(1/2)\n",
        "print(f'95%-й доверительный интервал для оценки мат. ожидания генеральной совокупности: [{left};{right}].')"
      ],
      "metadata": {
        "colab": {
          "base_uri": "https://localhost:8080/"
        },
        "id": "_b46znOEKPvi",
        "outputId": "680b1125-c7ef-465a-a2aa-d586af395aaf"
      },
      "execution_count": 2,
      "outputs": [
        {
          "output_type": "stream",
          "name": "stdout",
          "text": [
            "95%-й доверительный интервал для оценки мат. ожидания генеральной совокупности: [78.04;81.96].\n"
          ]
        }
      ]
    },
    {
      "cell_type": "markdown",
      "source": [
        "Ответ:\n",
        "\n",
        "[78.04;81.96]"
      ],
      "metadata": {
        "id": "QQYoAGHSKZPs"
      }
    },
    {
      "cell_type": "markdown",
      "source": [
        "## Задача 2\n",
        "\n",
        "В результате 10 независимых измерений некоторой величины X, выполненных с одинаковой точностью, получены опытные данные: 6.9, 6.1, 6.2, 6.8, 7.5, 6.3, 6.4, 6.9, 6.7, 6.1 Предполагая, что результаты измерений подчинены нормальному закону распределения вероятностей, оценить истинное значение величины X при помощи доверительного интервала, покрывающего это значение с доверительной вероятностью 0,95."
      ],
      "metadata": {
        "id": "G85vKa60Keli"
      }
    },
    {
      "cell_type": "markdown",
      "source": [
        "Поскольку из условия задачи нам ничего не известно ни о мат. ожидании генеральной совокупности ни о среднем квадратическом отклонении для генеральной совокупности, то для расчета $95\\%$-го доверительного интервала будем использовать $t$-критерий,  и формулу:\n",
        "\n",
        "$\\displaystyle\\bar X\\pm t_{\\alpha/2}\\cdot\\frac{\\sigma_{несмещ}}{\\\\sqrt{n}}$,\n",
        "\n",
        "где\n",
        "$\\sigma_{несмещ}$-несмещённое среднее квадратическое отклонение выборки,\n",
        "\n",
        "$n$-размер выборки\n",
        "Воспользуемся встроенными функциями библиотеки numpy:"
      ],
      "metadata": {
        "id": "t9y3KjAvK7V6"
      }
    },
    {
      "cell_type": "code",
      "source": [
        "import numpy as np"
      ],
      "metadata": {
        "id": "YfgBdWlYLqZi"
      },
      "execution_count": 3,
      "outputs": []
    },
    {
      "cell_type": "code",
      "source": [
        "arr=np.array([6.9, 6.1, 6.2, 6.8, 7.5, 6.3, 6.4, 6.9, 6.7, 6.1])\n",
        "print(f'Среднее выборочное: {np.mean(arr): .2f},\\n'\n",
        "      f'Размер выборки n={len(arr)},\\n'\n",
        "      f'Среднее квадратическое отклонение по выборке(несмещенное): {np.std(arr, ddof=1): .2f}.'\n",
        "     )"
      ],
      "metadata": {
        "colab": {
          "base_uri": "https://localhost:8080/"
        },
        "id": "bIt45-F1LvJz",
        "outputId": "df3becf7-749c-469a-c5f4-4ca1d679e249"
      },
      "execution_count": 4,
      "outputs": [
        {
          "output_type": "stream",
          "name": "stdout",
          "text": [
            "Среднее выборочное:  6.59,\n",
            "Размер выборки n=10,\n",
            "Среднее квадратическое отклонение по выборке(несмещенное):  0.45.\n"
          ]
        }
      ]
    },
    {
      "cell_type": "markdown",
      "source": [
        "Для вычисления t-критерия воспользуемся библиотекой scipy"
      ],
      "metadata": {
        "id": "QCJ4TZKcL1RC"
      }
    },
    {
      "cell_type": "code",
      "source": [
        "import scipy.stats as stats"
      ],
      "metadata": {
        "id": "5cyao07oL4rT"
      },
      "execution_count": 5,
      "outputs": []
    },
    {
      "cell_type": "code",
      "source": [
        "def t_from_table(confidens, len_array):\n",
        "    alpha=(1-confidens)\n",
        "    return stats.t.ppf(1-alpha/2, len_array-1)\n",
        "print(f'Табличное значение t-критерия для 95%-го доверительного интервала данной выборки: {t_from_table(0.95, len(arr)): .3f}')"
      ],
      "metadata": {
        "colab": {
          "base_uri": "https://localhost:8080/"
        },
        "id": "dk2qj5iDMMgL",
        "outputId": "a76f76fe-39ee-4505-c92a-b3da306d9881"
      },
      "execution_count": 6,
      "outputs": [
        {
          "output_type": "stream",
          "name": "stdout",
          "text": [
            "Табличное значение t-критерия для 95%-го доверительного интервала данной выборки:  2.262\n"
          ]
        }
      ]
    },
    {
      "cell_type": "markdown",
      "source": [
        "Итоговая функция для расчета доверительного интервала:"
      ],
      "metadata": {
        "id": "BhTKlxlFMjzD"
      }
    },
    {
      "cell_type": "code",
      "source": [
        "def confidens_int(arr, confidens):\n",
        "    return round(np.mean(arr)-t_from_table(confidens,len(arr))*np.std(arr, ddof=1)/len(arr)**0.5,3), \\\n",
        "           round(np.mean(arr)+t_from_table(confidens,len(arr))*np.std(arr, ddof=1)/len(arr)**0.5,3)\n",
        "\n",
        "print(f'95%-й доверительный интервал для истинного значения Х: {confidens_int(arr, 0.95)}.')"
      ],
      "metadata": {
        "colab": {
          "base_uri": "https://localhost:8080/"
        },
        "id": "mXN35Tv8MlMz",
        "outputId": "398e34e4-e571-497a-cae9-e312f483d1a8"
      },
      "execution_count": 7,
      "outputs": [
        {
          "output_type": "stream",
          "name": "stdout",
          "text": [
            "95%-й доверительный интервал для истинного значения Х: (6.268, 6.912).\n"
          ]
        }
      ]
    },
    {
      "cell_type": "markdown",
      "source": [
        "Ответ:\n",
        "\n",
        "(6.268, 6.912)"
      ],
      "metadata": {
        "id": "E_xLZ2CyM4Vq"
      }
    },
    {
      "cell_type": "markdown",
      "source": [
        "## Задача 2.2\n",
        "\n",
        "Проведите тест гипотезы. Утверждается, что шарики для подшипников, изготовленные автоматическим станком, имеют средний диаметр 17 мм. Используя односторонний критерий с α=0,05, проверить эту гипотезу, если в выборке из n=100 шариков средний диаметр оказался равным 17.5 мм, а дисперсия известна и равна 4 кв. мм."
      ],
      "metadata": {
        "id": "CGVH6moVM9ip"
      }
    },
    {
      "cell_type": "markdown",
      "source": [
        "### Решение 2.2\n",
        "\n",
        "Сформулируем нулевую гипотезу:\n",
        "\n",
        "$H0: \\mu=\\mu_0=17$, где $\\mu$ и $\\mu_0$ средние выборки и генеральной совокупности и выборки, соответственно.\n",
        "\n",
        "Альтернативная гипотеза:\n",
        "\n",
        "$H1: \\mu>\\mu_0$\n",
        "\n",
        "Поскольку нам известны и среднее и дисперсия генеральной совокупности, то для проверки гипотезы будем использовать $z$-критерий.\n",
        "\n",
        "$z_н=\\frac{\\bar X-\\mu_0}{\\sigma/\\sqrt n}$, где  \n",
        "\n",
        "$\\bar X=\\mu=17.5$ среднее по выборке,\n",
        "$\\sigma=\\sqrt 4=2$ среднее квадратическое отклонение генеральной совокупности,\n",
        "$n=100$ размер выборки."
      ],
      "metadata": {
        "id": "1B3QhTtXNNF3"
      }
    },
    {
      "cell_type": "code",
      "source": [
        "z=(17.5-17)/0.2\n",
        "print(f'Наблюдаемое значение z-критерия: {z: .4f}')"
      ],
      "metadata": {
        "colab": {
          "base_uri": "https://localhost:8080/"
        },
        "id": "xaD_CuYSOXWw",
        "outputId": "e2b31039-7a13-4135-c6d3-5fce2416b451"
      },
      "execution_count": 8,
      "outputs": [
        {
          "output_type": "stream",
          "name": "stdout",
          "text": [
            "Наблюдаемое значение z-критерия:  2.5000\n"
          ]
        }
      ]
    },
    {
      "cell_type": "markdown",
      "source": [
        "Найдем табличное значение $z$-критерия, для $\\alpha=0.05$"
      ],
      "metadata": {
        "id": "dpvt63u3Ok85"
      }
    },
    {
      "cell_type": "code",
      "source": [
        "zt=stats.norm.ppf(0.95)\n",
        "print(f'Табличное значение z-критерия: {zt: .4f}')"
      ],
      "metadata": {
        "colab": {
          "base_uri": "https://localhost:8080/"
        },
        "id": "uT9yhpQxOoY4",
        "outputId": "786ee3f6-ccff-4f9d-e5ac-5a85b228fc96"
      },
      "execution_count": 9,
      "outputs": [
        {
          "output_type": "stream",
          "name": "stdout",
          "text": [
            "Табличное значение z-критерия:  1.6449\n"
          ]
        }
      ]
    },
    {
      "cell_type": "markdown",
      "source": [
        "Сравним полученные значения:"
      ],
      "metadata": {
        "id": "H1FgpFqVO0d6"
      }
    },
    {
      "cell_type": "code",
      "source": [
        "z<zt"
      ],
      "metadata": {
        "colab": {
          "base_uri": "https://localhost:8080/"
        },
        "id": "JhMXsXgqO2k-",
        "outputId": "42b9bf9c-2d46-4e17-f461-3880d9ce3b90"
      },
      "execution_count": 10,
      "outputs": [
        {
          "output_type": "execute_result",
          "data": {
            "text/plain": [
              "False"
            ]
          },
          "metadata": {},
          "execution_count": 10
        }
      ]
    },
    {
      "cell_type": "markdown",
      "source": [
        "Поскольку $z_н>z_t$, **отвергаем** нулевую гипотезу на уровне значимости $\\alpha=0.05$"
      ],
      "metadata": {
        "id": "iWoKIlOrPD9O"
      }
    },
    {
      "cell_type": "markdown",
      "source": [
        "Ответ:\n",
        "\n",
        "Отвергаем нулевую гипотезу $H0: \\mu_0=17$ на уровне значимости $\\alpha=0.05$"
      ],
      "metadata": {
        "id": "SxX1JFKjPG5_"
      }
    },
    {
      "cell_type": "markdown",
      "source": [
        "## Задача 3\n",
        "\n",
        "Проведите тест гипотезы.\n",
        "\n",
        "Продавец утверждает, что средний вес пачки печенья составляет 200 г.\n",
        "Из партии извлечена выборка из 10 пачек. Вес каждой пачки составляет:\n",
        "202, 203, 199, 197, 195, 201, 200, 204, 194, 190.\n",
        "Известно, что их веса распределены нормально.\n",
        "\n",
        "Верно ли утверждение продавца, если учитывать, что доверительная вероятность равна 99%? (Провести двусторонний тест.)"
      ],
      "metadata": {
        "id": "IvXye2M-PaX1"
      }
    },
    {
      "cell_type": "markdown",
      "source": [
        "### Решение 3.1\n",
        "\n",
        "Из условия задачи следует что нужно проводить проверку следующих гипотез:\n",
        "$H0: \\mu=\\mu_0=200$, где $\\mu$ и $\\mu_0$ средние выборки и генеральной совокупности и выборки, соответственно.\n",
        "  \n",
        "Альтернативная гипотеза:\n",
        "  $H1: \\mu\\neq\\mu_0$\n",
        "при этом будем использовать **двусторонний** критерий c уровнем значимости $\\alpha=1-0.99=0.01$\n",
        "Поскольку нам не известны ни среднее, ни дисперсия генеральной совокупности, то для проверки гипотезы будем использовать $t$-критерий."
      ],
      "metadata": {
        "id": "bBix_VwVNBO_"
      }
    },
    {
      "cell_type": "code",
      "source": [
        "cookies=np.array([202, 203, 199, 197, 195, 201, 200, 204, 194, 190])"
      ],
      "metadata": {
        "id": "mU1B9AS_Lqmd"
      },
      "execution_count": 11,
      "outputs": []
    },
    {
      "cell_type": "markdown",
      "source": [
        "Расчитаем наблюдаемое значение t-критерия $t_н$"
      ],
      "metadata": {
        "id": "ZzymJq6kNlnL"
      }
    },
    {
      "cell_type": "code",
      "source": [
        "tn=(np.mean(cookies)-200)/(np.std(cookies,ddof=1)/len(cookies)**0.5)\n",
        "print(f'Наблюдаемое значение t-критерия: {tn: .4f}')"
      ],
      "metadata": {
        "colab": {
          "base_uri": "https://localhost:8080/"
        },
        "id": "fChtvt7DLwgn",
        "outputId": "86ce70ae-2bc2-4851-e99b-2f50255f8e1b"
      },
      "execution_count": 12,
      "outputs": [
        {
          "output_type": "stream",
          "name": "stdout",
          "text": [
            "Наблюдаемое значение t-критерия: -1.0651\n"
          ]
        }
      ]
    },
    {
      "cell_type": "markdown",
      "source": [
        "Найдем табличное значение $t$-критерия $t_t$, для $\\alpha/2=0.01/2=0.005$"
      ],
      "metadata": {
        "id": "1aUmMH_3Nru8"
      }
    },
    {
      "cell_type": "code",
      "source": [
        "tt=stats.t.ppf(0.995,len(cookies)-1)\n",
        "print(f'Табличное значение t-критерия: {tt: .4f}')"
      ],
      "metadata": {
        "colab": {
          "base_uri": "https://localhost:8080/"
        },
        "id": "y3joSOQoLzmg",
        "outputId": "7222d80c-ecbb-463c-a58e-9d87b7ff9aa0"
      },
      "execution_count": 13,
      "outputs": [
        {
          "output_type": "stream",
          "name": "stdout",
          "text": [
            "Табличное значение t-критерия:  3.2498\n"
          ]
        }
      ]
    },
    {
      "cell_type": "markdown",
      "source": [
        "Сравним полученные значения (поскольку у нас двусторонний критерий, то используем абсолютное значение полученного t-критерия):\n",
        "\n",
        "Поскольку $|t_н|<t_t$, **принимаем** нулевую гипотезу на уровне значимости $\\alpha=0.01$"
      ],
      "metadata": {
        "id": "EZz50fvcN_G1"
      }
    },
    {
      "cell_type": "code",
      "source": [
        "np.abs(tn)<tt"
      ],
      "metadata": {
        "colab": {
          "base_uri": "https://localhost:8080/"
        },
        "id": "jdjoE3wEL3mG",
        "outputId": "f8c71a3c-b5f1-4db8-c573-26f9d0f3c828"
      },
      "execution_count": 14,
      "outputs": [
        {
          "output_type": "execute_result",
          "data": {
            "text/plain": [
              "True"
            ]
          },
          "metadata": {},
          "execution_count": 14
        }
      ]
    },
    {
      "cell_type": "markdown",
      "source": [
        "Поскольку $|t_н|<t_t$, **принимаем** нулевую гипотезу на уровне значимости $\\alpha=0.01$"
      ],
      "metadata": {
        "id": "b6Z8-nGkOr52"
      }
    },
    {
      "cell_type": "markdown",
      "source": [
        "Ответ:\n",
        "**Принимаем** нулевую гипотезу $H0: \\mu_0=200$ на уровне значимости $\\alpha=0.01$"
      ],
      "metadata": {
        "id": "WgFWxUmAObpz"
      }
    }
  ]
}