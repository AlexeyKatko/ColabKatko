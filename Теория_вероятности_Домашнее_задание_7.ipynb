{
  "nbformat": 4,
  "nbformat_minor": 0,
  "metadata": {
    "colab": {
      "provenance": [],
      "authorship_tag": "ABX9TyN6dE5xtCbgOLwhc1dZxife",
      "include_colab_link": true
    },
    "kernelspec": {
      "name": "python3",
      "display_name": "Python 3"
    },
    "language_info": {
      "name": "python"
    }
  },
  "cells": [
    {
      "cell_type": "markdown",
      "metadata": {
        "id": "view-in-github",
        "colab_type": "text"
      },
      "source": [
        "<a href=\"https://colab.research.google.com/github/AlexeyKatko/ColabKatko/blob/main/%D0%A2%D0%B5%D0%BE%D1%80%D0%B8%D1%8F_%D0%B2%D0%B5%D1%80%D0%BE%D1%8F%D1%82%D0%BD%D0%BE%D1%81%D1%82%D0%B8_%D0%94%D0%BE%D0%BC%D0%B0%D1%88%D0%BD%D0%B5%D0%B5_%D0%B7%D0%B0%D0%B4%D0%B0%D0%BD%D0%B8%D0%B5_7.ipynb\" target=\"_parent\"><img src=\"https://colab.research.google.com/assets/colab-badge.svg\" alt=\"Open In Colab\"/></a>"
      ]
    },
    {
      "cell_type": "markdown",
      "source": [
        "# Урок 7. Непараметрические тесты"
      ],
      "metadata": {
        "id": "I0wSkG6Sl-wb"
      }
    },
    {
      "cell_type": "markdown",
      "source": [
        "## Задача 1\n",
        "\n",
        "Даны две  независимые выборки. Не соблюдается условие нормальности\n",
        "\n",
        "x1  380,420, 290\n",
        "\n",
        "y1 140,360,200,900"
      ],
      "metadata": {
        "id": "Xh9R5_Felzi7"
      }
    },
    {
      "cell_type": "markdown",
      "source": [
        "### Решение 1.1"
      ],
      "metadata": {
        "id": "O3gBb8E9m-ci"
      }
    },
    {
      "cell_type": "code",
      "execution_count": 1,
      "metadata": {
        "id": "hB8LN5gYlxHo"
      },
      "outputs": [],
      "source": [
        "import numpy as np\n",
        "import scipy.stats as stats"
      ]
    },
    {
      "cell_type": "code",
      "source": [
        "x1 = np.array([380, 420, 290])\n",
        "y1 = np.array([140, 360, 200, 900])\n",
        "alpha = 0.05\n",
        "\n",
        "stats.mannwhitneyu(x1, y1)"
      ],
      "metadata": {
        "colab": {
          "base_uri": "https://localhost:8080/"
        },
        "id": "kYs9d7-cmSa5",
        "outputId": "8b46bd78-0703-4262-a4b9-cb92c53d41c0"
      },
      "execution_count": 2,
      "outputs": [
        {
          "output_type": "execute_result",
          "data": {
            "text/plain": [
              "MannwhitneyuResult(statistic=8.0, pvalue=0.6285714285714286)"
            ]
          },
          "metadata": {},
          "execution_count": 2
        }
      ]
    },
    {
      "cell_type": "markdown",
      "source": [
        "Ответ:\n",
        "\n",
        "$p-value > \\alpha$ -> $H_0$ не отвергается, статистических различий между группами нет."
      ],
      "metadata": {
        "id": "oa2Wen0Hmn00"
      }
    },
    {
      "cell_type": "markdown",
      "source": [
        "## Задача 2\n",
        "\n",
        "Исследовалось влияние препарата на уровень давления пациентов. Сначала измерялось давление до приема препарата, потом через 10 минут и через 30 минут. Есть ли статистически значимые различия?\n",
        "\n",
        "1е измерение до приема препарата: 150, 160, 165, 145, 155\n",
        "\n",
        "2е измерение через 10 минут: 140, 155, 150,  130, 135\n",
        "\n",
        "3е измерение через 30 минут: 130, 130, 120, 130, 125"
      ],
      "metadata": {
        "id": "ZjQDTFr5mtKc"
      }
    },
    {
      "cell_type": "markdown",
      "source": [
        "### Решение 2.1"
      ],
      "metadata": {
        "id": "xbTksJDim62U"
      }
    },
    {
      "cell_type": "code",
      "source": [
        "x1 = np.array([150, 160, 165, 145, 155])\n",
        "x2 = np.array([140, 155, 150, 130, 135])\n",
        "x3 = np.array([130, 130, 120, 130, 125])\n",
        "alpha = 0.05\n",
        "\n",
        "stats.friedmanchisquare(x1, x2, x3)"
      ],
      "metadata": {
        "colab": {
          "base_uri": "https://localhost:8080/"
        },
        "id": "vcz5otg2nLoH",
        "outputId": "b8d1eb0e-81ec-4999-b83c-a1566a0ca011"
      },
      "execution_count": 3,
      "outputs": [
        {
          "output_type": "execute_result",
          "data": {
            "text/plain": [
              "FriedmanchisquareResult(statistic=9.578947368421062, pvalue=0.00831683351100441)"
            ]
          },
          "metadata": {},
          "execution_count": 3
        }
      ]
    },
    {
      "cell_type": "markdown",
      "source": [
        "Ответ:\n",
        "\n",
        "$p-value < \\alpha$ -> $H_0$ отвергается, статистически значимые различий есть, препарат влияет на давление."
      ],
      "metadata": {
        "id": "8mjjSCgMnhcr"
      }
    },
    {
      "cell_type": "markdown",
      "source": [
        "## Задача 3\n",
        "\n",
        "Сравните 1 и 2 е измерения, предполагая, что 3го измерения через 30 минут не было."
      ],
      "metadata": {
        "id": "aNncxF_Qotdh"
      }
    },
    {
      "cell_type": "markdown",
      "source": [
        "### Решение 3.1"
      ],
      "metadata": {
        "id": "B1O4O2fxpKLm"
      }
    },
    {
      "cell_type": "code",
      "source": [
        "x1 = np.array([150, 160, 165, 145, 155])\n",
        "x2 = np.array([140, 155, 150, 130, 135])\n",
        "alpha = 0.05\n",
        "stats.wilcoxon(x1, x2)"
      ],
      "metadata": {
        "colab": {
          "base_uri": "https://localhost:8080/"
        },
        "id": "l2g5TqTbo515",
        "outputId": "757d687d-5c1d-49b0-f76a-cb5d2f380be2"
      },
      "execution_count": 4,
      "outputs": [
        {
          "output_type": "execute_result",
          "data": {
            "text/plain": [
              "WilcoxonResult(statistic=0.0, pvalue=0.0625)"
            ]
          },
          "metadata": {},
          "execution_count": 4
        }
      ]
    },
    {
      "cell_type": "markdown",
      "source": [
        "Ответ\n",
        "\n",
        "$p-value > \\alpha$ -> $H_0$ не отвергается, статистических различий между группами нет, препарат не влияет на давление."
      ],
      "metadata": {
        "id": "9kKAY_jXpFS3"
      }
    },
    {
      "cell_type": "markdown",
      "source": [
        "## Задача 4\n",
        "\n",
        "Даны 3 группы  учеников плавания.\n",
        "\n",
        "В 1 группе время на дистанцию 50 м составляют:\n",
        "56, 60, 62, 55, 71, 67, 59, 58, 64, 67\n",
        "\n",
        "Вторая группа : 57, 58, 69, 48, 72, 70, 68, 71, 50, 53\n",
        "\n",
        "Третья группа: 57, 67, 49, 48, 47, 55, 66, 51, 54"
      ],
      "metadata": {
        "id": "3jTjYjSkpOIp"
      }
    },
    {
      "cell_type": "markdown",
      "source": [
        "### Решение 4.1"
      ],
      "metadata": {
        "id": "ObabdP8VqUZG"
      }
    },
    {
      "cell_type": "code",
      "source": [
        "x1 = np.array([56, 60, 62, 55, 71, 67, 59, 58, 64, 67])\n",
        "x2 = np.array([57, 58, 69, 48, 72, 70, 68, 71, 50, 53])\n",
        "x3 = np.array([57, 67, 49, 48, 47, 55, 66, 51, 54])\n",
        "alpha = 0.05\n",
        "stats.kruskal(x1, x2, x3)"
      ],
      "metadata": {
        "colab": {
          "base_uri": "https://localhost:8080/"
        },
        "id": "YRkHokT-qwGr",
        "outputId": "a36ba833-a684-4b99-836d-095144c3a761"
      },
      "execution_count": 5,
      "outputs": [
        {
          "output_type": "execute_result",
          "data": {
            "text/plain": [
              "KruskalResult(statistic=5.465564058257224, pvalue=0.0650380998590494)"
            ]
          },
          "metadata": {},
          "execution_count": 5
        }
      ]
    },
    {
      "cell_type": "markdown",
      "source": [
        "Ответ:\n",
        "\n",
        "$p-value > \\alpha$ -> $H_0$ не отвергается, статистических различий между группами нет, время на дистанцию одинаковое."
      ],
      "metadata": {
        "id": "3SwmGbswq8Bh"
      }
    },
    {
      "cell_type": "markdown",
      "source": [
        "## Задача 5\n",
        "\n",
        "Заявляется, что партия изготавливается со средним арифметическим 2,5 см. Проверить данную гипотезу, если известно, что размеры изделий подчинены нормальному закону распределения. Объем выборки 10, уровень статистической значимости 5%\n",
        "\n",
        "2.51, 2.35, 2.74, 2.56, 2.40, 2.36, 2.65, 2.7, 2.67, 2.34"
      ],
      "metadata": {
        "id": "NfoI9MQhrXIG"
      }
    },
    {
      "cell_type": "markdown",
      "source": [
        "### Решение 5.1\n",
        "\n",
        "**Определяем гипотезу**\n",
        "\n",
        "Основаная гипотеза $H_0: M(X)=2.5, \\mu=\\mu_0$\n",
        "\n",
        "Альтернативная гипотеза $H_1: M(X)=2.5, \\mu\\neq\\mu_0$\n",
        "\n",
        "$ ДКО: \\Omega_\\alpha=(- \\infty, t_{\\alpha/2},) \\cup (t_{1-\\alpha/2}, \\infty)$\n",
        "\n",
        "**Определяем наблюдаемый критерий**\n",
        "\n",
        "Нам неизвестна дисперсия и мы проверяем гипотезу относительно математического ожидания нормально распределённой случайной величины будем использовать $t$-критерий.\n",
        "\n",
        "  $t=\\dfrac{\\overline{X}-\\mu}{\\sigma_X/\\sqrt{n}}$:\n",
        "\n",
        "Размер выборки: $n=10$, $ \\mu=2.5$"
      ],
      "metadata": {
        "id": "vYKA36fcrdG9"
      }
    },
    {
      "cell_type": "code",
      "source": [
        "arr = [2.51, 2.35, 2.74, 2.56, 2.40, 2.36, 2.65, 2.7, 2.67, 2.34]"
      ],
      "metadata": {
        "id": "Yznhx64fszG0"
      },
      "execution_count": 6,
      "outputs": []
    },
    {
      "cell_type": "markdown",
      "source": [
        "Расчитаем наблюдаемое значение $t$-критерия $t_н$"
      ],
      "metadata": {
        "id": "c2fykFzPteyk"
      }
    },
    {
      "cell_type": "code",
      "source": [
        "n = 10\n",
        "mu = 2.5\n",
        "x_mean = np.mean(arr)\n",
        "sigma = np.std(arr, ddof = 1)\n",
        "tn = (x_mean - mu) / (sigma / n**0.5)\n",
        "print(f'Наблюдаемое значение t-критерия: {round(tn, 4)}')"
      ],
      "metadata": {
        "colab": {
          "base_uri": "https://localhost:8080/"
        },
        "id": "aoveicils1Pq",
        "outputId": "a0bdd45c-9d56-4aab-bad1-2540a3c4b047"
      },
      "execution_count": 7,
      "outputs": [
        {
          "output_type": "stream",
          "name": "stdout",
          "text": [
            "Наблюдаемое значение t-критерия: 0.5631\n"
          ]
        }
      ]
    },
    {
      "cell_type": "markdown",
      "source": [
        "Определяем уровень значимости\n",
        "\n",
        "$\\alpha=0.05$"
      ],
      "metadata": {
        "id": "BNyBAuBNtpmn"
      }
    },
    {
      "cell_type": "code",
      "source": [
        "alpha = 0.05\n",
        "\n",
        "t1 = stats.t.ppf(1 - alpha / 2, n - 1)\n",
        "t2 = stats.t.ppf(alpha / 2, n - 1)\n",
        "print(f'Табличное значение t-критерия: t2 = {round(t2, 4)}, t1 = {round(t1, 4)}')"
      ],
      "metadata": {
        "colab": {
          "base_uri": "https://localhost:8080/"
        },
        "id": "UbezZB3_tKah",
        "outputId": "752bd6f4-dab7-4a97-ef99-05945dc9bc3f"
      },
      "execution_count": 8,
      "outputs": [
        {
          "output_type": "stream",
          "name": "stdout",
          "text": [
            "Табличное значение t-критерия: t2 = -2.2622, t1 = 2.2622\n"
          ]
        }
      ]
    },
    {
      "cell_type": "code",
      "source": [
        "t2 < np.abs(tn) < t1"
      ],
      "metadata": {
        "colab": {
          "base_uri": "https://localhost:8080/"
        },
        "id": "hKysn9uZtPLm",
        "outputId": "d22bc540-af31-47b6-f46d-497e88d28c10"
      },
      "execution_count": 9,
      "outputs": [
        {
          "output_type": "execute_result",
          "data": {
            "text/plain": [
              "True"
            ]
          },
          "metadata": {},
          "execution_count": 9
        }
      ]
    },
    {
      "cell_type": "markdown",
      "source": [
        "Ответ:\n",
        "\n",
        "Так как $t_2<|t_н|<t_1$, то нулевая гипотеза $H_0$ не отвергается."
      ],
      "metadata": {
        "id": "jJFTdKoot72_"
      }
    }
  ]
}