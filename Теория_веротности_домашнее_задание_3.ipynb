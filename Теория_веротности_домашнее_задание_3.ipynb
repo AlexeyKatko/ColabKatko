{
  "nbformat": 4,
  "nbformat_minor": 0,
  "metadata": {
    "colab": {
      "provenance": [],
      "toc_visible": true,
      "authorship_tag": "ABX9TyNs6aH72Tk+8Y94Zwznowbt",
      "include_colab_link": true
    },
    "kernelspec": {
      "name": "python3",
      "display_name": "Python 3"
    },
    "language_info": {
      "name": "python"
    }
  },
  "cells": [
    {
      "cell_type": "markdown",
      "metadata": {
        "id": "view-in-github",
        "colab_type": "text"
      },
      "source": [
        "<a href=\"https://colab.research.google.com/github/AlexeyKatko/ColabKatko/blob/main/%D0%A2%D0%B5%D0%BE%D1%80%D0%B8%D1%8F_%D0%B2%D0%B5%D1%80%D0%BE%D1%82%D0%BD%D0%BE%D1%81%D1%82%D0%B8_%D0%B4%D0%BE%D0%BC%D0%B0%D1%88%D0%BD%D0%B5%D0%B5_%D0%B7%D0%B0%D0%B4%D0%B0%D0%BD%D0%B8%D0%B5_3.ipynb\" target=\"_parent\"><img src=\"https://colab.research.google.com/assets/colab-badge.svg\" alt=\"Open In Colab\"/></a>"
      ]
    },
    {
      "cell_type": "markdown",
      "source": [
        "# Урок 3. EDA (exploratory data analysis) или Разведочный анализ"
      ],
      "metadata": {
        "id": "Jnz7ifAfSaNu"
      }
    },
    {
      "cell_type": "markdown",
      "source": [
        "## Задача 1\n",
        "\n",
        "Даны значения зарплат из выборки выпускников: 100, 80, 75, 77, 89, 33, 45, 25, 65, 17, 30, 24, 57, 55, 70, 75, 65, 84, 90, 150.\n",
        " - Посчитать (желательно без использования статистических методов наподобие std, var, mean):\n",
        " - среднее арифметическое,\n",
        " - среднее квадратичное отклонение,\n",
        " - смещенную и несмещенную оценки дисперсий для данной выборки."
      ],
      "metadata": {
        "id": "SyDm6gmiSkH6"
      }
    },
    {
      "cell_type": "code",
      "execution_count": 1,
      "metadata": {
        "id": "WvXHR1rRSOVg"
      },
      "outputs": [],
      "source": [
        "import numpy as np\n",
        "from math import factorial"
      ]
    },
    {
      "cell_type": "code",
      "source": [
        "arr=np.array([100, 80, 75, 77, 89, 33, 45, 25, 65, 17, 30, 24, 57, 55, 70, 75, 65, 84, 90, 150])\n",
        "arr"
      ],
      "metadata": {
        "colab": {
          "base_uri": "https://localhost:8080/"
        },
        "id": "8ytgm-wTT8li",
        "outputId": "b318400f-3453-422f-a7e8-ee9834db1442"
      },
      "execution_count": 2,
      "outputs": [
        {
          "output_type": "execute_result",
          "data": {
            "text/plain": [
              "array([100,  80,  75,  77,  89,  33,  45,  25,  65,  17,  30,  24,  57,\n",
              "        55,  70,  75,  65,  84,  90, 150])"
            ]
          },
          "metadata": {},
          "execution_count": 2
        }
      ]
    },
    {
      "cell_type": "markdown",
      "source": [
        "### Решение 1.1\n",
        "\n",
        "Расчитаем среднее арифметическое по формуле:\n",
        "\n",
        "$M(X)=\\frac{1}{n}\\sum^{n}_{i=1}x_i$"
      ],
      "metadata": {
        "id": "Xk1G4zBEUgp7"
      }
    },
    {
      "cell_type": "code",
      "source": [
        "def mean_value(array):\n",
        "    return sum(array)/len(array)"
      ],
      "metadata": {
        "id": "HUTa1_bBVoKW"
      },
      "execution_count": 3,
      "outputs": []
    },
    {
      "cell_type": "code",
      "source": [
        "print(f'Среднее арифметическое для данной выборки М(Х) = {mean_value(arr): .2f}')"
      ],
      "metadata": {
        "colab": {
          "base_uri": "https://localhost:8080/"
        },
        "id": "3rys-ke1VxoR",
        "outputId": "7be7cf21-2d9b-45b4-bfcc-f1073bdc1052"
      },
      "execution_count": 4,
      "outputs": [
        {
          "output_type": "stream",
          "name": "stdout",
          "text": [
            "Среднее арифметическое для данной выборки М(Х) =  65.30\n"
          ]
        }
      ]
    },
    {
      "cell_type": "code",
      "source": [
        "np.mean(arr)"
      ],
      "metadata": {
        "colab": {
          "base_uri": "https://localhost:8080/"
        },
        "id": "6M2K11_EV6Go",
        "outputId": "6e42386a-a2e6-434f-dfee-c5a754e34bae"
      },
      "execution_count": 5,
      "outputs": [
        {
          "output_type": "execute_result",
          "data": {
            "text/plain": [
              "65.3"
            ]
          },
          "metadata": {},
          "execution_count": 5
        }
      ]
    },
    {
      "cell_type": "markdown",
      "source": [
        "#### Решение 1.2\n",
        "\n",
        "Расчитаем среднее квадратичное отклонение выборки по формуле:\n",
        "\n",
        "$\\sigma=\\sqrt{\\frac{\\displaystyle\\sum^n_{i=1}(x_{i}-\\bar x)^2}{n}}$"
      ],
      "metadata": {
        "id": "_dPFCtg3WAu2"
      }
    },
    {
      "cell_type": "code",
      "source": [
        "def mean_square_deviation(array):\n",
        "    square_dev=(array-mean_value(array))**2\n",
        "    return (sum(square_dev)/len(square_dev))**(1/2)"
      ],
      "metadata": {
        "id": "RuGPFD6fW52h"
      },
      "execution_count": 6,
      "outputs": []
    },
    {
      "cell_type": "code",
      "source": [
        "print(f'Среднее квадратичное отклонение для данной выборки SD = {mean_square_deviation(arr): .4f}')"
      ],
      "metadata": {
        "colab": {
          "base_uri": "https://localhost:8080/"
        },
        "id": "Pg18u8KPXDX4",
        "outputId": "8e744a27-73da-40af-a98e-067bd3d75c30"
      },
      "execution_count": 7,
      "outputs": [
        {
          "output_type": "stream",
          "name": "stdout",
          "text": [
            "Среднее квадратичное отклонение для данной выборки SD =  30.8239\n"
          ]
        }
      ]
    },
    {
      "cell_type": "markdown",
      "source": [
        "Проверим с помощью функции std:"
      ],
      "metadata": {
        "id": "f_TMx2HPXKw9"
      }
    },
    {
      "cell_type": "code",
      "source": [
        "np.std(arr)"
      ],
      "metadata": {
        "colab": {
          "base_uri": "https://localhost:8080/"
        },
        "id": "PJ9Ec97eXMZp",
        "outputId": "e6589f0c-709b-4bd6-f0dd-ab314beae6ca"
      },
      "execution_count": 8,
      "outputs": [
        {
          "output_type": "execute_result",
          "data": {
            "text/plain": [
              "30.823854398825596"
            ]
          },
          "metadata": {},
          "execution_count": 8
        }
      ]
    },
    {
      "cell_type": "markdown",
      "source": [
        "##### Решение 1.3\n",
        "\n",
        "Расчитаем смещенную оценку дисперсии по формуле:\n",
        "\n",
        "$\\sigma^2=\\sqrt{\\frac{\\displaystyle\\sum^n_{i=1}(x_{i}-\\bar x)^2}{n}}$\n",
        "\n",
        "а несмещённую по формуле:\n",
        "\n",
        "$\\sigma^2=\\sqrt{\\frac{\\displaystyle\\sum^n_{i=1}(x_{i}-\\bar x)^2}{n-1}}$"
      ],
      "metadata": {
        "id": "Rdi5ttD8XYmO"
      }
    },
    {
      "cell_type": "code",
      "source": [
        "def dispers(array, no_off=False):\n",
        "#аргумент no_off отвечает за расчет смещенной, или несмещенной оценки дисперсии. По умолчанио расчитывается смещенная.#\n",
        "    square_dev=(array-mean_value(array))**2\n",
        "    return sum(square_dev)/(len(square_dev)-1) if no_off else sum(square_dev)/len(square_dev)"
      ],
      "metadata": {
        "id": "1lcRpRrDYe5N"
      },
      "execution_count": 9,
      "outputs": []
    },
    {
      "cell_type": "code",
      "source": [
        "print(f'Смещенная оценка дисперсии для данной выборки D = {dispers(arr): .4f}\\n'\n",
        "      f'Немещенная оценка дисперсии для данной выборки D = {dispers(arr, True): .4f}'\n",
        "     )"
      ],
      "metadata": {
        "colab": {
          "base_uri": "https://localhost:8080/"
        },
        "id": "l3Y3j0RfYjUH",
        "outputId": "df2b7267-d1e5-479f-d8f1-da67344a8f06"
      },
      "execution_count": 10,
      "outputs": [
        {
          "output_type": "stream",
          "name": "stdout",
          "text": [
            "Смещенная оценка дисперсии для данной выборки D =  950.1100\n",
            "Немещенная оценка дисперсии для данной выборки D =  1000.1158\n"
          ]
        }
      ]
    },
    {
      "cell_type": "markdown",
      "source": [
        "Проверим с помощью функции var:"
      ],
      "metadata": {
        "id": "__8A4s2YYuY7"
      }
    },
    {
      "cell_type": "code",
      "source": [
        "np.var(arr)"
      ],
      "metadata": {
        "colab": {
          "base_uri": "https://localhost:8080/"
        },
        "id": "ojssKWcbYvb3",
        "outputId": "d5b463f7-433e-42c8-81c6-99b86984a8a5"
      },
      "execution_count": 11,
      "outputs": [
        {
          "output_type": "execute_result",
          "data": {
            "text/plain": [
              "950.11"
            ]
          },
          "metadata": {},
          "execution_count": 11
        }
      ]
    },
    {
      "cell_type": "code",
      "source": [
        "np.var(arr, ddof=1)"
      ],
      "metadata": {
        "colab": {
          "base_uri": "https://localhost:8080/"
        },
        "id": "2UOXJPm3Y5Va",
        "outputId": "2f0f196b-4939-4e4c-ef39-ed7270cff44c"
      },
      "execution_count": 12,
      "outputs": [
        {
          "output_type": "execute_result",
          "data": {
            "text/plain": [
              "1000.1157894736842"
            ]
          },
          "metadata": {},
          "execution_count": 12
        }
      ]
    },
    {
      "cell_type": "markdown",
      "source": [
        "Ответ:\n",
        "\n",
        "- среднее арифметическое = 65.30\n",
        "- среднее квадратичное отклонение = 30.8239\n",
        "- Смещенная оценка дисперсии для данной выборки =  950.1100\n",
        "- Немещенная оценка дисперсии для данной выборки =  1000.1158"
      ],
      "metadata": {
        "id": "ge8sM5HkZFJp"
      }
    },
    {
      "cell_type": "markdown",
      "source": [
        "## Задача 2\n",
        "\n",
        "В первом ящике находится 8 мячей, из которых 5 - белые. Во втором ящике - 12 мячей, из которых 5 белых. Из первого ящика вытаскивают случайным образом два мяча, из второго - 4.\n",
        "- Какова вероятность того, что 3 мяча белые?"
      ],
      "metadata": {
        "id": "gTlgv8g7aB11"
      }
    },
    {
      "cell_type": "markdown",
      "source": [
        "### Решение 2.1\n",
        "\n",
        "Пусть $A$-искомое событие \\\"из двух корзин вытащили 3 белых\\\" мяча. Тогда это событие может произойти следующими способами:\n",
        "\n",
        "  а) $A_1$ из первой корзины не вытащили ни одного белого мяча, из второй вытащили 3 белых мяча;\n",
        "\n",
        "  б) $A_2$ из первой корзины вытащили 1 белый мяч, из второй вытащили 2 белых мяча;\n",
        "\n",
        "  в) $A_3$ из первой корзины вытащили 2 белых мяча, из второй вытащили 1 белый мяч.\n",
        "\n",
        "Вероятность события $A$ будет определяться как сумма вероятностей этих событий.\n",
        "\n",
        "Определим вероятность события $A_1$:\n",
        "\n",
        "\n",
        "  $P(A_1)=\\frac{C^2_3}{C^2_8}\\cdot\\frac{C^3_5\\cdot C^1_7}{C^4_{12}}$"
      ],
      "metadata": {
        "id": "8Br1rjfaaQIU"
      }
    },
    {
      "cell_type": "code",
      "source": [
        "def combinations(n,k):\n",
        "    return factorial(n)/(factorial(k)*factorial(n-k))"
      ],
      "metadata": {
        "id": "yuo6i5I0bbzQ"
      },
      "execution_count": 13,
      "outputs": []
    },
    {
      "cell_type": "code",
      "source": [
        "P1=(combinations(3,2)/combinations(8,2))*(combinations(5,3)*combinations(7,1)/combinations(12,4))\n",
        "print(f'Вероятность события \"из первой корзины не вытащили ни одного белого мяча'\n",
        "      f', из второй вытащили 3 белых мяча\"\\nP(A1) = {P1: .4f}'\n",
        "     )"
      ],
      "metadata": {
        "colab": {
          "base_uri": "https://localhost:8080/"
        },
        "id": "0zZRZ3xwbg5I",
        "outputId": "6e25e4e5-96e0-4e2d-b22f-ca4513210655"
      },
      "execution_count": 14,
      "outputs": [
        {
          "output_type": "stream",
          "name": "stdout",
          "text": [
            "Вероятность события \"из первой корзины не вытащили ни одного белого мяча, из второй вытащили 3 белых мяча\"\n",
            "P(A1) =  0.0152\n"
          ]
        }
      ]
    },
    {
      "cell_type": "markdown",
      "source": [
        "Определим вероятность события $A_2$:\n",
        "\n",
        "  $P(A_2)=\\frac{C^1_5\\cdot C^1_3}{C^2_8}\\cdot\\frac{C^2_5\\cdot C^2_7}{C^4_{12}}$"
      ],
      "metadata": {
        "id": "SHiYvhvzbwDj"
      }
    },
    {
      "cell_type": "code",
      "source": [
        "P2=(combinations(5,1)*combinations(3,1)*combinations(5,2)*combinations(7,2))/(combinations(8,2)*combinations(12,4))\n",
        "print(f'Вероятность события \"из первой корзины вытащили 1 белый мяч'\n",
        "      f', из второй вытащили 2 белых мяча\"\\nP(A2) = {P2: .4f}'\n",
        "     )"
      ],
      "metadata": {
        "colab": {
          "base_uri": "https://localhost:8080/"
        },
        "id": "ergvepexb9T4",
        "outputId": "641dd4b3-f6f5-4492-a457-f3045f96f3f5"
      },
      "execution_count": 15,
      "outputs": [
        {
          "output_type": "stream",
          "name": "stdout",
          "text": [
            "Вероятность события \"из первой корзины вытащили 1 белый мяч, из второй вытащили 2 белых мяча\"\n",
            "P(A2) =  0.2273\n"
          ]
        }
      ]
    },
    {
      "cell_type": "markdown",
      "source": [
        "Определим вероятность события $A_3$:\n",
        "  \n",
        "  $P(A_3)=\\frac{C^2_5}{C^2_8}\\cdot\\frac{C^1_5\\cdot C^3_7}{C^4_{12}}$"
      ],
      "metadata": {
        "id": "dFEAKiAZcQks"
      }
    },
    {
      "cell_type": "code",
      "source": [
        "P3=(combinations(5,2)*combinations(5,1)*combinations(7,3))/(combinations(8,2)*combinations(12,4))\n",
        "print(f'Вероятность события \"из первой корзины вытащили 2 белых мяча'\n",
        "      f', из второй вытащили 1 белый мяч\"\\nP(A2) = {P3: .4f}'\n",
        "     )"
      ],
      "metadata": {
        "colab": {
          "base_uri": "https://localhost:8080/"
        },
        "id": "XoGvFjR0cmZ2",
        "outputId": "57053e82-6096-49d1-c407-25175ab6793a"
      },
      "execution_count": 16,
      "outputs": [
        {
          "output_type": "stream",
          "name": "stdout",
          "text": [
            "Вероятность события \"из первой корзины вытащили 2 белых мяча, из второй вытащили 1 белый мяч\"\n",
            "P(A2) =  0.1263\n"
          ]
        }
      ]
    },
    {
      "cell_type": "markdown",
      "source": [
        "Вычислим $P(A)=P(A_1+A_2+A_3)=P(A_1)+P(A_2)+P(A_3)$"
      ],
      "metadata": {
        "id": "Swy2NHp1c0DT"
      }
    },
    {
      "cell_type": "code",
      "source": [
        "print(f'Вероятность того, что из вытащенных мячей 3 белые Р(А) = {P1+P2+P3: .4f}')"
      ],
      "metadata": {
        "colab": {
          "base_uri": "https://localhost:8080/"
        },
        "id": "aWB1TwKscyl4",
        "outputId": "7a5e34a9-bd09-41f2-c7a2-200d3161b3ab"
      },
      "execution_count": 17,
      "outputs": [
        {
          "output_type": "stream",
          "name": "stdout",
          "text": [
            "Вероятность того, что из вытащенных мячей 3 белые Р(А) =  0.3687\n"
          ]
        }
      ]
    },
    {
      "cell_type": "markdown",
      "source": [
        "Ответ:\n",
        "\n",
        "Вероятность того, что 3 мяча белые $P(A)$≈ 0.3687 ≈ 36.87%"
      ],
      "metadata": {
        "id": "ponqG4ZHdCmg"
      }
    },
    {
      "cell_type": "markdown",
      "source": [
        "## Задача 3\n",
        "\n",
        "На соревновании по биатлону один из трех спортсменов стреляет и попадает в мишень. Вероятность попадания для первого спортсмена равна 0.9, для второго — 0.8, для третьего — 0.6. Найти вероятность того, что выстрел произведен:\n",
        "\n",
        "a). первым спортсменом\n",
        "\n",
        "б). вторым спортсменом\n",
        "\n",
        "в). третьим спортсменом."
      ],
      "metadata": {
        "id": "Ni6tATTXd8nl"
      }
    },
    {
      "cell_type": "markdown",
      "source": [
        "### Решение 3.1\n",
        "\n",
        "Рассмотрим следующие события:\n",
        "\n",
        "$A$-в результате выстрела, цель поражена;\n",
        "\n",
        "$B_1$ выстрел произведен первым спортсменом;\n",
        "\n",
        "$B_2$ выстрел произведен вторым спортсменом;\n",
        "\n",
        "$B_3$ выстрел произведен третьим спортсменом.\n",
        "\n",
        "Вероятности того, что выстрел произведен определенным спортсменом равны, т.к. выстрел 1, и произвести его могут только 3 этих спортсмена, т.е. события $B_1, B_2, B_3$ составляют полную группу событий.\n",
        "  $\\Rightarrow P(B_1)=P(B_2)=P(B_3)=\\frac{1}{3}$\n",
        "\n",
        "  Вероятность того, что произошло событие $A$, при условии наступления события $B_n$ даны в условии задачи, т.е. $P_{B_1}(A)=0.9, P_{B_2}(A)=0.8, P_{B_3}(A)=0.6$, и, по формуле **полной** вероятности, вероятность наступления события $A$ -\n",
        "  $P(A)=P(B_1)\\cdot P_{B_1}(A)+P(B_2)\\cdot P_{B_2}(A)+P(B_3)\\cdot P_{B_3}(A)=\\frac{1}{3}\\cdot 0.9+\\frac{1}{3}\\cdot 0.8+\\frac{1}{3}\\cdot 0.6$"
      ],
      "metadata": {
        "id": "r6vEFlKPePbR"
      }
    },
    {
      "cell_type": "code",
      "source": [
        "PB=1/3\n",
        "PA=PB*0.9+PB*0.8+PB*0.6\n",
        "print(f'Полная вероятность наступления события А Р(А) = {PA: .4f}')"
      ],
      "metadata": {
        "colab": {
          "base_uri": "https://localhost:8080/"
        },
        "id": "dhKbhezhfe8x",
        "outputId": "fa43ccda-9d8b-4a77-ca01-ad395bfac8b5"
      },
      "execution_count": 18,
      "outputs": [
        {
          "output_type": "stream",
          "name": "stdout",
          "text": [
            "Полная вероятность наступления события А Р(А) =  0.7667\n"
          ]
        }
      ]
    },
    {
      "cell_type": "markdown",
      "source": [
        "Теперь, исходя из того, что событие $A$ уже произошло, с помощью формулы **Байеса** оценим вероятность того, что имело место одно из событий $B_n$\n",
        "\n",
        "\n",
        "$P_A(B_n)=\\frac{P(B_n)\\cdot P_{B_n}(A)}{P(A)}\\Rightarrow\\\\\\\\P_A(B_1)=\\frac{\\frac{1}{3}\\cdot 0.9}{0.7667}\\\\\\\\P_A(B_2)=\\frac{\\frac{1}{3}\\cdot 0.8}{0.7667}\\\\\\\\P_A(B_1)=\\frac{\\frac{1}{3}\\cdot 0.6}{0.7667}$"
      ],
      "metadata": {
        "id": "9xyGFFmjfxNx"
      }
    },
    {
      "cell_type": "code",
      "source": [
        "PAB1=PB*0.9/PA\n",
        "PAB2=PB*0.8/PA\n",
        "PAB3=PB*0.6/PA\n",
        "print(f'Вероятность того, что выстрел произвёл первый спортсмен: {PAB1: .4f};\\n'\n",
        "      f'Вероятность того, что выстрел произвёл второй спортсмен: {PAB2: .4f};\\n'\n",
        "      f'Вероятность того, что выстрел произвёл третий спортсмен: {PAB3: .4f}.'\n",
        "     )"
      ],
      "metadata": {
        "colab": {
          "base_uri": "https://localhost:8080/"
        },
        "id": "pgVS4xqigF4G",
        "outputId": "06663b8a-a71c-4584-f2c8-f5bfd41335dd"
      },
      "execution_count": 19,
      "outputs": [
        {
          "output_type": "stream",
          "name": "stdout",
          "text": [
            "Вероятность того, что выстрел произвёл первый спортсмен:  0.3913;\n",
            "Вероятность того, что выстрел произвёл второй спортсмен:  0.3478;\n",
            "Вероятность того, что выстрел произвёл третий спортсмен:  0.2609.\n"
          ]
        }
      ]
    },
    {
      "cell_type": "markdown",
      "source": [
        "Вероятность того, что выстрел произвёл первый спортсмен ≈ 0.3913 ≈ 39.13%\n",
        "\n",
        "Вероятность того, что выстрел произвёл второй спортсмен ≈ 0.3478 ≈ 34.78%\n",
        "\n",
        "Вероятность того, что выстрел произвёл третий спортсмен ≈ 0.2609 ≈ 26.09%"
      ],
      "metadata": {
        "id": "TWB0DtXGgehh"
      }
    },
    {
      "cell_type": "markdown",
      "source": [
        "## Задача 4\n",
        "\n",
        "В университет на факультеты A и B поступило равное количество студентов, а на факультет C студентов поступило столько же, сколько на A и B вместе. Вероятность того, что студент факультета A сдаст первую сессию, равна 0.8. Для студента факультета B эта вероятность равна 0.7, а для студента факультета C - 0.9.\n",
        "\n",
        "Студент сдал первую сессию. Какова вероятность, что он учится:\n",
        "\n",
        "a). на факультете A\n",
        "\n",
        " б). на факультете B\n",
        "\n",
        " в). на факультете C?"
      ],
      "metadata": {
        "id": "WANTF0nnhNqy"
      }
    },
    {
      "cell_type": "markdown",
      "source": [
        "### Решение 4.1\n",
        "\n",
        "Пусть $n$ - количество студентов на факультете $A$, тогда на факультете $B$ учится $n$ студентов, а на факультете $C$ $2n$ студентов.\n",
        "\n",
        "Введем события $S_A, S_B, S_C$, что сессию сдаёт студент факультетов $A$, $B$, и $С$ соответственно, и событие $D$-сессия сдана.\n",
        "\n",
        "события $S_A$, $S_B$, и $S_С$ образуют полную группу событий,\n",
        "\n",
        "$\\Rightarrow P(S_A)+P(S_B)+P(S_C)=1$\n",
        "\n",
        "T.e. $\\frac{1}{n}+\\frac{1}{n}+\\frac{1}{2n}=1\\\\\\\\n=2.5\\\\\\\\\\Rightarrow P(S_A)=\\frac{1}{n}=0.25, P(S_B)=\\frac{1}{n}=0.25, P(S_C)=\\frac{1}{2n}=0.5$\n",
        "\n",
        "Условные вероятности Наступления события $D$, при условии что произошло одно из событий $S_n$ даны в условии задачи.\n",
        "\n",
        "Полная вероятность наступления события $D$ исходя из формулы **полной** вероятности:"
      ],
      "metadata": {
        "id": "rB8UByjyiFnl"
      }
    },
    {
      "cell_type": "code",
      "source": [
        "PD=0.25*0.8+0.25*0.7+0.5*0.9\n",
        "print(f'Полная вероятность наступления события D, P(D) = {PD}.')"
      ],
      "metadata": {
        "colab": {
          "base_uri": "https://localhost:8080/"
        },
        "id": "vaiC5Zu1jOkd",
        "outputId": "70c08348-6594-4bc0-bf7c-3bd410965813"
      },
      "execution_count": 20,
      "outputs": [
        {
          "output_type": "stream",
          "name": "stdout",
          "text": [
            "Полная вероятность наступления события D, P(D) = 0.825.\n"
          ]
        }
      ]
    },
    {
      "cell_type": "markdown",
      "source": [
        "По формуле **Байеса** вычислим вероятность того, на каком факультете учится студент, успешно сдавший сессию.\n",
        "\n",
        "$P_D(S_A)=\\frac{P(S_A)\\cdot P_{S_A}(D)}{P(D)}$ студент учится на факультете А\n",
        "\n",
        "\n",
        "$P_D(S_B)=\\frac{P(S_B)\\cdot P_{S_B}(D)}{P(D)}$ студент учится на факультете В\n",
        "\n",
        "\n",
        "$P_D(S_C)=\\frac{P(S_C)\\cdot P_{S_C}(D)}{P(D)}$ студент учится на факультете С"
      ],
      "metadata": {
        "id": "PLCdAO8hj17e"
      }
    },
    {
      "cell_type": "code",
      "source": [
        "PDSA=0.25*0.8/PD\n",
        "PDSB=0.25*0.7/PD\n",
        "PDSC=0.5*0.9/PD\n",
        "print(f'Вероятность того, что студент учится на факультете А: {PDSA: .4f};\\n'\n",
        "      f'Вероятность того, что студент учится на факультете B: {PDSB: .4f};\\n'\n",
        "      f'Вероятность того, что студент учится на факультете C: {PDSC: .4f}.'\n",
        "      )"
      ],
      "metadata": {
        "colab": {
          "base_uri": "https://localhost:8080/"
        },
        "id": "n0L_JXKIkJAP",
        "outputId": "294ee165-e869-4fc0-fdf1-95d5306d6e10"
      },
      "execution_count": 21,
      "outputs": [
        {
          "output_type": "stream",
          "name": "stdout",
          "text": [
            "Вероятность того, что студент учится на факультете А:  0.2424;\n",
            "Вероятность того, что студент учится на факультете B:  0.2121;\n",
            "Вероятность того, что студент учится на факультете C:  0.5455.\n"
          ]
        }
      ]
    },
    {
      "cell_type": "markdown",
      "source": [
        "Ответ:\n",
        "\n",
        "Вероятность того, что студент учится на факультете А ≈ 0.2424 ≈ 24.24%\n",
        "\n",
        "Вероятность того, что студент учится на факультете B ≈ 0.2121 ≈ 21.21%\n",
        "\n",
        "Вероятность того, что студент учится на факультете C ≈ 0.5455 ≈ 54.55%"
      ],
      "metadata": {
        "id": "SErxPgvukhGD"
      }
    },
    {
      "cell_type": "markdown",
      "source": [
        "## Задача 5\n",
        "\n",
        "Устройство состоит из трех деталей. Для первой детали вероятность выйти из строя в первый месяц равна 0.1, для второй - 0.2, для третьей - 0.25.\n",
        "\n",
        "Какова вероятность того, что в первый месяц выйдут из строя:\n",
        "\n",
        "а). все детали\n",
        "\n",
        "б). только две детали\n",
        "\n",
        "в). хотя бы одна деталь\n",
        "\n",
        "г). от одной до двух деталей?"
      ],
      "metadata": {
        "id": "yGD6PbGyhtqy"
      }
    },
    {
      "cell_type": "markdown",
      "source": [
        "### Решение 5.1\n",
        "\n",
        "Введем следующие события:\n",
        "\n",
        "а) Событие $A_1$-вышла из строя первая деталь, по условию задачи-вероятность этого события: $P(A_1)=0.1$;\n",
        "\n",
        "б) Событие $\\bar A_1$-противоположное событию $A_1$ - первая деталь не вышла из строя, вероятность этого события: $P(\\bar A_1)=1-P(A_1)=1-0.1=0,9$;\n",
        "\n",
        "\n",
        "в) Событие $A_2$-вышла из строя вторая деталь, по условию задачи-вероятность этого события: $P(A_2)=0.2$;\n",
        "\n",
        "г)  Событие $\\bar A_2$-противоположное событию $A_2$ - вторая деталь не вышла из строя, вероятность этого события: $P(\\bar A_2)=1-P(A_2)=1-0.2=0,8$;\n",
        "\n",
        "д) Событие $A_3$-вышла из строя первая деталь, по условию задачи-вероятность этого события: $P(A_3)=0.25$;\n",
        "\n",
        "е) Событие $\\bar A_3$-противоположное событию $A_3$ - третья деталь не вышла из строя, вероятность этого события: $P(\\bar A_3)=1-P(A_3)=1-0.25=0,9$;"
      ],
      "metadata": {
        "id": "wrC-artimOZR"
      }
    },
    {
      "cell_type": "markdown",
      "source": [
        "  а) Для того, чтобы произошло событие \\\"вышли из строя все детали\\\", необходимо, чтобы **одновременно** произошли события $A_1$, $A_2$, и $A_3$.\n",
        "  \n",
        "  А вероятностью этого события $P(3)$ будет произведением вероятностей этих событий.\n",
        "\n",
        "  $P(3)=P(A_1)\\cdot P(A_2)\\cdot P(A_3)=0.1\\cdot 0.2\\cdot 0.25$"
      ],
      "metadata": {
        "id": "am3a1ZVsn6EB"
      }
    },
    {
      "cell_type": "code",
      "source": [
        "P3=0.1*0.2*0.25\n",
        "print(f'Вероятность того, что из строя выйдут все детали Р(3) = {P3: .4f}')"
      ],
      "metadata": {
        "colab": {
          "base_uri": "https://localhost:8080/"
        },
        "id": "mx7dSdlwoOZL",
        "outputId": "45424b0c-ee3c-493c-c89e-6af00bfd5c46"
      },
      "execution_count": 22,
      "outputs": [
        {
          "output_type": "stream",
          "name": "stdout",
          "text": [
            "Вероятность того, что из строя выйдут все детали Р(3) =  0.0050\n"
          ]
        }
      ]
    },
    {
      "cell_type": "markdown",
      "source": [
        " б) Для того, чтобы произошло событие  \\\"вышли из строя 2 детали\\\", необходимо что бы случилось **одна из** следующих комбинаций событий:\n",
        "\n",
        "  1. Произошли события $A_1$ **и** $A_2$ **и** $\\bar A_3$;\n",
        "\n",
        "  2. Произошли события $A_1$ **и** $A_3$ **и** $\\bar A_2$;\n",
        "\n",
        "  3. Произошли события $A_2$ **и** $A_3$ **и** $\\bar A_1$.\n",
        "\n",
        "  \n",
        "  А вероятностью этого события  $P(2)$  будет **суммой** вероятностей этих комбинаций событий.\n",
        "\n",
        "  $P(2)=P(A_1)\\cdot P(A_2)\\cdot P(\\bar A_3)+P(A_1)\\cdot P(A_3)\\cdot P(\\bar A_2)+P(A_2)\\cdot P(A_3)\\cdot P(\\bar A_1)=0.1\\cdot 0.2\\cdot 0.75+0.1\\cdot 0.25\\cdot 0.8+0.2\\cdot 0.25\\cdot 0.9$"
      ],
      "metadata": {
        "id": "UyjjJstKogue"
      }
    },
    {
      "cell_type": "code",
      "source": [
        "P2=0.1*0.2*0.75+0.1*0.25*0.8+0.2*0.25*0.9\n",
        "print(f'Вероятность того, что из строя выйдут только 2 детали Р(2) = {P2: .4f}')"
      ],
      "metadata": {
        "colab": {
          "base_uri": "https://localhost:8080/"
        },
        "id": "jAd4G_2gpKrJ",
        "outputId": "0c3daba8-5fb1-442b-eacb-e3715ca3f8df"
      },
      "execution_count": 23,
      "outputs": [
        {
          "output_type": "stream",
          "name": "stdout",
          "text": [
            "Вероятность того, что из строя выйдут только 2 детали Р(2) =  0.0800\n"
          ]
        }
      ]
    },
    {
      "cell_type": "markdown",
      "source": [
        "в) Событие \\\"выйдет из строя хотя бы одна деталь\\\" можно рассмотреть как противоположное событию \\\"не вышло из строя ни одной детали\\\".\n",
        "\n",
        "Пусть $P(0)$ вероятность события \\\"не вышло из строя ни одной детали\\\". Данное событие может произойти при одновременном наступлении событий $\\bar A_1$, $\\bar A_2$, и $\\bar A_3$.\n",
        "\n",
        "$P(0)=P(\\bar A_1)\\cdot P(\\bar A_2)\\cdot P(\\bar A_3)=0.9*0.8*0.75$"
      ],
      "metadata": {
        "id": "ZmWwIlzqprId"
      }
    },
    {
      "cell_type": "code",
      "source": [
        "P0=0.9*0.8*0.75\n",
        "print(f'Вероятность того, что из строя не выйдет ни одной детали Р(0) = {P0: .4f}')"
      ],
      "metadata": {
        "colab": {
          "base_uri": "https://localhost:8080/"
        },
        "id": "AKiW6-t2p9ZY",
        "outputId": "f4885b80-f56c-48b0-bf9d-217803cfdc6e"
      },
      "execution_count": 24,
      "outputs": [
        {
          "output_type": "stream",
          "name": "stdout",
          "text": [
            "Вероятность того, что из строя не выйдет ни одной детали Р(0) =  0.5400\n"
          ]
        }
      ]
    },
    {
      "cell_type": "markdown",
      "source": [
        "Тогда вероятность события \\\"выйдет из строя хотя бы одна деталь\\\" $P(\\ge 1)=1-P(0)$"
      ],
      "metadata": {
        "id": "lgH-0WDIqQx7"
      }
    },
    {
      "cell_type": "code",
      "source": [
        "P_0=1-P0\n",
        "print(f'Вероятность того, что выйдет из строя хотя бы одна деталь Р(>=1) = {P_0: .4f}')"
      ],
      "metadata": {
        "colab": {
          "base_uri": "https://localhost:8080/"
        },
        "id": "bVNiQ2E4qcC-",
        "outputId": "b5132d64-ee5f-42ec-96dc-6743f83a4450"
      },
      "execution_count": 25,
      "outputs": [
        {
          "output_type": "stream",
          "name": "stdout",
          "text": [
            "Вероятность того, что выйдет из строя хотя бы одна деталь Р(>=1) =  0.4600\n"
          ]
        }
      ]
    },
    {
      "cell_type": "markdown",
      "source": [
        "г) Событие \\\"из строя выйдут от одной до двух деталей\\\" произойдет при наступлении события \\\"из строя выйдет одна деталь\\\" **или** из строя выйдут 2 детали, следовательно его вероятность будет равна сумме вероятностей этих событий: $P(1,2)=P(1)+P(2)$\n",
        "\n",
        "$P(2)=0.08$, найдем $P(1)$:"
      ],
      "metadata": {
        "id": "Uia4Hq5iq8Vt"
      }
    },
    {
      "cell_type": "markdown",
      "source": [
        "Для того, чтобы произошло событие  \\\"из строя выйдет одна деталь\\\", необходимо что бы случилось **одна из** следующих комбинаций событий:\n",
        "\n",
        "1. Произошли события $A_1$ **и** $\\bar A_2$ **и** $\\bar A_3$;\n",
        "2. Произошли события $A_2$ **и** $\\bar A_1$ **и** $\\bar A_3$;\n",
        "3. Произошли события $A_3$ **и** $\\bar A_1$ **и** $\\bar A_2$\n",
        "\n",
        "А вероятностью этого события  $P(1)$  будет **суммой** вероятностей этих комбинаций событий.\n",
        "  \n",
        "$P(1)=P(A_1)\\cdot P(\\bar A_2)\\cdot P(\\bar A_3)+P(A_2)\\cdot P(\\bar A_1)\\cdot P(\\bar A_3)+P(A_3)\\cdot P(\\bar A_1)\\cdot P(\\bar A_2)=0.1\\cdot 0.8\\cdot 0.75+0.2\\cdot 0.9\\cdot 0.75+0.25\\cdot 0.9\\cdot 0.8$"
      ],
      "metadata": {
        "id": "LHeA_blNrZ7Z"
      }
    },
    {
      "cell_type": "code",
      "source": [
        "P1=0.1*0.8*0.75+0.2*0.9*0.75+0.25*0.9*0.8\n",
        "print(f'Вероятность того, что выйдет из строя одна деталь Р(1) = {P1: .4f}')"
      ],
      "metadata": {
        "colab": {
          "base_uri": "https://localhost:8080/"
        },
        "id": "y82veUdMrPyI",
        "outputId": "c0f79599-c187-4f4e-9b83-e83717e20304"
      },
      "execution_count": 26,
      "outputs": [
        {
          "output_type": "stream",
          "name": "stdout",
          "text": [
            "Вероятность того, что выйдет из строя одна деталь Р(1) =  0.3750\n"
          ]
        }
      ]
    },
    {
      "cell_type": "markdown",
      "source": [
        "а) Вероятность того что в первый месяц выйдут из строя все детали ≈  0.0050 ≈ 0.5%\n",
        "\n",
        "б) Вероятность того что в первый месяц выйдут из строя 2 детали ≈ 0.0800 ≈ 8.0%\n",
        "\n",
        "в) Вероятность того что в первый месяц выйдут из строя хотя бы одна деталь ≈ 0.4600 ≈ 46.0%\n",
        "\n",
        "г) Вероятность того что в первый месяц выйдут из строя от одной до двух деталей ≈ 0.3750 ≈ 37.50%"
      ],
      "metadata": {
        "id": "8qKr-yG3uDdi"
      }
    }
  ]
}