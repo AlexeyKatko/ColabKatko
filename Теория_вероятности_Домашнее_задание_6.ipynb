{
  "nbformat": 4,
  "nbformat_minor": 0,
  "metadata": {
    "colab": {
      "provenance": [],
      "authorship_tag": "ABX9TyNIGXtywKaCYH8uG4isxoEy",
      "include_colab_link": true
    },
    "kernelspec": {
      "name": "python3",
      "display_name": "Python 3"
    },
    "language_info": {
      "name": "python"
    }
  },
  "cells": [
    {
      "cell_type": "markdown",
      "metadata": {
        "id": "view-in-github",
        "colab_type": "text"
      },
      "source": [
        "<a href=\"https://colab.research.google.com/github/AlexeyKatko/ColabKatko/blob/main/%D0%A2%D0%B5%D0%BE%D1%80%D0%B8%D1%8F_%D0%B2%D0%B5%D1%80%D0%BE%D1%8F%D1%82%D0%BD%D0%BE%D1%81%D1%82%D0%B8_%D0%94%D0%BE%D0%BC%D0%B0%D1%88%D0%BD%D0%B5%D0%B5_%D0%B7%D0%B0%D0%B4%D0%B0%D0%BD%D0%B8%D0%B5_6.ipynb\" target=\"_parent\"><img src=\"https://colab.research.google.com/assets/colab-badge.svg\" alt=\"Open In Colab\"/></a>"
      ]
    },
    {
      "cell_type": "markdown",
      "source": [
        "# Урок 6. Сравнение долей. Построение доверительного интервала"
      ],
      "metadata": {
        "id": "czVVgx_UQ1O1"
      }
    },
    {
      "cell_type": "markdown",
      "source": [
        "## Задача 1\n",
        "\n",
        "Известно, что генеральная совокупность распределена нормально со средним квадратическим отклонением, равным 16.\n",
        "Найти доверительный интервал для оценки математического ожидания a с надежностью 0.95, если выборочная средняя M = 80, а объем выборки n = 256."
      ],
      "metadata": {
        "id": "_pR-yFiKRBlD"
      }
    },
    {
      "cell_type": "markdown",
      "source": [
        "Поскольку нам известно среднее квадратическое отклонение генеральной совокупности $\\sigma=16$, то для расчета $95\\%$-го доверительного интервала, будем использовать $Z$-критерий. И границы доверительного интервала расчитаем по формуле:\n",
        "\n",
        "$\\displaystyle\\bar X\\pm z_{\\alpha/2}\\cdot\\frac{\\sigma}{\\sqrt n}$, где:\n",
        "\n",
        "$\\bar X=M=80$-среднее значение выборки\n",
        "\n",
        "$z_{\\alpha/2}$ табличное значение $Z$-критерия, и для $95\\%$-го доверительного интервала $z_{\\alpha/2}=1,96$\n",
        "\n",
        "$\\sigma=16$-среднее квадратическое отклонение генеральной совокупности\n",
        "\n",
        "$n=256$-объем выборки\n",
        "\n",
        "Таким образом $95\\%$-й доверительный интервал расчитаем как:\n",
        "\n",
        "$\\left[80-1.96\\cdot\\frac{16}{\\sqrt 256};80+1.96\\cdot\\frac{16}{\\sqrt 256}\\right]$"
      ],
      "metadata": {
        "id": "uPAJbdyBSK2I"
      }
    },
    {
      "cell_type": "code",
      "source": [
        "left=80-1.96*16/256**(1/2)\n",
        "right=80+1.96*16/256**(1/2)\n",
        "print(f'95%-й доверительный интервал для оценки мат. ожидания генеральной совокупности: [{left};{right}].')"
      ],
      "metadata": {
        "colab": {
          "base_uri": "https://localhost:8080/"
        },
        "id": "2X83ctxTSWoY",
        "outputId": "828149ce-2e4e-44c5-a77b-37d3245d9b35"
      },
      "execution_count": 1,
      "outputs": [
        {
          "output_type": "stream",
          "name": "stdout",
          "text": [
            "95%-й доверительный интервал для оценки мат. ожидания генеральной совокупности: [78.04;81.96].\n"
          ]
        }
      ]
    },
    {
      "cell_type": "markdown",
      "source": [
        "Ответ:\n",
        "\n",
        "[78.04;81.96]"
      ],
      "metadata": {
        "id": "RjCe_n3MSV_6"
      }
    },
    {
      "cell_type": "markdown",
      "source": [
        "## Задача 2\n",
        "\n",
        "В результате 10 независимых измерений некоторой величины X, выполненных с одинаковой точностью, получены опытные данные:\n",
        "\n",
        "6.9, 6.1, 6.2, 6.8, 7.5, 6.3, 6.4, 6.9, 6.7, 6.1\n",
        "\n",
        "Предполагая, что результаты измерений подчинены нормальному закону распределения вероятностей, оценить истинное значение величины X при помощи доверительного интервала, покрывающего это значение с доверительной вероятностью 0,95."
      ],
      "metadata": {
        "id": "3OX2mLclTiX8"
      }
    },
    {
      "cell_type": "markdown",
      "source": [
        "Поскольку из условия задачи нам ничего не известно ни о мат. ожидании генеральной совокупности ни о среднем квадратическом отклонении для генеральной совокупности, то для расчета $95\\%$-го доверительного интервала будем использовать $t$-критерий,  и формулу:\n",
        "\n",
        "$\\displaystyle\\bar X\\pm t_{\\alpha/2}\\cdot\\frac{\\sigma_{несмещ}}{\\\\sqrt{n}}$,\n",
        "\n",
        "где\n",
        "$\\sigma_{несмещ}$-несмещённое среднее квадратическое отклонение выборки,\n",
        "\n",
        "$n$-размер выборки\n",
        "Воспользуемся встроенными функциями библиотеки numpy:"
      ],
      "metadata": {
        "id": "9s1zT36MTtHN"
      }
    },
    {
      "cell_type": "code",
      "source": [
        "import numpy as np"
      ],
      "metadata": {
        "id": "ZAARTvCWT0ei"
      },
      "execution_count": null,
      "outputs": []
    },
    {
      "cell_type": "code",
      "source": [
        "arr=np.array([6.9, 6.1, 6.2, 6.8, 7.5, 6.3, 6.4, 6.9, 6.7, 6.1])\n",
        "print(f'Среднее выборочное: {np.mean(arr): .2f},\\n'\n",
        "      f'Размер выборки n={len(arr)},\\n'\n",
        "      f'Среднее квадратическое отклонение по выборке(несмещенное): {np.std(arr, ddof=1): .2f}.'\n",
        "     )"
      ],
      "metadata": {
        "id": "jQRtpl7CT4uC"
      },
      "execution_count": null,
      "outputs": []
    },
    {
      "cell_type": "markdown",
      "source": [
        "Для вычисления t-критерия воспользуемся библиотекой scipy"
      ],
      "metadata": {
        "id": "NCOVykIrUCM3"
      }
    },
    {
      "cell_type": "code",
      "source": [
        "import scipy.stats as stats"
      ],
      "metadata": {
        "id": "jpKaNGdlUDeY"
      },
      "execution_count": null,
      "outputs": []
    },
    {
      "cell_type": "code",
      "source": [
        "def t_from_table(confidens, len_array):\n",
        "    alpha=(1-confidens)\n",
        "    return stats.t.ppf(1-alpha/2, len_array-1)\n",
        "print(f'Табличное значение t-критерия для 95%-го доверительного интервала данной выборки: {t_from_table(0.95, len(arr)): .3f}')"
      ],
      "metadata": {
        "id": "KTdpyh0EUOwM"
      },
      "execution_count": null,
      "outputs": []
    },
    {
      "cell_type": "markdown",
      "source": [
        "Итоговая функция для расчета доверительного интервала:"
      ],
      "metadata": {
        "id": "3i0WjsGYUTo2"
      }
    },
    {
      "cell_type": "code",
      "source": [
        "def confidens_int(arr, confidens):\n",
        "    return round(np.mean(arr)-t_from_table(confidens,len(arr))*np.std(arr, ddof=1)/len(arr)**0.5,3), \\\n",
        "           round(np.mean(arr)+t_from_table(confidens,len(arr))*np.std(arr, ddof=1)/len(arr)**0.5,3)\n",
        "\n",
        "print(f'95%-й доверительный интервал для истинного значения Х: {confidens_int(arr, 0.95)}.')"
      ],
      "metadata": {
        "id": "O7qXnPPMUTQ2"
      },
      "execution_count": null,
      "outputs": []
    },
    {
      "cell_type": "markdown",
      "source": [
        "Ответ:\n",
        "\n",
        "(6.268, 6.912)"
      ],
      "metadata": {
        "id": "x6BibdWsUefQ"
      }
    },
    {
      "cell_type": "markdown",
      "source": [
        "## Задача 3\n",
        "\n",
        "Рост дочерей 175, 167, 154, 174, 178, 148, 160, 167, 169, 170\n",
        "\n",
        "Рост матерей  178, 165, 165, 173, 168, 155, 160, 164, 178, 175\n",
        "\n",
        "Используя эти данные построить 95% доверительный интервал для разности среднего роста родителей и детей."
      ],
      "metadata": {
        "id": "WtA6EBA_iKiY"
      }
    },
    {
      "cell_type": "markdown",
      "source": [
        "Используем формулу интернациональная оценка для разности средних арифметических\n",
        "$\\bar{X}_1 - \\bar{X}_2 \\pm t{\\frac{\\alpha}{2}} \\sqrt{\\frac{D_1}{n_1} + \\frac{D_2}{n_2}}$, где\n",
        "\n",
        "$\\bar{X}_1$ - среднее арифметическое в группе 1\n",
        "\n",
        "$\\bar{X}_2$ - среднее арифметическое в группе 2\n",
        "\n",
        "$D_1$ - дисперсия в группе 1\n",
        "\n",
        "$D_2$ - дисперсия в группе 2  \n",
        "\n",
        "$n_1$ - число элементов в группе 1\n",
        "\n",
        "$n_2$ - число элементов в группе 2"
      ],
      "metadata": {
        "id": "AuClCTK_hmtN"
      }
    },
    {
      "cell_type": "code",
      "source": [
        "import numpy as np\n",
        "import scipy.stats as stats"
      ],
      "metadata": {
        "id": "h9y_w-O9ia92"
      },
      "execution_count": 2,
      "outputs": []
    },
    {
      "cell_type": "code",
      "source": [
        "arr1 = np.array([175, 167, 154, 174, 178, 148, 160, 167, 169, 170])\n",
        "arr2 = np.array([178, 165, 165, 173, 168, 155, 160, 164, 178, 175])\n",
        "n1 = len(arr1)\n",
        "n2 = len(arr2)\n",
        "X1 = np.mean(arr1)\n",
        "X2 = np.mean(arr2)\n",
        "alpha = 0.05 / 2\n",
        "\n",
        "delta = X2 - X1\n",
        "deltaS = np.sqrt(np.var(arr2, ddof=1) / n2 + np.var(arr1, ddof=1) / n1)\n",
        "t_critical = stats.t.ppf(alpha, n2 + n1 - 2)\n",
        "l1 = delta - t_critical * deltaS\n",
        "l2 = delta + t_critical * deltaS\n",
        "\n",
        "print(f'95% Доверительный интервал для разности среднего роста родителей и детей: [{round(l2, 4)}; {round(l1, 4)}]')"
      ],
      "metadata": {
        "colab": {
          "base_uri": "https://localhost:8080/"
        },
        "id": "zYli-_QHigHR",
        "outputId": "b86ad6a5-794c-408c-e018-589e5e373e9a"
      },
      "execution_count": 3,
      "outputs": [
        {
          "output_type": "stream",
          "name": "stdout",
          "text": [
            "95% Доверительный интервал для разности среднего роста родителей и детей: [-6.2684; 10.0684]\n"
          ]
        }
      ]
    },
    {
      "cell_type": "markdown",
      "source": [
        "Ответ:\n",
        "\n",
        "95% Доверительный интервал для разности среднего роста родителей и детей: [-6.2684; 10.0684]"
      ],
      "metadata": {
        "id": "QHOPHFbkiqxW"
      }
    }
  ]
}