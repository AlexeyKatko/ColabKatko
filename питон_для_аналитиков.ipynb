{
  "nbformat": 4,
  "nbformat_minor": 0,
  "metadata": {
    "colab": {
      "provenance": [],
      "toc_visible": true,
      "authorship_tag": "ABX9TyNlkQaYMwzZrG+MmM+y7AdS",
      "include_colab_link": true
    },
    "kernelspec": {
      "name": "python3",
      "display_name": "Python 3"
    },
    "language_info": {
      "name": "python"
    }
  },
  "cells": [
    {
      "cell_type": "markdown",
      "metadata": {
        "id": "view-in-github",
        "colab_type": "text"
      },
      "source": [
        "<a href=\"https://colab.research.google.com/github/AlexeyKatko/ColabKatko/blob/main/%D0%BF%D0%B8%D1%82%D0%BE%D0%BD_%D0%B4%D0%BB%D1%8F_%D0%B0%D0%BD%D0%B0%D0%BB%D0%B8%D1%82%D0%B8%D0%BA%D0%BE%D0%B2.ipynb\" target=\"_parent\"><img src=\"https://colab.research.google.com/assets/colab-badge.svg\" alt=\"Open In Colab\"/></a>"
      ]
    },
    {
      "cell_type": "markdown",
      "source": [
        "##Задание 1##\n"
      ],
      "metadata": {
        "id": "FLPDG0_zq2Os"
      }
    },
    {
      "cell_type": "markdown",
      "source": [
        "### Задание 1.1\n",
        "Соедините два словаря в один"
      ],
      "metadata": {
        "id": "DyYT-TQ3OZsk"
      }
    },
    {
      "cell_type": "code",
      "source": [
        "dict1 = {'One': 1, 'Two': 2, 'Three': 3}\n",
        "dict2 = {'Four': 4, 'Five': 5, 'Six': 6}\n",
        "\n",
        "dict3 = dict1 | dict2\n",
        "(dict3)"
      ],
      "metadata": {
        "colab": {
          "base_uri": "https://localhost:8080/"
        },
        "id": "4-Eobe0xr3nG",
        "outputId": "0a7f46c3-37e7-4539-d0c6-1a99aa9d104c"
      },
      "execution_count": null,
      "outputs": [
        {
          "output_type": "execute_result",
          "data": {
            "text/plain": [
              "{'One': 1, 'Two': 2, 'Three': 3, 'Four': 4, 'Five': 5, 'Six': 6}"
            ]
          },
          "metadata": {},
          "execution_count": 13
        }
      ]
    },
    {
      "cell_type": "code",
      "source": [
        "dict1.update(dict2)\n",
        "dict1"
      ],
      "metadata": {
        "colab": {
          "base_uri": "https://localhost:8080/"
        },
        "id": "ZzWdnw8VylzN",
        "outputId": "d8a57543-c733-4b7d-d0b2-5a1c983d9f85"
      },
      "execution_count": null,
      "outputs": [
        {
          "output_type": "execute_result",
          "data": {
            "text/plain": [
              "{'One': 1, 'Two': 2, 'Three': 3, 'Four': 4, 'Five': 5, 'Six': 6}"
            ]
          },
          "metadata": {},
          "execution_count": 14
        }
      ]
    },
    {
      "cell_type": "markdown",
      "source": [
        "#### Задание 1.2\n",
        "\n",
        "Напишите функцию, которая на вход принимает два словоря и возвращает один объединенный словарь\n",
        "\n",
        "Используйте аннотирование типов"
      ],
      "metadata": {
        "id": "FWukBOX_0yGh"
      }
    },
    {
      "cell_type": "code",
      "source": [
        "def merge(dict1: dict, dict2: dict) -> dict:\n",
        " # print(dict2.items())\n",
        " # print(list(dict2.items()))\n",
        "  for key, value in dict2.items():\n",
        "    dict1[key]=value\n",
        "  return dict1"
      ],
      "metadata": {
        "id": "NQN1HJSp1RoZ"
      },
      "execution_count": null,
      "outputs": []
    },
    {
      "cell_type": "code",
      "source": [
        "dict1 = {'One': 1, 'Two': 2, 'Three': 3}\n",
        "dict2 = {'Four': 4, 'Five': 5, 'Six': 6}"
      ],
      "metadata": {
        "id": "QoXZPW4B4Tgk"
      },
      "execution_count": null,
      "outputs": []
    },
    {
      "cell_type": "code",
      "source": [
        "merge(dict1, dict2)"
      ],
      "metadata": {
        "colab": {
          "base_uri": "https://localhost:8080/"
        },
        "id": "a8aJoGf54WZb",
        "outputId": "5772db8d-ceab-4e29-de4f-1f39d1000d28"
      },
      "execution_count": null,
      "outputs": [
        {
          "output_type": "execute_result",
          "data": {
            "text/plain": [
              "{'One': 1, 'Two': 2, 'Three': 3, 'Four': 4, 'Five': 5, 'Six': 6}"
            ]
          },
          "metadata": {},
          "execution_count": 25
        }
      ]
    },
    {
      "cell_type": "markdown",
      "source": [
        "# Задание 2\n",
        "## Напишите фунцию которая состоит из двух списков, один делает словарь, где элементы из первого списка - ключи, а элементы из второго списка - значения\n",
        "\n",
        "keys = ['One', 'Two', 'Three']\n",
        "\n",
        "Values = [1, 2, 3]\n",
        "\n",
        "Используйте аннотирование типов"
      ],
      "metadata": {
        "id": "Vu5Uaq1t5ruV"
      }
    },
    {
      "cell_type": "markdown",
      "source": [
        "## Задание 2.1\n",
        "Используйте цикл for"
      ],
      "metadata": {
        "id": "CyhnH-iP8oJW"
      }
    },
    {
      "cell_type": "code",
      "source": [
        "keys = ['One', 'Two', 'Three']\n",
        "values = [1, 2, 3]\n",
        "dict01 = {}\n",
        "for i in range(len(keys)):\n",
        "  dict01[keys[i]] = values[i]\n",
        "\n",
        "dict01"
      ],
      "metadata": {
        "colab": {
          "base_uri": "https://localhost:8080/"
        },
        "id": "2Autq2SF8Yib",
        "outputId": "235de318-a1f1-4a0a-e122-7975deaca62f"
      },
      "execution_count": null,
      "outputs": [
        {
          "output_type": "execute_result",
          "data": {
            "text/plain": [
              "{'One': 1, 'Two': 2, 'Three': 3}"
            ]
          },
          "metadata": {},
          "execution_count": 26
        }
      ]
    },
    {
      "cell_type": "markdown",
      "source": [
        "### Задание 2.2\n",
        "Используйте dict comprehensions"
      ],
      "metadata": {
        "id": "iW3YIBm4_dHx"
      }
    },
    {
      "cell_type": "code",
      "source": [
        "{keys[i]: values[i] for i in range(len(keys))}\n"
      ],
      "metadata": {
        "colab": {
          "base_uri": "https://localhost:8080/"
        },
        "id": "yUTeyN4n_ctQ",
        "outputId": "c1486a88-2f9f-4f0c-ce40-d4cfcb1b1d38"
      },
      "execution_count": null,
      "outputs": [
        {
          "output_type": "execute_result",
          "data": {
            "text/plain": [
              "{'One': 1, 'Two': 2, 'Three': 3}"
            ]
          },
          "metadata": {},
          "execution_count": 27
        }
      ]
    },
    {
      "cell_type": "markdown",
      "source": [
        "# Задание 3\n",
        "Извлеките только два ключа name и age из представленного словаря\n",
        "\n",
        "client_dict = {\"name\": \"John\", \"age\": 25, \"salary\": 5000, \"city\": \"Moscow\"}"
      ],
      "metadata": {
        "id": "26HgT0RgD_Fe"
      }
    },
    {
      "cell_type": "code",
      "source": [
        "client_dict = {\n",
        "    \"name\": \"John\",\n",
        "    \"age\": 25, \"salary\": 5000,\n",
        "    \"city\": \"Moscow\"\n",
        "  }"
      ],
      "metadata": {
        "id": "8rREoYM-_crn"
      },
      "execution_count": null,
      "outputs": []
    },
    {
      "cell_type": "markdown",
      "source": [
        "## Задание 3.1\n",
        "Напишите функцию с циклом for\n",
        "\n",
        "функция на вход принимает:\n",
        "- исходный словарь\n",
        "- ключи, которые нужно извлечь (аргумент по умолчанию)\n",
        "- На выходе словарь с нужными ключами\n",
        "Используйте аннотирование типов"
      ],
      "metadata": {
        "id": "E-uRVzjlFxSc"
      }
    },
    {
      "cell_type": "code",
      "source": [
        "def keys_from_dict(d: dict, keys: list = ['name', 'age']) -> dict:\n",
        "  res={}\n",
        "  for k in keys:\n",
        "    res.update({k:d[k]})\n",
        "  return res\n",
        "\n",
        "keys_from_dict(client_dict)"
      ],
      "metadata": {
        "colab": {
          "base_uri": "https://localhost:8080/"
        },
        "id": "dY0P__JMGg6M",
        "outputId": "56c25334-9066-477d-9a99-c585fe0d659e"
      },
      "execution_count": null,
      "outputs": [
        {
          "output_type": "execute_result",
          "data": {
            "text/plain": [
              "{'name': 'John', 'age': 25}"
            ]
          },
          "metadata": {},
          "execution_count": 35
        }
      ]
    },
    {
      "cell_type": "markdown",
      "source": [
        "### Задание 3.2\n",
        "Используйте dict comprehensions"
      ],
      "metadata": {
        "id": "_cbgNm5fGjpI"
      }
    },
    {
      "cell_type": "code",
      "source": [
        "{key: client_dict[key] for key in ['name', 'age']}"
      ],
      "metadata": {
        "colab": {
          "base_uri": "https://localhost:8080/"
        },
        "id": "fW-fbARxG0uD",
        "outputId": "f1b625e1-12cb-4d57-d2dc-20f6b8d26d5f"
      },
      "execution_count": null,
      "outputs": [
        {
          "output_type": "execute_result",
          "data": {
            "text/plain": [
              "{'name': 'John', 'age': 25}"
            ]
          },
          "metadata": {},
          "execution_count": 37
        }
      ]
    },
    {
      "cell_type": "markdown",
      "source": [
        "# Заданиие 4"
      ],
      "metadata": {
        "id": "H7tJVDeaKtgm"
      }
    },
    {
      "cell_type": "markdown",
      "source": [
        "## Задание 4.1\n",
        "Сгенерируйте случайные целые числа от 0 до 100 в количестве 5 штук с помощью модуля random Зафиксируйте псевдогенерацию, что бы сгенерированные значения всегда были одинаковые Используйте list compresions"
      ],
      "metadata": {
        "id": "VzGEJkJqPjbb"
      }
    },
    {
      "cell_type": "code",
      "source": [
        "import random\n",
        "import time"
      ],
      "metadata": {
        "id": "bCnpg7fdMJT4"
      },
      "execution_count": null,
      "outputs": []
    },
    {
      "cell_type": "code",
      "source": [
        "random.seed(0)\n",
        "rand_lst = [random.randint(0, 100) for _ in range(5)]\n",
        "rand_lst"
      ],
      "metadata": {
        "colab": {
          "base_uri": "https://localhost:8080/"
        },
        "id": "otchw9G7MYZu",
        "outputId": "5b36afbd-db9e-41f6-cda3-fa51b928c3a9"
      },
      "execution_count": null,
      "outputs": [
        {
          "output_type": "execute_result",
          "data": {
            "text/plain": [
              "[49, 97, 53, 5, 33]"
            ]
          },
          "metadata": {},
          "execution_count": 64
        }
      ]
    },
    {
      "cell_type": "markdown",
      "source": [
        "### Задание 4.2\n",
        "Генератор на вход принимает список с данными о клиенте (данные\n",
        "из пункта 4.1)\n",
        "Внутри генератора реализуйте обход по списку с данными\n",
        "На каждой итерации генератор будет возвращать кортеж из двух\n",
        "элементов:\n",
        "1. данные по клиенту (в зависимости от итерации, на 0 итерации\n",
        "вернется 0 элемент, на 1 итерации вернется 1 элемент и тд)\n",
        "2. целочисленное значение, которое показывает, сколько секунд\n",
        "прошло с предыдущей итерации\n",
        "Примечание: секунды, которые возвращаются должны показывать время не\n",
        "с начала запуска генератора, а именно то время, которое прошло с\n",
        "предыдущей итерации. А значит время на первой итерации должно\n",
        "равняться 0.\n",
        "Используйте функцию time из модуля time для подсчета времени.\n",
        "Чтобы проверить работу таймера, запустите проход по\n",
        "генератору в цикле с time.sleep(2)\n"
      ],
      "metadata": {
        "id": "L-r03UWvQKEA"
      }
    },
    {
      "cell_type": "code",
      "source": [
        "def time_lst_gen(lst):\n",
        "  current_time = time.time() #начало отчета\n",
        "  for item in lst:           #проходим по списку\n",
        "    yield item, int(current_time)"
      ],
      "metadata": {
        "id": "m8uUarxnQUMq"
      },
      "execution_count": null,
      "outputs": []
    },
    {
      "cell_type": "markdown",
      "source": [
        "# Задача 5"
      ],
      "metadata": {
        "id": "5l6gzlBseeX2"
      }
    },
    {
      "cell_type": "markdown",
      "source": [
        "## Задание 5.1\n",
        "Найдите картинку в интернете и прикрепите её\n",
        "в ячейку с текстом\n",
        "\n",
        "<img src='https://sportishka.com/uploads/posts/2022-04/1650491850_11-sportishka-com-p-venetsiya-italiya-dostoprimechatelnosti-kr-11.jpg'>"
      ],
      "metadata": {
        "id": "7EBBNQipfYd3"
      }
    },
    {
      "cell_type": "markdown",
      "source": [
        "### Задание 5.2\n",
        " Создайте следующую таблицу в ячейке с текстом\n",
        "\n",
        "\n",
        "<table>\n",
        "  <tr>\n",
        "    <td> </td>\n",
        "    <td>До события</td>\n",
        "    <td>Во время события</td>\n",
        "  </tr>\n",
        "  <tr>\n",
        "    <td>1 контрольная точка</td>\n",
        "    <td>250</td>\n",
        "    <td>500</td>\n",
        "  </tr>\n",
        "    <tr>\n",
        "    <td>2 контрольная точка</td>\n",
        "    <td>350</td>\n",
        "    <td>700</td>\n",
        "  </tr>\n",
        "     <tr>\n",
        "    <td>3 контрольная точка</td>\n",
        "    <td>400</td>\n",
        "    <td>800</td>\n",
        " <tr>\n",
        "    <td>Итого за победу</td>\n",
        "    <td>1000</td>\n",
        "    <td>2000</td>\n",
        "</table>\n"
      ],
      "metadata": {
        "id": "J2UdJaxfglN_"
      }
    },
    {
      "cell_type": "markdown",
      "source": [
        "# Задача 6\n",
        "Напишите функцию, которая может принимать любое\n",
        "количество трат пользователя и считать сумму и среднее.\n",
        "- На вход поступают целочисленные значения в любом\n",
        "количестве\n",
        "- На выходе словарь с ключами суммы трат и средней\n",
        "траты"
      ],
      "metadata": {
        "id": "l_m60oE0ZQiu"
      }
    },
    {
      "cell_type": "code",
      "source": [
        "from inspect import ArgSpec\n",
        "import statistics as st\n",
        "\n",
        "def sum_trat(*args):\n",
        "  #print(args)\n",
        "  s = sum(args)\n",
        "  a = s/len(args)\n",
        "  return {'Sum': s, 'Average': a}\n",
        "\n",
        "sum_trat(500, 265, 578, 658)\n",
        "\n",
        "\n",
        "(500, 265, 578, 658)\n",
        "{'Sum': 2001, 'Average': 500.25}"
      ],
      "metadata": {
        "colab": {
          "base_uri": "https://localhost:8080/"
        },
        "id": "deR1wyJeau6Y",
        "outputId": "f58961e2-9d83-421a-cad1-77d5a9e51394"
      },
      "execution_count": null,
      "outputs": [
        {
          "output_type": "execute_result",
          "data": {
            "text/plain": [
              "{'Sum': 2001, 'Average': 500.25}"
            ]
          },
          "metadata": {},
          "execution_count": 73
        }
      ]
    },
    {
      "cell_type": "markdown",
      "source": [
        "# Домашнее задание 1\n",
        "\n",
        "Оформление\n"
      ],
      "metadata": {
        "id": "iQHSNoXgoHni"
      }
    },
    {
      "cell_type": "markdown",
      "source": [
        "# Домашнее задание 2\n",
        "\n",
        "На складе лежат разные фрукты в разном количестве.\n",
        "Нужно написать функцию, которая на вход принимает любое\n",
        "количество названий фруктов и их количество, а возвращает\n",
        "общее количество фруктов на складе"
      ],
      "metadata": {
        "id": "v6QFuCpZoRRr"
      }
    },
    {
      "cell_type": "code",
      "source": [
        "total_fruits = {'banana': 5, 'mango': 7, 'apple': 8}\n",
        "total = sum(total_fruits.values())\n",
        "print(total)"
      ],
      "metadata": {
        "id": "01iBTZDGonxX",
        "colab": {
          "base_uri": "https://localhost:8080/"
        },
        "outputId": "f6cbe5f3-3782-428b-def1-c2015fc414b7"
      },
      "execution_count": 4,
      "outputs": [
        {
          "output_type": "stream",
          "name": "stdout",
          "text": [
            "20\n"
          ]
        }
      ]
    },
    {
      "cell_type": "code",
      "source": [
        "def total_amount_of_fruits(**fruits):\n",
        "    total = 0\n",
        "    for amount in fruits.values():\n",
        "        total += amount\n",
        "    return total\n",
        "print(total_amount_of_fruits(бананы=5, апельсины=7, яблоки=8))"
      ],
      "metadata": {
        "colab": {
          "base_uri": "https://localhost:8080/"
        },
        "id": "59KoYLo9NuZC",
        "outputId": "57876c8f-f32a-4d8e-f75d-8795e04eb543"
      },
      "execution_count": 9,
      "outputs": [
        {
          "output_type": "stream",
          "name": "stdout",
          "text": [
            "20\n"
          ]
        }
      ]
    },
    {
      "cell_type": "markdown",
      "source": [
        "# Домашнее задание 3\n",
        "\n",
        "Дан список с затратами на рекламу. Но в данных есть ошибки, некоторые затраты имеют отрицательную величину. Удалите такие значения из списка и посчитайте суммарные затраты\n",
        "[100, 125, -90, 345, 655, -1, 0, 200]\n",
        "Используйте list comprehensions"
      ],
      "metadata": {
        "id": "jjXa5ec9Lo5E"
      }
    },
    {
      "cell_type": "code",
      "source": [
        "array = [100, 125, -90, 345, 655, -1, 0, 200]\n",
        "print(sum(a for a in array if a > 0))"
      ],
      "metadata": {
        "colab": {
          "base_uri": "https://localhost:8080/"
        },
        "id": "kCoZ_UgWMBFd",
        "outputId": "49da1380-5241-40ab-8a78-7f23da94409e"
      },
      "execution_count": 6,
      "outputs": [
        {
          "output_type": "stream",
          "name": "stdout",
          "text": [
            "1425\n"
          ]
        }
      ]
    },
    {
      "cell_type": "markdown",
      "source": [
        "# Домашнее задание 4\n",
        "Даны два списка.\n",
        "Дата покупки\n",
        "['2021-09-14', '2021-12-15', '2021-09-08', '2021-12-05', '2021-10-09', '2021-09-30', '2021-12-22', '2021-11-29', '2021-12-24', '2021-11-26', '2021-10-27', '2021-12-18', '2021-11-09', '2021-11-23', '2021-09-27', '2021-10-02', '2021-12-27', '2021-09-20', '2021-12-13', '2021-11-01', '2021-11-09', '2021-12-06', '2021-12-08', '2021-10-09', '2021-10-31', '2021-09-30', '2021-11-09', '2021-12-13', '2021-10-26', '2021-12-09']\n",
        "Суммы покупок по датам\n",
        "[1270, 8413, 9028, 3703, 5739, 4095, 295, 4944, 5723, 3701, 4471, 651, 7037, 4274, 6275, 4988, 6930, 2971, 6592, 2004, 2822, 519, 3406, 2732, 5015, 2008, 316, 6333, 5700, 2887]\n",
        "4.2 Найдите выручку компании в зависимости от месяца\n",
        "Для этого напишите функцию, которая на вход принимает список с датами и список с выручкой, а на выходе словарь, где ключи - это месяцы, а значения - это выручка.\n",
        "Используйте аннотирование типов."
      ],
      "metadata": {
        "id": "L3q5604FMbGv"
      }
    },
    {
      "cell_type": "markdown",
      "source": [
        "## Задание 4.1\n",
        "4.1 Найдите, какая выручка у компании в ноябре\n",
        "- Используйте list comprehensions"
      ],
      "metadata": {
        "id": "ikUyolUrMk7u"
      }
    },
    {
      "cell_type": "code",
      "source": [
        "purchase_dates = ['2021-09-14', '2021-12-15', '2021-09-08', '2021-12-05', '2021-10-09', '2021-09-30',\n",
        "                  '2021-12-22', '2021-11-29', '2021-12-24', '2021-11-26', '2021-10-27', '2021-12-18',\n",
        "                  '2021-11-09', '2021-11-23', '2021-09-27', '2021-10-02', '2021-12-27', '2021-09-20',\n",
        "                  '2021-12-13', '2021-11-01', '2021-11-09', '2021-12-06', '2021-12-08', '2021-10-09',\n",
        "                  '2021-10-31', '2021-09-30', '2021-11-09', '2021-12-13', '2021-10-26', '2021-12-09']\n",
        "purchase_amounts = [1270, 8413, 9028, 3703, 5739, 4095, 295, 4944, 5723, 3701, 4471, 651, 7037, 4274, 6275,\n",
        "                    4988, 6930, 2971, 6592, 2004, 2822, 519, 3406, 2732, 5015, 2008, 316, 6333, 5700, 2887]\n",
        "\n",
        "# Найдем выручку компании в ноябре\n",
        "november_revenue = sum([amount for date, amount in zip(purchase_dates, purchase_amounts) if date.startswith('2021-11')])\n",
        "print(f'Выручка компании в ноябре: {november_revenue}')"
      ],
      "metadata": {
        "colab": {
          "base_uri": "https://localhost:8080/"
        },
        "id": "BH2yliqTM95H",
        "outputId": "614ea03a-1f8b-4411-b4fe-1511be112dbe"
      },
      "execution_count": 10,
      "outputs": [
        {
          "output_type": "stream",
          "name": "stdout",
          "text": [
            "Выручка компании в ноябре: 25098\n"
          ]
        }
      ]
    },
    {
      "cell_type": "markdown",
      "source": [
        "### Задание 4.2\n",
        "\n",
        "4.2 Найдите выручку компании в зависимости от месяца\n",
        "Для этого напишите функцию, которая на вход принимает список с датами и список с выручкой, а на выходе словарь, где ключи - это месяцы, а значения - это выручка.\n",
        "Используйте аннотирование типов."
      ],
      "metadata": {
        "id": "LnISVqqDM1q8"
      }
    },
    {
      "cell_type": "code",
      "source": [
        "from typing import List, Dict\n",
        "from datetime import datetime"
      ],
      "metadata": {
        "id": "m22WBVemOUP7"
      },
      "execution_count": 11,
      "outputs": []
    },
    {
      "cell_type": "code",
      "source": [
        "dt = ['2021-09-14', '2021-12-15', '2021-09-08', '2021-12-05', '2021-10-09', '2021-09-30', '2021-12-22', '2021-11-29', '2021-12-24', '2021-11-26', '2021-10-27', '2021-12-18', '2021-11-09', '2021-11-23', '2021-09-27', '2021-10-02', '2021-12-27', '2021-09-20', '2021-12-13', '2021-11-01', '2021-11-09', '2021-12-06', '2021-12-08', '2021-10-09', '2021-10-31', '2021-09-30', '2021-11-09', '2021-12-13', '2021-10-26', '2021-12-09']\n",
        "# Суммы покупок по датам\n",
        "sm = [1270, 8413, 9028, 3703, 5739, 4095, 295, 4944, 5723, 3701, 4471, 651, 7037, 4274, 6275, 4988, 6930, 2971, 6592, 2004, 2822, 519, 3406, 2732, 5015, 2008, 316, 6333, 5700, 2887]\n",
        "\n",
        "df = pd.DataFrame()\n",
        "df['Date'] = [datetime.datetime.strptime(i, '%Y-%m-%d') for i in dt]\n",
        "df['Sum'] = sm\n",
        "df['Месяц'] = pd.DatetimeIndex(df['Date']).month\n",
        "df.groupby('Месяц').sum()"
      ],
      "metadata": {
        "colab": {
          "base_uri": "https://localhost:8080/",
          "height": 261
        },
        "id": "6RIpQLo8M-dB",
        "outputId": "39aeefc6-de9a-44ea-fd81-a979ce524258"
      },
      "execution_count": 20,
      "outputs": [
        {
          "output_type": "stream",
          "name": "stderr",
          "text": [
            "<ipython-input-20-063094cf0eeb>:9: FutureWarning: The default value of numeric_only in DataFrameGroupBy.sum is deprecated. In a future version, numeric_only will default to False. Either specify numeric_only or select only columns which should be valid for the function.\n",
            "  df.groupby('Месяц').sum()\n"
          ]
        },
        {
          "output_type": "execute_result",
          "data": {
            "text/plain": [
              "         Sum\n",
              "Месяц       \n",
              "9      25647\n",
              "10     28645\n",
              "11     25098\n",
              "12     45452"
            ],
            "text/html": [
              "\n",
              "  <div id=\"df-b8d00577-91f6-48ef-ade1-1cfb1e030584\" class=\"colab-df-container\">\n",
              "    <div>\n",
              "<style scoped>\n",
              "    .dataframe tbody tr th:only-of-type {\n",
              "        vertical-align: middle;\n",
              "    }\n",
              "\n",
              "    .dataframe tbody tr th {\n",
              "        vertical-align: top;\n",
              "    }\n",
              "\n",
              "    .dataframe thead th {\n",
              "        text-align: right;\n",
              "    }\n",
              "</style>\n",
              "<table border=\"1\" class=\"dataframe\">\n",
              "  <thead>\n",
              "    <tr style=\"text-align: right;\">\n",
              "      <th></th>\n",
              "      <th>Sum</th>\n",
              "    </tr>\n",
              "    <tr>\n",
              "      <th>Месяц</th>\n",
              "      <th></th>\n",
              "    </tr>\n",
              "  </thead>\n",
              "  <tbody>\n",
              "    <tr>\n",
              "      <th>9</th>\n",
              "      <td>25647</td>\n",
              "    </tr>\n",
              "    <tr>\n",
              "      <th>10</th>\n",
              "      <td>28645</td>\n",
              "    </tr>\n",
              "    <tr>\n",
              "      <th>11</th>\n",
              "      <td>25098</td>\n",
              "    </tr>\n",
              "    <tr>\n",
              "      <th>12</th>\n",
              "      <td>45452</td>\n",
              "    </tr>\n",
              "  </tbody>\n",
              "</table>\n",
              "</div>\n",
              "    <div class=\"colab-df-buttons\">\n",
              "\n",
              "  <div class=\"colab-df-container\">\n",
              "    <button class=\"colab-df-convert\" onclick=\"convertToInteractive('df-b8d00577-91f6-48ef-ade1-1cfb1e030584')\"\n",
              "            title=\"Convert this dataframe to an interactive table.\"\n",
              "            style=\"display:none;\">\n",
              "\n",
              "  <svg xmlns=\"http://www.w3.org/2000/svg\" height=\"24px\" viewBox=\"0 -960 960 960\">\n",
              "    <path d=\"M120-120v-720h720v720H120Zm60-500h600v-160H180v160Zm220 220h160v-160H400v160Zm0 220h160v-160H400v160ZM180-400h160v-160H180v160Zm440 0h160v-160H620v160ZM180-180h160v-160H180v160Zm440 0h160v-160H620v160Z\"/>\n",
              "  </svg>\n",
              "    </button>\n",
              "\n",
              "  <style>\n",
              "    .colab-df-container {\n",
              "      display:flex;\n",
              "      gap: 12px;\n",
              "    }\n",
              "\n",
              "    .colab-df-convert {\n",
              "      background-color: #E8F0FE;\n",
              "      border: none;\n",
              "      border-radius: 50%;\n",
              "      cursor: pointer;\n",
              "      display: none;\n",
              "      fill: #1967D2;\n",
              "      height: 32px;\n",
              "      padding: 0 0 0 0;\n",
              "      width: 32px;\n",
              "    }\n",
              "\n",
              "    .colab-df-convert:hover {\n",
              "      background-color: #E2EBFA;\n",
              "      box-shadow: 0px 1px 2px rgba(60, 64, 67, 0.3), 0px 1px 3px 1px rgba(60, 64, 67, 0.15);\n",
              "      fill: #174EA6;\n",
              "    }\n",
              "\n",
              "    .colab-df-buttons div {\n",
              "      margin-bottom: 4px;\n",
              "    }\n",
              "\n",
              "    [theme=dark] .colab-df-convert {\n",
              "      background-color: #3B4455;\n",
              "      fill: #D2E3FC;\n",
              "    }\n",
              "\n",
              "    [theme=dark] .colab-df-convert:hover {\n",
              "      background-color: #434B5C;\n",
              "      box-shadow: 0px 1px 3px 1px rgba(0, 0, 0, 0.15);\n",
              "      filter: drop-shadow(0px 1px 2px rgba(0, 0, 0, 0.3));\n",
              "      fill: #FFFFFF;\n",
              "    }\n",
              "  </style>\n",
              "\n",
              "    <script>\n",
              "      const buttonEl =\n",
              "        document.querySelector('#df-b8d00577-91f6-48ef-ade1-1cfb1e030584 button.colab-df-convert');\n",
              "      buttonEl.style.display =\n",
              "        google.colab.kernel.accessAllowed ? 'block' : 'none';\n",
              "\n",
              "      async function convertToInteractive(key) {\n",
              "        const element = document.querySelector('#df-b8d00577-91f6-48ef-ade1-1cfb1e030584');\n",
              "        const dataTable =\n",
              "          await google.colab.kernel.invokeFunction('convertToInteractive',\n",
              "                                                    [key], {});\n",
              "        if (!dataTable) return;\n",
              "\n",
              "        const docLinkHtml = 'Like what you see? Visit the ' +\n",
              "          '<a target=\"_blank\" href=https://colab.research.google.com/notebooks/data_table.ipynb>data table notebook</a>'\n",
              "          + ' to learn more about interactive tables.';\n",
              "        element.innerHTML = '';\n",
              "        dataTable['output_type'] = 'display_data';\n",
              "        await google.colab.output.renderOutput(dataTable, element);\n",
              "        const docLink = document.createElement('div');\n",
              "        docLink.innerHTML = docLinkHtml;\n",
              "        element.appendChild(docLink);\n",
              "      }\n",
              "    </script>\n",
              "  </div>\n",
              "\n",
              "\n",
              "<div id=\"df-d5367417-77d6-49c7-9911-9d056fd86879\">\n",
              "  <button class=\"colab-df-quickchart\" onclick=\"quickchart('df-d5367417-77d6-49c7-9911-9d056fd86879')\"\n",
              "            title=\"Suggest charts\"\n",
              "            style=\"display:none;\">\n",
              "\n",
              "<svg xmlns=\"http://www.w3.org/2000/svg\" height=\"24px\"viewBox=\"0 0 24 24\"\n",
              "     width=\"24px\">\n",
              "    <g>\n",
              "        <path d=\"M19 3H5c-1.1 0-2 .9-2 2v14c0 1.1.9 2 2 2h14c1.1 0 2-.9 2-2V5c0-1.1-.9-2-2-2zM9 17H7v-7h2v7zm4 0h-2V7h2v10zm4 0h-2v-4h2v4z\"/>\n",
              "    </g>\n",
              "</svg>\n",
              "  </button>\n",
              "\n",
              "<style>\n",
              "  .colab-df-quickchart {\n",
              "      --bg-color: #E8F0FE;\n",
              "      --fill-color: #1967D2;\n",
              "      --hover-bg-color: #E2EBFA;\n",
              "      --hover-fill-color: #174EA6;\n",
              "      --disabled-fill-color: #AAA;\n",
              "      --disabled-bg-color: #DDD;\n",
              "  }\n",
              "\n",
              "  [theme=dark] .colab-df-quickchart {\n",
              "      --bg-color: #3B4455;\n",
              "      --fill-color: #D2E3FC;\n",
              "      --hover-bg-color: #434B5C;\n",
              "      --hover-fill-color: #FFFFFF;\n",
              "      --disabled-bg-color: #3B4455;\n",
              "      --disabled-fill-color: #666;\n",
              "  }\n",
              "\n",
              "  .colab-df-quickchart {\n",
              "    background-color: var(--bg-color);\n",
              "    border: none;\n",
              "    border-radius: 50%;\n",
              "    cursor: pointer;\n",
              "    display: none;\n",
              "    fill: var(--fill-color);\n",
              "    height: 32px;\n",
              "    padding: 0;\n",
              "    width: 32px;\n",
              "  }\n",
              "\n",
              "  .colab-df-quickchart:hover {\n",
              "    background-color: var(--hover-bg-color);\n",
              "    box-shadow: 0 1px 2px rgba(60, 64, 67, 0.3), 0 1px 3px 1px rgba(60, 64, 67, 0.15);\n",
              "    fill: var(--button-hover-fill-color);\n",
              "  }\n",
              "\n",
              "  .colab-df-quickchart-complete:disabled,\n",
              "  .colab-df-quickchart-complete:disabled:hover {\n",
              "    background-color: var(--disabled-bg-color);\n",
              "    fill: var(--disabled-fill-color);\n",
              "    box-shadow: none;\n",
              "  }\n",
              "\n",
              "  .colab-df-spinner {\n",
              "    border: 2px solid var(--fill-color);\n",
              "    border-color: transparent;\n",
              "    border-bottom-color: var(--fill-color);\n",
              "    animation:\n",
              "      spin 1s steps(1) infinite;\n",
              "  }\n",
              "\n",
              "  @keyframes spin {\n",
              "    0% {\n",
              "      border-color: transparent;\n",
              "      border-bottom-color: var(--fill-color);\n",
              "      border-left-color: var(--fill-color);\n",
              "    }\n",
              "    20% {\n",
              "      border-color: transparent;\n",
              "      border-left-color: var(--fill-color);\n",
              "      border-top-color: var(--fill-color);\n",
              "    }\n",
              "    30% {\n",
              "      border-color: transparent;\n",
              "      border-left-color: var(--fill-color);\n",
              "      border-top-color: var(--fill-color);\n",
              "      border-right-color: var(--fill-color);\n",
              "    }\n",
              "    40% {\n",
              "      border-color: transparent;\n",
              "      border-right-color: var(--fill-color);\n",
              "      border-top-color: var(--fill-color);\n",
              "    }\n",
              "    60% {\n",
              "      border-color: transparent;\n",
              "      border-right-color: var(--fill-color);\n",
              "    }\n",
              "    80% {\n",
              "      border-color: transparent;\n",
              "      border-right-color: var(--fill-color);\n",
              "      border-bottom-color: var(--fill-color);\n",
              "    }\n",
              "    90% {\n",
              "      border-color: transparent;\n",
              "      border-bottom-color: var(--fill-color);\n",
              "    }\n",
              "  }\n",
              "</style>\n",
              "\n",
              "  <script>\n",
              "    async function quickchart(key) {\n",
              "      const quickchartButtonEl =\n",
              "        document.querySelector('#' + key + ' button');\n",
              "      quickchartButtonEl.disabled = true;  // To prevent multiple clicks.\n",
              "      quickchartButtonEl.classList.add('colab-df-spinner');\n",
              "      try {\n",
              "        const charts = await google.colab.kernel.invokeFunction(\n",
              "            'suggestCharts', [key], {});\n",
              "      } catch (error) {\n",
              "        console.error('Error during call to suggestCharts:', error);\n",
              "      }\n",
              "      quickchartButtonEl.classList.remove('colab-df-spinner');\n",
              "      quickchartButtonEl.classList.add('colab-df-quickchart-complete');\n",
              "    }\n",
              "    (() => {\n",
              "      let quickchartButtonEl =\n",
              "        document.querySelector('#df-d5367417-77d6-49c7-9911-9d056fd86879 button');\n",
              "      quickchartButtonEl.style.display =\n",
              "        google.colab.kernel.accessAllowed ? 'block' : 'none';\n",
              "    })();\n",
              "  </script>\n",
              "</div>\n",
              "    </div>\n",
              "  </div>\n"
            ],
            "application/vnd.google.colaboratory.intrinsic+json": {
              "type": "dataframe",
              "summary": "{\n  \"name\": \"df\",\n  \"rows\": 4,\n  \"fields\": [\n    {\n      \"column\": \"Sum\",\n      \"properties\": {\n        \"dtype\": \"number\",\n        \"std\": 9621,\n        \"min\": 25098,\n        \"max\": 45452,\n        \"samples\": [\n          28645,\n          45452,\n          25647\n        ],\n        \"num_unique_values\": 4,\n        \"semantic_type\": \"\",\n        \"description\": \"\"\n      }\n    }\n  ]\n}"
            }
          },
          "metadata": {},
          "execution_count": 20
        }
      ]
    }
  ]
}