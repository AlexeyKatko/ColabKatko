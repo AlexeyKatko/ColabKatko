{
  "nbformat": 4,
  "nbformat_minor": 0,
  "metadata": {
    "colab": {
      "provenance": [],
      "authorship_tag": "ABX9TyOV+oC/6uHkaevgELuy5jBk",
      "include_colab_link": true
    },
    "kernelspec": {
      "name": "python3",
      "display_name": "Python 3"
    },
    "language_info": {
      "name": "python"
    }
  },
  "cells": [
    {
      "cell_type": "markdown",
      "metadata": {
        "id": "view-in-github",
        "colab_type": "text"
      },
      "source": [
        "<a href=\"https://colab.research.google.com/github/AlexeyKatko/ColabKatko/blob/main/%D0%A2%D0%B5%D0%BE%D1%80%D0%B8%D1%8F_%D0%B2%D0%B5%D1%80%D0%BE%D1%8F%D1%82%D0%BD%D0%BE%D1%81%D1%82%D0%B8_%D0%94%D0%BE%D0%BC%D0%B0%D1%88%D0%BD%D0%B5%D0%B5_%D0%B7%D0%B0%D0%B4%D0%B0%D0%BD%D0%B8%D0%B5_4.ipynb\" target=\"_parent\"><img src=\"https://colab.research.google.com/assets/colab-badge.svg\" alt=\"Open In Colab\"/></a>"
      ]
    },
    {
      "cell_type": "markdown",
      "source": [
        "# Урок 4. Непрерывная случайная величина"
      ],
      "metadata": {
        "id": "e5wJx4mHwUtW"
      }
    },
    {
      "cell_type": "markdown",
      "source": [
        "## Задача 1\n",
        "\n",
        "Случайная непрерывная величина A имеет равномерное распределение на промежутке (200, 800]. Найдите ее среднее значение и дисперсию."
      ],
      "metadata": {
        "id": "6YKUNxH6wjOJ"
      }
    },
    {
      "cell_type": "markdown",
      "source": [
        "### Решение 1.1\n",
        "\n",
        "Используем формулы для определения мат. ожидания и дисперсии для случайной непрерывной величины $X$, равномерно распределённой на отрезке $[a;b]$:\n",
        "\n",
        "$\\displaystyle\\text {Математическое ожидание: }M(X)=\\frac{a+b}{2}\\\\\\\\\\displaystyle\\text {Дисперсия: }D(X)=\\frac{(b-a)^2}{12}$"
      ],
      "metadata": {
        "id": "YrSDdQHow1eu"
      }
    },
    {
      "cell_type": "code",
      "execution_count": 1,
      "metadata": {
        "colab": {
          "base_uri": "https://localhost:8080/"
        },
        "id": "ZJ2gxX7QwJNk",
        "outputId": "42c1d733-306f-4809-9e8b-868d2c5ca789"
      },
      "outputs": [
        {
          "output_type": "stream",
          "name": "stdout",
          "text": [
            "На промежутке (200;800]\n",
            "Среднее значение: М(А) =  500.00\n",
            "Дисперсия: D(A) =  30000.00\n"
          ]
        }
      ],
      "source": [
        "def mean_and_variance(a,b):\n",
        "    return f'На промежутке ({a};{b}]\\nСреднее значение: М(А) = {(a+b)/2: .2f}\\nДисперсия: D(A) = {((b-a)**2)/12: .2f}'\n",
        "print(mean_and_variance(200,800))"
      ]
    },
    {
      "cell_type": "markdown",
      "source": [
        "Ответ:\n",
        "\n",
        "Среднее значение = 500\n",
        "\n",
        "Дисперсия = 30000"
      ],
      "metadata": {
        "id": "7KpWOIEeyIOQ"
      }
    },
    {
      "cell_type": "markdown",
      "source": [
        "## Задача 2\n",
        "\n",
        "О случайной непрерывной равномерно распределенной величине B известно, что ее дисперсия равна 0.2.\n",
        "\n",
        " Можно ли найти правую границу величины B и ее среднее значение зная, что левая граница равна 0.5?\n",
        "\n",
        " Если да, найдите ее."
      ],
      "metadata": {
        "id": "0NTF6JIhyZIf"
      }
    },
    {
      "cell_type": "markdown",
      "source": [
        "### Решение 2.1\n",
        "\n",
        "Зная, что дисперсия случайной непрерывной равномерно распределённой на отрезке $(a;b)$величины $B$ находится по формуле:\n",
        "\n",
        "$\\displaystyle D(B)=\\frac{(b-a)^2}{12}$\n",
        "\n",
        "И имея заданные значения $D(B)=0.2$ и $a=0.5$\n",
        "Найдем правую границу $b$ величины $B$ из уравнения  \n",
        "\n",
        "$\\displaystyle \\frac{(b-0.5)^2}{12}=0.2b-0.5=\\sqrt{2.4}b=0.5\n",
        "+\\sqrt{2.4}$\n",
        "\n",
        "И найдем среднее значение по формуле:\n",
        "\n",
        "$\\displaystyle M(B)=\\frac{a+b}{2}$"
      ],
      "metadata": {
        "id": "1n2rj706yqu2"
      }
    },
    {
      "cell_type": "code",
      "source": [
        "b=0.5+2.4**(1/2)\n",
        "print(f'Левая граница распределения величины В - b = {b: .3f}\\n'\n",
        "      f'Среднее значение В на промежутке (0.5; {b: .3f}) M(B) = {(b+0.5)/2: .3f}'\n",
        "     )\n"
      ],
      "metadata": {
        "colab": {
          "base_uri": "https://localhost:8080/"
        },
        "id": "52-bb41n0bgG",
        "outputId": "6216f07f-964d-4809-e708-f3feafaaca80"
      },
      "execution_count": 2,
      "outputs": [
        {
          "output_type": "stream",
          "name": "stdout",
          "text": [
            "Левая граница распределения величины В - b =  2.049\n",
            "Среднее значение В на промежутке (0.5;  2.049) M(B) =  1.275\n"
          ]
        }
      ]
    },
    {
      "cell_type": "markdown",
      "source": [
        "Ответ:\n",
        "\n",
        "Левая граница распределения величины =  2.049\n",
        "\n",
        "Среднее значение =  1.275"
      ],
      "metadata": {
        "id": "6agAj05R0gnv"
      }
    },
    {
      "cell_type": "markdown",
      "source": [
        "## Задача 3\n",
        "\n",
        "Непрерывная случайная величина X распределена нормально и задана плотностью распределения f(x) = (1 / (4 * sqrt(2pi))) * exp((-(x+2)**2) / 32)\n",
        "\n",
        "Найдите:\n",
        "\n",
        "а) M(X)\n",
        "\n",
        "б) D(X)\n",
        "\n",
        "в) std(X) (среднее квадратичное отклонение)"
      ],
      "metadata": {
        "id": "kzJNErc50_Cq"
      }
    },
    {
      "cell_type": "markdown",
      "source": [
        "### Решение 3.1\n",
        "\n",
        "Из общей формулы плотности нормального распределения:\n",
        "\n",
        "$\\displaystyle f(x)=\\frac{1}{\\sigma\\sqrt{2\\pi}}\\cdot e^{-\\frac{(x-a)^2}{2\\sigma^2}}$\n",
        "\n",
        "$M(X)=a=-2\\sigma = 4D(X)=\\sigma^2=\n",
        "16$"
      ],
      "metadata": {
        "id": "khyX0ByD1rTM"
      }
    },
    {
      "cell_type": "markdown",
      "source": [
        "Ответ:\n",
        "\n",
        "$M(X)= -2D(X)=16\\sigma=4$"
      ],
      "metadata": {
        "id": "eGt5m2mG269I"
      }
    },
    {
      "cell_type": "markdown",
      "source": [
        "## Задача 4\n",
        "\n",
        "Рост взрослого населения города X имеет нормальное распределение.\n",
        "Причем, средний рост равен 174 см, а среднее квадратичное отклонение равно 8 см.\n",
        "\n",
        "Какова вероятность того, что случайным образом выбранный взрослый человек имеет рост:\n",
        "\n",
        "а). больше 182 см\n",
        "\n",
        "б). больше 190 см\n",
        "\n",
        "в). от 166 см до 190 см\n",
        "\n",
        "г). от 166 см до 182 см\n",
        "\n",
        "д). от 158 см до 190 см\n",
        "\n",
        "е). не выше 150 см или не ниже 190 см\n",
        "\n",
        "ё). не выше 150 см или не ниже 198 см\n",
        "\n",
        "ж). ниже 166 см."
      ],
      "metadata": {
        "id": "VWBsyOls3V-0"
      }
    },
    {
      "cell_type": "markdown",
      "source": [
        "### Решение 4.1\n",
        "\n",
        "Напишем функцию для определения\n",
        "Z-значений для данного распределения:"
      ],
      "metadata": {
        "id": "4OWGkf-s3m66"
      }
    },
    {
      "cell_type": "code",
      "source": [
        "def z_value(height):\n",
        "    return (height-174)/8"
      ],
      "metadata": {
        "id": "HlKjpBHu4IfK"
      },
      "execution_count": 3,
      "outputs": []
    },
    {
      "cell_type": "markdown",
      "source": [
        "Для расчета значений вероятности воспользуемся калькулятором, либо методом cdf, объекта NormalDist стандартного модуля statistics"
      ],
      "metadata": {
        "id": "N_LXt1y14WQA"
      }
    },
    {
      "cell_type": "code",
      "source": [
        "from statistics import NormalDist"
      ],
      "metadata": {
        "id": "1RwQ13Dg4hn9"
      },
      "execution_count": 4,
      "outputs": []
    },
    {
      "cell_type": "markdown",
      "source": [
        "a) Определим\n",
        "Z-значениe:"
      ],
      "metadata": {
        "id": "NsqE1_ij4phI"
      }
    },
    {
      "cell_type": "code",
      "source": [
        "print(z_value(182))"
      ],
      "metadata": {
        "colab": {
          "base_uri": "https://localhost:8080/"
        },
        "id": "3rOw7jfT4tBW",
        "outputId": "1a537f7d-3308-4cec-a549-c890f1e7c2c8"
      },
      "execution_count": 5,
      "outputs": [
        {
          "output_type": "stream",
          "name": "stdout",
          "text": [
            "1.0\n"
          ]
        }
      ]
    },
    {
      "cell_type": "markdown",
      "source": [
        "метод cdf определяет вероятность того, что случайная величина X будет меньше или равна x, т.е в данном случае $P(X\\le182)$"
      ],
      "metadata": {
        "id": "3VdPnqCO5C2E"
      }
    },
    {
      "cell_type": "code",
      "source": [
        "NormalDist().cdf(z_value(182))"
      ],
      "metadata": {
        "colab": {
          "base_uri": "https://localhost:8080/"
        },
        "id": "kb583nEa5LO0",
        "outputId": "df1f25b2-3796-4f78-a772-2f610606db25"
      },
      "execution_count": 6,
      "outputs": [
        {
          "output_type": "execute_result",
          "data": {
            "text/plain": [
              "0.8413447460685429"
            ]
          },
          "metadata": {},
          "execution_count": 6
        }
      ]
    },
    {
      "cell_type": "markdown",
      "source": [
        " Однако нам нужна вероятность $P(X\\ge182)$, поэтому вычтем полученное значение из $1$:"
      ],
      "metadata": {
        "id": "igeV_Pof5gzx"
      }
    },
    {
      "cell_type": "code",
      "source": [
        "P=1-NormalDist().cdf(z_value(182))\n",
        "P"
      ],
      "metadata": {
        "colab": {
          "base_uri": "https://localhost:8080/"
        },
        "id": "ZA9JH7It5smh",
        "outputId": "41c05c5e-76fd-423b-978b-439f4740b977"
      },
      "execution_count": 7,
      "outputs": [
        {
          "output_type": "execute_result",
          "data": {
            "text/plain": [
              "0.15865525393145707"
            ]
          },
          "metadata": {},
          "execution_count": 7
        }
      ]
    },
    {
      "cell_type": "markdown",
      "source": [
        "$P(X\\ge182)$=0.1587"
      ],
      "metadata": {
        "id": "Fum4S2-t56fH"
      }
    },
    {
      "cell_type": "markdown",
      "source": [
        "#### Решение 4.2\n",
        "\n",
        "Определим\n",
        "Z-значениe:"
      ],
      "metadata": {
        "id": "rVA6XehH6Bst"
      }
    },
    {
      "cell_type": "code",
      "source": [
        "z=z_value(190)\n",
        "z"
      ],
      "metadata": {
        "colab": {
          "base_uri": "https://localhost:8080/"
        },
        "id": "vlIGw-SE6QZT",
        "outputId": "993ddb40-c3d8-4a04-866b-b2578fe4aa02"
      },
      "execution_count": 8,
      "outputs": [
        {
          "output_type": "execute_result",
          "data": {
            "text/plain": [
              "2.0"
            ]
          },
          "metadata": {},
          "execution_count": 8
        }
      ]
    },
    {
      "cell_type": "markdown",
      "source": [
        "Определим $P(X\\ge190)$"
      ],
      "metadata": {
        "id": "e3ISvnoe6nbh"
      }
    },
    {
      "cell_type": "code",
      "source": [
        "P=1-NormalDist().cdf(z)\n",
        "P"
      ],
      "metadata": {
        "colab": {
          "base_uri": "https://localhost:8080/"
        },
        "id": "m4bsE-nn6qzF",
        "outputId": "cb5c685d-6133-4334-a613-56b2a2bb97a0"
      },
      "execution_count": 9,
      "outputs": [
        {
          "output_type": "execute_result",
          "data": {
            "text/plain": [
              "0.02275013194817921"
            ]
          },
          "metadata": {},
          "execution_count": 9
        }
      ]
    },
    {
      "cell_type": "markdown",
      "source": [
        "$P(X\\ge190)$=0.02275"
      ],
      "metadata": {
        "id": "TzGh0fWH629o"
      }
    },
    {
      "cell_type": "markdown",
      "source": [
        "##### Решение 4.3\n",
        "\n",
        "Определим $Z_1$ и $Z_2$"
      ],
      "metadata": {
        "id": "JUuGvQyj7CL4"
      }
    },
    {
      "cell_type": "code",
      "source": [
        "z1=z_value(166)\n",
        "z1"
      ],
      "metadata": {
        "colab": {
          "base_uri": "https://localhost:8080/"
        },
        "id": "4oBQCzyH7lGr",
        "outputId": "002bf5e4-7d23-433b-e7b6-107476589d85"
      },
      "execution_count": 10,
      "outputs": [
        {
          "output_type": "execute_result",
          "data": {
            "text/plain": [
              "-1.0"
            ]
          },
          "metadata": {},
          "execution_count": 10
        }
      ]
    },
    {
      "cell_type": "code",
      "source": [
        "z2=z_value(190)\n",
        "z2"
      ],
      "metadata": {
        "colab": {
          "base_uri": "https://localhost:8080/"
        },
        "id": "-xaDSqPe7sQe",
        "outputId": "cd69b910-3df3-4012-c7cb-62fd476360d6"
      },
      "execution_count": 11,
      "outputs": [
        {
          "output_type": "execute_result",
          "data": {
            "text/plain": [
              "2.0"
            ]
          },
          "metadata": {},
          "execution_count": 11
        }
      ]
    },
    {
      "cell_type": "markdown",
      "source": [
        "Определим $P(166\\le X\\le 190)$"
      ],
      "metadata": {
        "id": "jjmQjFcm8CJX"
      }
    },
    {
      "cell_type": "code",
      "source": [
        "P=NormalDist().cdf(z2)-NormalDist().cdf(z1)\n",
        "P"
      ],
      "metadata": {
        "colab": {
          "base_uri": "https://localhost:8080/"
        },
        "id": "F5xJqq-P8IVk",
        "outputId": "0743da35-8f2e-4507-8cfc-e939b96f449a"
      },
      "execution_count": 12,
      "outputs": [
        {
          "output_type": "execute_result",
          "data": {
            "text/plain": [
              "0.8185946141203637"
            ]
          },
          "metadata": {},
          "execution_count": 12
        }
      ]
    },
    {
      "cell_type": "markdown",
      "source": [
        "$P(166\\le X\\le 190)$=0.8186"
      ],
      "metadata": {
        "id": "GF8wvK8v8WdG"
      }
    },
    {
      "cell_type": "markdown",
      "source": [
        "###### Решение 4.4\n",
        "\n",
        "Определим $Z_1$ и $Z_2$"
      ],
      "metadata": {
        "id": "Uswfb_nH8md1"
      }
    },
    {
      "cell_type": "code",
      "source": [
        "z1=z_value(166)\n",
        "z1"
      ],
      "metadata": {
        "colab": {
          "base_uri": "https://localhost:8080/"
        },
        "id": "LXrMIStN85XS",
        "outputId": "df9694ba-6364-492e-9850-d7cb13d8a8bf"
      },
      "execution_count": 13,
      "outputs": [
        {
          "output_type": "execute_result",
          "data": {
            "text/plain": [
              "-1.0"
            ]
          },
          "metadata": {},
          "execution_count": 13
        }
      ]
    },
    {
      "cell_type": "code",
      "source": [
        "z2=z_value(182)\n",
        "z2"
      ],
      "metadata": {
        "colab": {
          "base_uri": "https://localhost:8080/"
        },
        "id": "3a87UPkM9Dyn",
        "outputId": "04a7c41d-1512-42e8-fd66-5b4c5438ea34"
      },
      "execution_count": 14,
      "outputs": [
        {
          "output_type": "execute_result",
          "data": {
            "text/plain": [
              "1.0"
            ]
          },
          "metadata": {},
          "execution_count": 14
        }
      ]
    },
    {
      "cell_type": "markdown",
      "source": [
        "Определим $P(166\\le X\\le 182)$"
      ],
      "metadata": {
        "id": "_E6KDDB79XZg"
      }
    },
    {
      "cell_type": "code",
      "source": [
        "P=NormalDist().cdf(z2)-NormalDist().cdf(z1)\n",
        "P"
      ],
      "metadata": {
        "colab": {
          "base_uri": "https://localhost:8080/"
        },
        "id": "sNo1Ae0H-IsN",
        "outputId": "aeffce7d-86ec-4e8f-ef28-97ae750812b5"
      },
      "execution_count": 15,
      "outputs": [
        {
          "output_type": "execute_result",
          "data": {
            "text/plain": [
              "0.6826894921370859"
            ]
          },
          "metadata": {},
          "execution_count": 15
        }
      ]
    },
    {
      "cell_type": "markdown",
      "source": [
        "$P(166\\le X\\le 182)$=0.6827"
      ],
      "metadata": {
        "id": "i6D4fnlZ-YaT"
      }
    },
    {
      "cell_type": "markdown",
      "source": [
        "###### Решение 4.5"
      ],
      "metadata": {
        "id": "U77CdJaH-fnA"
      }
    },
    {
      "cell_type": "markdown",
      "source": [
        "Определим $Z_1$ и $Z_2$"
      ],
      "metadata": {
        "id": "o6lp_cDZ-9Kq"
      }
    },
    {
      "cell_type": "code",
      "source": [
        "z1=z_value(158)\n",
        "z1"
      ],
      "metadata": {
        "colab": {
          "base_uri": "https://localhost:8080/"
        },
        "id": "mlKhoYYQ_NAU",
        "outputId": "fe4388ad-6dd8-47a5-9633-ef5056d2c349"
      },
      "execution_count": 16,
      "outputs": [
        {
          "output_type": "execute_result",
          "data": {
            "text/plain": [
              "-2.0"
            ]
          },
          "metadata": {},
          "execution_count": 16
        }
      ]
    },
    {
      "cell_type": "code",
      "source": [
        "z2=z_value(190)\n",
        "z2"
      ],
      "metadata": {
        "colab": {
          "base_uri": "https://localhost:8080/"
        },
        "id": "_y6bOj4Z_RCS",
        "outputId": "1ff557bf-686c-4c6d-af49-33540e4b41db"
      },
      "execution_count": 17,
      "outputs": [
        {
          "output_type": "execute_result",
          "data": {
            "text/plain": [
              "2.0"
            ]
          },
          "metadata": {},
          "execution_count": 17
        }
      ]
    },
    {
      "cell_type": "markdown",
      "source": [
        "Определим $P(158\\le X\\le 190)$"
      ],
      "metadata": {
        "id": "mwPKW8Ym_b4Q"
      }
    },
    {
      "cell_type": "code",
      "source": [
        "P=NormalDist().cdf(z2)-NormalDist().cdf(z1)\n",
        "P"
      ],
      "metadata": {
        "colab": {
          "base_uri": "https://localhost:8080/"
        },
        "id": "2gVykJ_B_gbp",
        "outputId": "abf44441-0312-4a95-8e41-d48d351957d8"
      },
      "execution_count": 18,
      "outputs": [
        {
          "output_type": "execute_result",
          "data": {
            "text/plain": [
              "0.9544997361036416"
            ]
          },
          "metadata": {},
          "execution_count": 18
        }
      ]
    },
    {
      "cell_type": "markdown",
      "source": [
        "$P(158\\le X\\le 190)$=0.9545"
      ],
      "metadata": {
        "id": "0aXlcoFG_orK"
      }
    },
    {
      "cell_type": "markdown",
      "source": [
        "###### Решение 4.6"
      ],
      "metadata": {
        "id": "pXpL0Jac_woN"
      }
    },
    {
      "cell_type": "markdown",
      "source": [
        "Определим $Z_1$ и $Z_2$"
      ],
      "metadata": {
        "id": "AtEnHyS5_20M"
      }
    },
    {
      "cell_type": "code",
      "source": [
        "z1=z_value(150)\n",
        "z1"
      ],
      "metadata": {
        "colab": {
          "base_uri": "https://localhost:8080/"
        },
        "id": "7iPPEEE3AMD2",
        "outputId": "64308206-09db-4a4f-a428-cc8412fff8fa"
      },
      "execution_count": 19,
      "outputs": [
        {
          "output_type": "execute_result",
          "data": {
            "text/plain": [
              "-3.0"
            ]
          },
          "metadata": {},
          "execution_count": 19
        }
      ]
    },
    {
      "cell_type": "code",
      "source": [
        "z2=z_value(190)\n",
        "z2"
      ],
      "metadata": {
        "colab": {
          "base_uri": "https://localhost:8080/"
        },
        "id": "TE173vkgAS5Y",
        "outputId": "ea5a3b2d-4ddc-4589-e3b8-8bd87307607e"
      },
      "execution_count": 20,
      "outputs": [
        {
          "output_type": "execute_result",
          "data": {
            "text/plain": [
              "2.0"
            ]
          },
          "metadata": {},
          "execution_count": 20
        }
      ]
    },
    {
      "cell_type": "markdown",
      "source": [
        "Определим $P(X\\le150\\cup X\\ge 190)$"
      ],
      "metadata": {
        "id": "C_-CuQO9AeZF"
      }
    },
    {
      "cell_type": "code",
      "source": [
        "P=NormalDist().cdf(z1)+(1-NormalDist().cdf(z2))\n",
        "P"
      ],
      "metadata": {
        "colab": {
          "base_uri": "https://localhost:8080/"
        },
        "id": "77lLOjGeApyJ",
        "outputId": "c907ae71-b622-4471-967b-2b1be5070410"
      },
      "execution_count": 21,
      "outputs": [
        {
          "output_type": "execute_result",
          "data": {
            "text/plain": [
              "0.024100029979809312"
            ]
          },
          "metadata": {},
          "execution_count": 21
        }
      ]
    },
    {
      "cell_type": "markdown",
      "source": [
        "$P(X\\le150\\cup X\\ge 190)$=0.0241"
      ],
      "metadata": {
        "id": "l76_4mTcAvte"
      }
    },
    {
      "cell_type": "markdown",
      "source": [
        "###### Решение 4.7\n",
        "\n",
        "Опредилим $Z_1$ и $Z_2$"
      ],
      "metadata": {
        "id": "dpl4PnXAA4yL"
      }
    },
    {
      "cell_type": "code",
      "source": [
        "z1=z_value(150)\n",
        "z1"
      ],
      "metadata": {
        "colab": {
          "base_uri": "https://localhost:8080/"
        },
        "id": "8eDJWrgfBLDy",
        "outputId": "27aa4c17-fb7e-4aae-ac14-b501c5c299fa"
      },
      "execution_count": 22,
      "outputs": [
        {
          "output_type": "execute_result",
          "data": {
            "text/plain": [
              "-3.0"
            ]
          },
          "metadata": {},
          "execution_count": 22
        }
      ]
    },
    {
      "cell_type": "code",
      "source": [
        "z2=z_value(198)\n",
        "z2"
      ],
      "metadata": {
        "colab": {
          "base_uri": "https://localhost:8080/"
        },
        "id": "9DX40aA_BOal",
        "outputId": "4c113a0c-a78c-46e9-d8ca-5006471e6312"
      },
      "execution_count": 23,
      "outputs": [
        {
          "output_type": "execute_result",
          "data": {
            "text/plain": [
              "3.0"
            ]
          },
          "metadata": {},
          "execution_count": 23
        }
      ]
    },
    {
      "cell_type": "markdown",
      "source": [
        "Определим $P(X\\le150\\cup X\\ge 198)$"
      ],
      "metadata": {
        "id": "kMLupdabBjru"
      }
    },
    {
      "cell_type": "code",
      "source": [
        "P=NormalDist().cdf(z1)+(1-NormalDist().cdf(z2))\n",
        "P"
      ],
      "metadata": {
        "colab": {
          "base_uri": "https://localhost:8080/"
        },
        "id": "ZIS-qwwiBrON",
        "outputId": "60a6a7ea-b953-4924-fa25-52271bf98cec"
      },
      "execution_count": 24,
      "outputs": [
        {
          "output_type": "execute_result",
          "data": {
            "text/plain": [
              "0.002699796063260207"
            ]
          },
          "metadata": {},
          "execution_count": 24
        }
      ]
    },
    {
      "cell_type": "markdown",
      "source": [
        "$P(X\\le150\\cup X\\ge 198)$=0.0027"
      ],
      "metadata": {
        "id": "CDI0iBtXBvWw"
      }
    },
    {
      "cell_type": "markdown",
      "source": [
        "###### Решение 4.8\n",
        "\n",
        "Определим Z-значениe:"
      ],
      "metadata": {
        "id": "cFvfxWcAB5rI"
      }
    },
    {
      "cell_type": "code",
      "source": [
        "z=z_value(166)\n",
        "z"
      ],
      "metadata": {
        "colab": {
          "base_uri": "https://localhost:8080/"
        },
        "id": "eE9BBtiJCGSk",
        "outputId": "b88c4c37-cb75-4977-886c-cebdf162aec0"
      },
      "execution_count": 25,
      "outputs": [
        {
          "output_type": "execute_result",
          "data": {
            "text/plain": [
              "-1.0"
            ]
          },
          "metadata": {},
          "execution_count": 25
        }
      ]
    },
    {
      "cell_type": "markdown",
      "source": [
        "Определим $P(X\\le166)$"
      ],
      "metadata": {
        "id": "wfUk64b1CPGo"
      }
    },
    {
      "cell_type": "code",
      "source": [
        "P=NormalDist().cdf(z)\n",
        "P"
      ],
      "metadata": {
        "colab": {
          "base_uri": "https://localhost:8080/"
        },
        "id": "bXr7gJzBCg-Z",
        "outputId": "26de51fa-f372-4af7-dbbc-2ce5264a21a9"
      },
      "execution_count": 26,
      "outputs": [
        {
          "output_type": "execute_result",
          "data": {
            "text/plain": [
              "0.15865525393145707"
            ]
          },
          "metadata": {},
          "execution_count": 26
        }
      ]
    },
    {
      "cell_type": "markdown",
      "source": [
        "$P(X\\le166)$=0.1587\n"
      ],
      "metadata": {
        "id": "dpDx91FJCr0k"
      }
    },
    {
      "cell_type": "markdown",
      "source": [
        "###### Ответ\n",
        "\n",
        "Вероятность того, что случайным образом выбранный взрослый человек имеет рост:\n",
        "\n",
        "а). больше 182 см = 0.1587\n",
        "\n",
        "б). больше 190 см = 0.02275\n",
        "\n",
        "в). от 166 см до 190 см = 0.8186\n",
        "\n",
        "г). от 166 см до 182 см = 0.6827\n",
        "\n",
        "д). от 158 см до 190 см = 0.9545\n",
        "\n",
        "е). не выше 150 см или не ниже 190 см = 0.0241\n",
        "\n",
        "ё). не выше 150 см или не ниже 198 см = 0.0027\n",
        "\n",
        "ж). ниже 166 см. = 0.1587"
      ],
      "metadata": {
        "id": "DAH_nbwhC5lL"
      }
    },
    {
      "cell_type": "markdown",
      "source": [
        "## Задача 5\n",
        "\n",
        "На сколько сигм (средних квадратичных отклонений) отклоняется рост человека, равный 190 см, от математического ожидания роста в популяции, в которой M(X) = 178 см и D(X) = 25 кв.см?"
      ],
      "metadata": {
        "id": "j5i0XWix3zCI"
      }
    },
    {
      "cell_type": "markdown",
      "source": [
        "### Решение 5.1\n",
        "\n",
        "Воспользуемся формулой расчета $Z$-оценки:\n",
        "\n",
        "$\\displaystyle Z=\\frac{X-\\bar x}{\\sigma}=\\frac{190-178}{\\sqrt{25}}=\\frac{12}{5}$"
      ],
      "metadata": {
        "id": "tRkZWD2ZEbc8"
      }
    },
    {
      "cell_type": "code",
      "source": [
        "Z=(190-178)/25**(1/2)\n",
        "Z"
      ],
      "metadata": {
        "colab": {
          "base_uri": "https://localhost:8080/"
        },
        "id": "pKY-aMe4FDBp",
        "outputId": "d1700c38-d34c-4fe3-9f39-dccdebc4d379"
      },
      "execution_count": 27,
      "outputs": [
        {
          "output_type": "execute_result",
          "data": {
            "text/plain": [
              "2.4"
            ]
          },
          "metadata": {},
          "execution_count": 27
        }
      ]
    },
    {
      "cell_type": "code",
      "source": [
        "print(f'Рост человека, равный 190 см, отклоняется от математического ожидания роста в популяции, \\n'\n",
        "      f'в которой M(X) = 178 см и D(X) = 25 кв.см на Z = {Z} сигм.')"
      ],
      "metadata": {
        "colab": {
          "base_uri": "https://localhost:8080/"
        },
        "id": "xpg4Wb7YFHwf",
        "outputId": "308c7d6e-0a22-44a1-a1c5-a525b7941093"
      },
      "execution_count": 28,
      "outputs": [
        {
          "output_type": "stream",
          "name": "stdout",
          "text": [
            "Рост человека, равный 190 см, отклоняется от математического ожидания роста в популяции, \n",
            "в которой M(X) = 178 см и D(X) = 25 кв.см на Z = 2.4 сигм.\n"
          ]
        }
      ]
    },
    {
      "cell_type": "markdown",
      "source": [
        "Ответ:\n",
        "\n",
        "на 2.4 сигмы"
      ],
      "metadata": {
        "id": "Vb3CqL9kFLvM"
      }
    }
  ]
}